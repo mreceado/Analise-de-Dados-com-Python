{
 "cells": [
  {
   "cell_type": "markdown",
   "id": "1cecc738-757c-4cca-9790-1962c21017d1",
   "metadata": {},
   "source": [
    "## <font color='blue'>Fundamentos de Linguagem Python Para Análise de Dados e Data Science</font>"
   ]
  },
  {
   "cell_type": "markdown",
   "id": "d6cb76b5",
   "metadata": {},
   "source": [
    "### Dicionários"
   ]
  },
  {
   "cell_type": "code",
   "execution_count": 1,
   "id": "b6faed0f",
   "metadata": {},
   "outputs": [],
   "source": [
    "estudantes_dict = {\"Maria\": 20, \"João\": 30, \"António\": 40, \"Victória\": 50}"
   ]
  },
  {
   "cell_type": "code",
   "execution_count": 2,
   "id": "bce4e5a4",
   "metadata": {},
   "outputs": [
    {
     "data": {
      "text/plain": [
       "{'Maria': 20, 'João': 30, 'António': 40, 'Victória': 50}"
      ]
     },
     "execution_count": 2,
     "metadata": {},
     "output_type": "execute_result"
    }
   ],
   "source": [
    "estudantes_dict"
   ]
  },
  {
   "cell_type": "code",
   "execution_count": 3,
   "id": "a31286ae",
   "metadata": {},
   "outputs": [
    {
     "data": {
      "text/plain": [
       "30"
      ]
     },
     "execution_count": 3,
     "metadata": {},
     "output_type": "execute_result"
    }
   ],
   "source": [
    "# Imprime valor do João\n",
    "estudantes_dict[\"João\"]"
   ]
  },
  {
   "cell_type": "code",
   "execution_count": 4,
   "id": "9eb6dc7e",
   "metadata": {},
   "outputs": [
    {
     "data": {
      "text/plain": [
       "50"
      ]
     },
     "execution_count": 4,
     "metadata": {},
     "output_type": "execute_result"
    }
   ],
   "source": [
    "# Imprime valor da Victória\n",
    "estudantes_dict[\"Victória\"]"
   ]
  },
  {
   "cell_type": "code",
   "execution_count": 5,
   "id": "4b5e2eff",
   "metadata": {},
   "outputs": [],
   "source": [
    "# Acrescenta chave e valor ao dicionário\n",
    "estudantes_dict[\"Paulo\"] = 60"
   ]
  },
  {
   "cell_type": "code",
   "execution_count": 6,
   "id": "c76c4be8",
   "metadata": {},
   "outputs": [
    {
     "data": {
      "text/plain": [
       "{'Maria': 20, 'João': 30, 'António': 40, 'Victória': 50, 'Paulo': 60}"
      ]
     },
     "execution_count": 6,
     "metadata": {},
     "output_type": "execute_result"
    }
   ],
   "source": [
    "estudantes_dict"
   ]
  },
  {
   "cell_type": "code",
   "execution_count": 7,
   "id": "c3b4de2b",
   "metadata": {},
   "outputs": [],
   "source": [
    "# Elimina todo o conteúdo do dicionário\n",
    "estudantes_dict.clear()"
   ]
  },
  {
   "cell_type": "code",
   "execution_count": 8,
   "id": "42191a52",
   "metadata": {},
   "outputs": [
    {
     "data": {
      "text/plain": [
       "{}"
      ]
     },
     "execution_count": 8,
     "metadata": {},
     "output_type": "execute_result"
    }
   ],
   "source": [
    "estudantes_dict"
   ]
  },
  {
   "cell_type": "code",
   "execution_count": 9,
   "id": "053ea328",
   "metadata": {},
   "outputs": [],
   "source": [
    "# Elimina o dicionário da memória do computador\n",
    "del estudantes_dict"
   ]
  },
  {
   "cell_type": "code",
   "execution_count": 10,
   "id": "523bfc5a",
   "metadata": {},
   "outputs": [
    {
     "ename": "NameError",
     "evalue": "name 'estudantes_dict' is not defined",
     "output_type": "error",
     "traceback": [
      "\u001b[1;31m---------------------------------------------------------------------------\u001b[0m",
      "\u001b[1;31mNameError\u001b[0m                                 Traceback (most recent call last)",
      "Cell \u001b[1;32mIn[10], line 1\u001b[0m\n\u001b[1;32m----> 1\u001b[0m \u001b[43mestudantes_dict\u001b[49m\n",
      "\u001b[1;31mNameError\u001b[0m: name 'estudantes_dict' is not defined"
     ]
    }
   ],
   "source": [
    "estudantes_dict"
   ]
  },
  {
   "cell_type": "code",
   "execution_count": 14,
   "id": "a3b4b29d",
   "metadata": {},
   "outputs": [],
   "source": [
    "estudantes_dict = {\"Maria\": 20, \"João\": 30, \"António\": 40, \"Victória\": 50}"
   ]
  },
  {
   "cell_type": "code",
   "execution_count": 15,
   "id": "4b4813cd",
   "metadata": {},
   "outputs": [
    {
     "data": {
      "text/plain": [
       "{'Maria': 20, 'João': 30, 'António': 40, 'Victória': 50}"
      ]
     },
     "execution_count": 15,
     "metadata": {},
     "output_type": "execute_result"
    }
   ],
   "source": [
    "estudantes_dict"
   ]
  },
  {
   "cell_type": "code",
   "execution_count": 16,
   "id": "b9b7bba8",
   "metadata": {},
   "outputs": [
    {
     "data": {
      "text/plain": [
       "4"
      ]
     },
     "execution_count": 16,
     "metadata": {},
     "output_type": "execute_result"
    }
   ],
   "source": [
    "# retorna o comprimento do dicionário\n",
    "len(estudantes_dict)"
   ]
  },
  {
   "cell_type": "code",
   "execution_count": 17,
   "id": "42e7b225",
   "metadata": {},
   "outputs": [
    {
     "data": {
      "text/plain": [
       "dict_keys(['Maria', 'João', 'António', 'Victória'])"
      ]
     },
     "execution_count": 17,
     "metadata": {},
     "output_type": "execute_result"
    }
   ],
   "source": [
    "# retorna as chaves do dicionário\n",
    "estudantes_dict.keys()"
   ]
  },
  {
   "cell_type": "code",
   "execution_count": 18,
   "id": "ced27a45",
   "metadata": {},
   "outputs": [
    {
     "data": {
      "text/plain": [
       "dict_values([20, 30, 40, 50])"
      ]
     },
     "execution_count": 18,
     "metadata": {},
     "output_type": "execute_result"
    }
   ],
   "source": [
    "# retorna os valores do dicionário\n",
    "estudantes_dict.values()"
   ]
  },
  {
   "cell_type": "code",
   "execution_count": 19,
   "id": "b97f3f01",
   "metadata": {},
   "outputs": [
    {
     "data": {
      "text/plain": [
       "dict_items([('Maria', 20), ('João', 30), ('António', 40), ('Victória', 50)])"
      ]
     },
     "execution_count": 19,
     "metadata": {},
     "output_type": "execute_result"
    }
   ],
   "source": [
    "estudantes_dict.items()"
   ]
  },
  {
   "cell_type": "code",
   "execution_count": 20,
   "id": "097299d7",
   "metadata": {},
   "outputs": [],
   "source": [
    "estudantes_dict2 = {\"Camila\": 60, \"Jorge\":70}"
   ]
  },
  {
   "cell_type": "code",
   "execution_count": 21,
   "id": "f4592fe2",
   "metadata": {},
   "outputs": [
    {
     "data": {
      "text/plain": [
       "{'Camila': 60, 'Jorge': 70}"
      ]
     },
     "execution_count": 21,
     "metadata": {},
     "output_type": "execute_result"
    }
   ],
   "source": [
    "estudantes_dict2"
   ]
  },
  {
   "cell_type": "code",
   "execution_count": 22,
   "id": "cc9aae39",
   "metadata": {},
   "outputs": [],
   "source": [
    "# Adicionar elementos do dicionário2 ao dicionário1\n",
    "estudantes_dict.update(estudantes_dict2)"
   ]
  },
  {
   "cell_type": "code",
   "execution_count": 23,
   "id": "96d29bca",
   "metadata": {
    "scrolled": true
   },
   "outputs": [
    {
     "data": {
      "text/plain": [
       "{'Maria': 20,\n",
       " 'João': 30,\n",
       " 'António': 40,\n",
       " 'Victória': 50,\n",
       " 'Camila': 60,\n",
       " 'Jorge': 70}"
      ]
     },
     "execution_count": 23,
     "metadata": {},
     "output_type": "execute_result"
    }
   ],
   "source": [
    "estudantes_dict"
   ]
  },
  {
   "cell_type": "code",
   "execution_count": 24,
   "id": "4807e48e",
   "metadata": {},
   "outputs": [
    {
     "name": "stdout",
     "output_type": "stream",
     "text": [
      "\n",
      "\n"
     ]
    }
   ],
   "source": [
    "print(\"\\n\")"
   ]
  },
  {
   "cell_type": "code",
   "execution_count": 25,
   "id": "f92232f1",
   "metadata": {},
   "outputs": [],
   "source": [
    "# Dicionário de listas\n",
    "dict3 = {\"chave1\":1230, \"chave2\":[22,453,73.4], \"chave3\":['picanha', 'fraldinha', 'alcatra']}"
   ]
  },
  {
   "cell_type": "code",
   "execution_count": 26,
   "id": "85d81276",
   "metadata": {},
   "outputs": [
    {
     "data": {
      "text/plain": [
       "{'chave1': 1230,\n",
       " 'chave2': [22, 453, 73.4],\n",
       " 'chave3': ['picanha', 'fraldinha', 'alcatra']}"
      ]
     },
     "execution_count": 26,
     "metadata": {},
     "output_type": "execute_result"
    }
   ],
   "source": [
    "dict3"
   ]
  },
  {
   "cell_type": "code",
   "execution_count": 27,
   "id": "62108fdb",
   "metadata": {},
   "outputs": [
    {
     "data": {
      "text/plain": [
       "[22, 453, 73.4]"
      ]
     },
     "execution_count": 27,
     "metadata": {},
     "output_type": "execute_result"
    }
   ],
   "source": [
    "dict3['chave2']"
   ]
  },
  {
   "cell_type": "code",
   "execution_count": 28,
   "id": "4bedee6a",
   "metadata": {},
   "outputs": [
    {
     "data": {
      "text/plain": [
       "'alcatra'"
      ]
     },
     "execution_count": 28,
     "metadata": {},
     "output_type": "execute_result"
    }
   ],
   "source": [
    "dict3['chave3'][2]"
   ]
  },
  {
   "cell_type": "code",
   "execution_count": 29,
   "id": "0dd601a3",
   "metadata": {},
   "outputs": [
    {
     "data": {
      "text/plain": [
       "'FRALDINHA'"
      ]
     },
     "execution_count": 29,
     "metadata": {},
     "output_type": "execute_result"
    }
   ],
   "source": [
    "dict3['chave3'][1].upper()"
   ]
  },
  {
   "cell_type": "code",
   "execution_count": 30,
   "id": "c7a34b63",
   "metadata": {},
   "outputs": [],
   "source": [
    "dict3['chave2'][1] -= 10"
   ]
  },
  {
   "cell_type": "code",
   "execution_count": 31,
   "id": "db2d1921",
   "metadata": {},
   "outputs": [
    {
     "data": {
      "text/plain": [
       "{'chave1': 1230,\n",
       " 'chave2': [22, 443, 73.4],\n",
       " 'chave3': ['picanha', 'fraldinha', 'alcatra']}"
      ]
     },
     "execution_count": 31,
     "metadata": {},
     "output_type": "execute_result"
    }
   ],
   "source": [
    "dict3"
   ]
  },
  {
   "cell_type": "code",
   "execution_count": 32,
   "id": "92d76e9b",
   "metadata": {},
   "outputs": [
    {
     "name": "stdout",
     "output_type": "stream",
     "text": [
      "\n",
      "\n"
     ]
    }
   ],
   "source": [
    "print(\"\\n\")"
   ]
  },
  {
   "cell_type": "markdown",
   "id": "b8bac0c7",
   "metadata": {},
   "source": [
    "### Dicionários Aninhados"
   ]
  },
  {
   "cell_type": "code",
   "execution_count": 33,
   "id": "051853b3",
   "metadata": {},
   "outputs": [],
   "source": [
    "# Criando dicionários aninhados\n",
    "dict_aninhado = {\"key1\": {\"key2\": {\"key3\": \"Dict aninhado em Python\"}}}"
   ]
  },
  {
   "cell_type": "code",
   "execution_count": 34,
   "id": "3bc8dad7",
   "metadata": {},
   "outputs": [
    {
     "data": {
      "text/plain": [
       "{'key1': {'key2': {'key3': 'Dict aninhado em Python'}}}"
      ]
     },
     "execution_count": 34,
     "metadata": {},
     "output_type": "execute_result"
    }
   ],
   "source": [
    "dict_aninhado"
   ]
  },
  {
   "cell_type": "code",
   "execution_count": 35,
   "id": "973a2649",
   "metadata": {},
   "outputs": [
    {
     "data": {
      "text/plain": [
       "dict_items([('key1', {'key2': {'key3': 'Dict aninhado em Python'}})])"
      ]
     },
     "execution_count": 35,
     "metadata": {},
     "output_type": "execute_result"
    }
   ],
   "source": [
    "dict_aninhado.items()"
   ]
  },
  {
   "cell_type": "code",
   "execution_count": 36,
   "id": "a8e149d0",
   "metadata": {},
   "outputs": [
    {
     "data": {
      "text/plain": [
       "dict_keys(['key1'])"
      ]
     },
     "execution_count": 36,
     "metadata": {},
     "output_type": "execute_result"
    }
   ],
   "source": [
    "dict_aninhado.keys()"
   ]
  },
  {
   "cell_type": "code",
   "execution_count": 37,
   "id": "814a414a",
   "metadata": {},
   "outputs": [
    {
     "data": {
      "text/plain": [
       "dict_values([{'key2': {'key3': 'Dict aninhado em Python'}}])"
      ]
     },
     "execution_count": 37,
     "metadata": {},
     "output_type": "execute_result"
    }
   ],
   "source": [
    "dict_aninhado.values()"
   ]
  },
  {
   "cell_type": "code",
   "execution_count": null,
   "id": "0e06fabd",
   "metadata": {},
   "outputs": [],
   "source": []
  }
 ],
 "metadata": {
  "kernelspec": {
   "display_name": "Python 3 (ipykernel)",
   "language": "python",
   "name": "python3"
  },
  "language_info": {
   "codemirror_mode": {
    "name": "ipython",
    "version": 3
   },
   "file_extension": ".py",
   "mimetype": "text/x-python",
   "name": "python",
   "nbconvert_exporter": "python",
   "pygments_lexer": "ipython3",
   "version": "3.11.6"
  }
 },
 "nbformat": 4,
 "nbformat_minor": 5
}
