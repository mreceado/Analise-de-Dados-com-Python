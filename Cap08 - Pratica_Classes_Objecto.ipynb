{
 "cells": [
  {
   "cell_type": "markdown",
   "id": "92913612-8931-4f5a-bc99-2e05773c3b94",
   "metadata": {},
   "source": [
    "## <font color='blue'>Fundamentos de Linguagem Python Para Análise de Dados e Data Science</font>"
   ]
  },
  {
   "cell_type": "markdown",
   "id": "0d9d5dcd",
   "metadata": {},
   "source": [
    "### Classes"
   ]
  },
  {
   "cell_type": "code",
   "execution_count": 1,
   "id": "2e2fa295",
   "metadata": {},
   "outputs": [],
   "source": [
    "# Criando uma classe chamada livro\n",
    "\n",
    "class Livro():\n",
    "    \n",
    "    # O método __init__ é o método que vai inicializar cada objecto a partir desta classe\n",
    "    # (self) é uma referência a cada atributo da própria classe\n",
    "    \n",
    "    def __init__(self):\n",
    "        \n",
    "        # Atributos são propriedades\n",
    "        self.titulo = \"Sapiens - Uma Breve História da Humanidade\"\n",
    "        self.isbn = 9988888\n",
    "        print(\"Construtor chamado para criar um objecto desta classe. \")\n",
    "        \n",
    "    # Métodos são funções que executam acções nos objectos da classe\n",
    "    def imprime(self):\n",
    "        print(\"Foi criado o livro %s com o isbn %d\" %(self.titulo, self.isbn))\n",
    "    "
   ]
  },
  {
   "cell_type": "markdown",
   "id": "b682e84d",
   "metadata": {},
   "source": [
    "Em Python, a palavra reservada self é uma referência ao objeto atual da classe. Quando um objeto é criado a partir de uma classe, self é utilizado para se referir a esse objeto específico."
   ]
  },
  {
   "cell_type": "code",
   "execution_count": 2,
   "id": "0b6fb697",
   "metadata": {},
   "outputs": [
    {
     "name": "stdout",
     "output_type": "stream",
     "text": [
      "Construtor chamado para criar um objecto desta classe. \n"
     ]
    }
   ],
   "source": [
    "# Criar uma instância da classe livro\n",
    "Livro1 = Livro()"
   ]
  },
  {
   "cell_type": "code",
   "execution_count": 3,
   "id": "00f94914",
   "metadata": {},
   "outputs": [
    {
     "data": {
      "text/plain": [
       "__main__.Livro"
      ]
     },
     "execution_count": 3,
     "metadata": {},
     "output_type": "execute_result"
    }
   ],
   "source": [
    "# O objecto Livro1 é do tipo Livro()\n",
    "type(Livro1)"
   ]
  },
  {
   "cell_type": "code",
   "execution_count": 4,
   "id": "9a32a675",
   "metadata": {},
   "outputs": [
    {
     "data": {
      "text/plain": [
       "'Sapiens - Uma Breve História da Humanidade'"
      ]
     },
     "execution_count": 4,
     "metadata": {},
     "output_type": "execute_result"
    }
   ],
   "source": [
    "Livro1.titulo"
   ]
  },
  {
   "cell_type": "code",
   "execution_count": 5,
   "id": "6ba221a0",
   "metadata": {},
   "outputs": [
    {
     "data": {
      "text/plain": [
       "9988888"
      ]
     },
     "execution_count": 5,
     "metadata": {},
     "output_type": "execute_result"
    }
   ],
   "source": [
    "Livro1.isbn"
   ]
  },
  {
   "cell_type": "code",
   "execution_count": 6,
   "id": "e63fe9d4",
   "metadata": {},
   "outputs": [
    {
     "name": "stdout",
     "output_type": "stream",
     "text": [
      "Foi criado o livro Sapiens - Uma Breve História da Humanidade com o isbn 9988888\n"
     ]
    }
   ],
   "source": [
    "# Chamando o método imprime\n",
    "Livro1.imprime()"
   ]
  },
  {
   "cell_type": "code",
   "execution_count": 7,
   "id": "07303950",
   "metadata": {},
   "outputs": [],
   "source": [
    "# Criando a classe Livro com parâmetros no método construtor\n",
    "\n",
    "class Livro():\n",
    "    \n",
    "    def __init__(self, titulo, isbn):\n",
    "        self.titulo = titulo\n",
    "        self.isbn = isbn\n",
    "        print(\"Construtor chamado para criar um objeto desta classe.\" )\n",
    "        \n",
    "    def imprime(self, titulo, isbn):\n",
    "        print(\"Foi criado o livro %s com o isbn %d. \" %(titulo, isbn))"
   ]
  },
  {
   "cell_type": "code",
   "execution_count": 8,
   "id": "9efdaddf",
   "metadata": {},
   "outputs": [
    {
     "name": "stdout",
     "output_type": "stream",
     "text": [
      "Construtor chamado para criar um objeto desta classe.\n"
     ]
    }
   ],
   "source": [
    "# Criando o objecto Livro2 que é uma instância da classe Livro()\n",
    "Livro2 = Livro(\"O Poder do Hábito\", 77886611)"
   ]
  },
  {
   "cell_type": "code",
   "execution_count": 9,
   "id": "d0d2b293",
   "metadata": {},
   "outputs": [
    {
     "data": {
      "text/plain": [
       "'O Poder do Hábito'"
      ]
     },
     "execution_count": 9,
     "metadata": {},
     "output_type": "execute_result"
    }
   ],
   "source": [
    "Livro2.titulo"
   ]
  },
  {
   "cell_type": "code",
   "execution_count": 10,
   "id": "190ff0a6",
   "metadata": {},
   "outputs": [
    {
     "name": "stdout",
     "output_type": "stream",
     "text": [
      "Foi criado o livro O Poder do Hábito com o isbn 77886611. \n"
     ]
    }
   ],
   "source": [
    "Livro2.imprime(\"O Poder do Hábito\", 77886611)"
   ]
  },
  {
   "cell_type": "code",
   "execution_count": 11,
   "id": "e7c7369b",
   "metadata": {},
   "outputs": [],
   "source": [
    "# Criando a classe\n",
    "class algoritmo():\n",
    "    \n",
    "    def __init__(self, tipo_algo):\n",
    "        self.tipo = tipo_algo\n",
    "        print(\"Construtor chamado para criar o objecto desta classe.\")"
   ]
  },
  {
   "cell_type": "code",
   "execution_count": 12,
   "id": "760e2867",
   "metadata": {},
   "outputs": [
    {
     "name": "stdout",
     "output_type": "stream",
     "text": [
      "Construtor chamado para criar o objecto desta classe.\n"
     ]
    }
   ],
   "source": [
    "# Criando um objecto a partir da classe\n",
    "algo1 = algoritmo(\"Random Forest\")"
   ]
  },
  {
   "cell_type": "code",
   "execution_count": 13,
   "id": "51d7333b",
   "metadata": {},
   "outputs": [
    {
     "data": {
      "text/plain": [
       "'Random Forest'"
      ]
     },
     "execution_count": 13,
     "metadata": {},
     "output_type": "execute_result"
    }
   ],
   "source": [
    "algo1.tipo"
   ]
  },
  {
   "cell_type": "code",
   "execution_count": 14,
   "id": "1107794e",
   "metadata": {},
   "outputs": [
    {
     "name": "stdout",
     "output_type": "stream",
     "text": [
      "Construtor chamado para criar o objecto desta classe.\n"
     ]
    }
   ],
   "source": [
    "algo11 = algoritmo(tipo_algo = \"Random Forest\")"
   ]
  },
  {
   "cell_type": "code",
   "execution_count": 15,
   "id": "dadbbc05",
   "metadata": {},
   "outputs": [
    {
     "data": {
      "text/plain": [
       "'Random Forest'"
      ]
     },
     "execution_count": 15,
     "metadata": {},
     "output_type": "execute_result"
    }
   ],
   "source": [
    "algo11.tipo"
   ]
  },
  {
   "cell_type": "code",
   "execution_count": 16,
   "id": "4f610a9d",
   "metadata": {},
   "outputs": [
    {
     "name": "stdout",
     "output_type": "stream",
     "text": [
      "Construtor chamado para criar o objecto desta classe.\n"
     ]
    }
   ],
   "source": [
    "algo2 = algoritmo(tipo_algo = \"Deep Learning\")"
   ]
  },
  {
   "cell_type": "code",
   "execution_count": 17,
   "id": "5b0d438e",
   "metadata": {},
   "outputs": [
    {
     "data": {
      "text/plain": [
       "'Deep Learning'"
      ]
     },
     "execution_count": 17,
     "metadata": {},
     "output_type": "execute_result"
    }
   ],
   "source": [
    "algo2.tipo"
   ]
  },
  {
   "cell_type": "markdown",
   "id": "f594739c",
   "metadata": {},
   "source": [
    "### Objetos"
   ]
  },
  {
   "cell_type": "markdown",
   "id": "877f2703",
   "metadata": {},
   "source": [
    "Em Python, Tudo é Objeto!"
   ]
  },
  {
   "cell_type": "code",
   "execution_count": 18,
   "id": "e70653f0",
   "metadata": {},
   "outputs": [],
   "source": [
    "# Criando uma lista\n",
    "lst_num = [\"Data\", \"Science\", \"Academy\", \"Nota\", 10, 10]"
   ]
  },
  {
   "cell_type": "code",
   "execution_count": 19,
   "id": "5d979ab6",
   "metadata": {},
   "outputs": [
    {
     "data": {
      "text/plain": [
       "list"
      ]
     },
     "execution_count": 19,
     "metadata": {},
     "output_type": "execute_result"
    }
   ],
   "source": [
    "# A lista lst_num é um objecto, uma instância da classe lista em python\n",
    "type(lst_num)"
   ]
  },
  {
   "cell_type": "code",
   "execution_count": 20,
   "id": "d3328bfe",
   "metadata": {},
   "outputs": [
    {
     "name": "stdout",
     "output_type": "stream",
     "text": [
      "<class 'list'>\n"
     ]
    }
   ],
   "source": [
    "print(type([]))"
   ]
  },
  {
   "cell_type": "code",
   "execution_count": 21,
   "id": "5cd93d68",
   "metadata": {},
   "outputs": [
    {
     "data": {
      "text/plain": [
       "2"
      ]
     },
     "execution_count": 21,
     "metadata": {},
     "output_type": "execute_result"
    }
   ],
   "source": [
    "# Usa os métodos da classe list\n",
    "# Abaixo, devolve o número de ocorrências do número 10\n",
    "lst_num.count(10)"
   ]
  },
  {
   "cell_type": "code",
   "execution_count": 22,
   "id": "9c169355",
   "metadata": {},
   "outputs": [],
   "source": [
    "# Criando um novo tipo de objecto chamado carro\n",
    "class Carro(object):\n",
    "    pass"
   ]
  },
  {
   "cell_type": "code",
   "execution_count": 23,
   "id": "7231d1f2",
   "metadata": {},
   "outputs": [],
   "source": [
    "# Instância do carro\n",
    "ferrari = Carro()"
   ]
  },
  {
   "cell_type": "code",
   "execution_count": 24,
   "id": "5cb263ee",
   "metadata": {},
   "outputs": [
    {
     "name": "stdout",
     "output_type": "stream",
     "text": [
      "<class '__main__.Carro'>\n"
     ]
    }
   ],
   "source": [
    "print(type(ferrari))"
   ]
  },
  {
   "cell_type": "code",
   "execution_count": 25,
   "id": "68f3b428",
   "metadata": {},
   "outputs": [],
   "source": [
    "# Criando uma classe\n",
    "class Estudantes:\n",
    "    \n",
    "    def __init__(self, nome, idade, nota):\n",
    "        self.nome = nome\n",
    "        self.idade = idade\n",
    "        self.nota = nota"
   ]
  },
  {
   "cell_type": "code",
   "execution_count": 26,
   "id": "a1d3407b",
   "metadata": {},
   "outputs": [],
   "source": [
    "# Criando um objecto chamado Estudante1 a partir da classe Estudantes\n",
    "Estudante1 = Estudantes(\"Bob\", 12, 9.5)"
   ]
  },
  {
   "cell_type": "code",
   "execution_count": 27,
   "id": "dd002528",
   "metadata": {},
   "outputs": [
    {
     "data": {
      "text/plain": [
       "'Bob'"
      ]
     },
     "execution_count": 27,
     "metadata": {},
     "output_type": "execute_result"
    }
   ],
   "source": [
    "# Atributo da classe Estudante, utilizado por cada objecto criado a partir desta classe \n",
    "Estudante1.nome"
   ]
  },
  {
   "cell_type": "code",
   "execution_count": 28,
   "id": "c2b08c7b",
   "metadata": {},
   "outputs": [
    {
     "data": {
      "text/plain": [
       "12"
      ]
     },
     "execution_count": 28,
     "metadata": {},
     "output_type": "execute_result"
    }
   ],
   "source": [
    "Estudante1.idade"
   ]
  },
  {
   "cell_type": "code",
   "execution_count": 29,
   "id": "2a59c6c4",
   "metadata": {},
   "outputs": [
    {
     "data": {
      "text/plain": [
       "9.5"
      ]
     },
     "execution_count": 29,
     "metadata": {},
     "output_type": "execute_result"
    }
   ],
   "source": [
    "Estudante1.nota"
   ]
  },
  {
   "cell_type": "code",
   "execution_count": 30,
   "id": "127cf534",
   "metadata": {},
   "outputs": [
    {
     "name": "stdout",
     "output_type": "stream",
     "text": [
      "Os dados do estudante são: \n",
      "Nome: Bob \n",
      "Idade: 12 \n",
      "Nota: 9\n"
     ]
    }
   ],
   "source": [
    "print(\"Os dados do estudante são: \\nNome: %s \\nIdade: %d \\nNota: %d\" %(Estudante1.nome, Estudante1.idade, Estudante1.nota))"
   ]
  },
  {
   "cell_type": "code",
   "execution_count": 31,
   "id": "a0852b24",
   "metadata": {},
   "outputs": [],
   "source": [
    "# Criando uma classe\n",
    "class Funcionarios:\n",
    "    \n",
    "    def __init__(self, nome, salario, cargo):\n",
    "        self.nome = nome\n",
    "        self.salario = salario\n",
    "        self.cargo = cargo\n",
    "        \n",
    "    def listFunc(self):\n",
    "        print(\"Dados do funcionário: \\n\\nNome: \" + self.nome + \"\\nSalário: \" + str(self.salario) + \"\\nCargo: \" + self.cargo )"
   ]
  },
  {
   "cell_type": "code",
   "execution_count": 32,
   "id": "d3305ef6",
   "metadata": {},
   "outputs": [],
   "source": [
    "funcionario1 = Funcionarios(\"Sebastião de Almeida\", 400.000, \"Director Geral\")"
   ]
  },
  {
   "cell_type": "code",
   "execution_count": 33,
   "id": "8ae82000",
   "metadata": {},
   "outputs": [
    {
     "name": "stdout",
     "output_type": "stream",
     "text": [
      "Dados do funcionário: \n",
      "\n",
      "Nome: Sebastião de Almeida\n",
      "Salário: 400.0\n",
      "Cargo: Director Geral\n"
     ]
    }
   ],
   "source": [
    "# Usando o método da classe\n",
    "funcionario1.listFunc()"
   ]
  },
  {
   "cell_type": "code",
   "execution_count": 34,
   "id": "74f241a6",
   "metadata": {},
   "outputs": [
    {
     "name": "stdout",
     "output_type": "stream",
     "text": [
      "----- Usando atributos -----\n"
     ]
    }
   ],
   "source": [
    "print(\"----- Usando atributos -----\")"
   ]
  },
  {
   "cell_type": "code",
   "execution_count": 35,
   "id": "43316571",
   "metadata": {},
   "outputs": [
    {
     "data": {
      "text/plain": [
       "True"
      ]
     },
     "execution_count": 35,
     "metadata": {},
     "output_type": "execute_result"
    }
   ],
   "source": [
    "hasattr(funcionario1, \"nome\")"
   ]
  },
  {
   "cell_type": "code",
   "execution_count": 36,
   "id": "89da5b12",
   "metadata": {},
   "outputs": [
    {
     "data": {
      "text/plain": [
       "False"
      ]
     },
     "execution_count": 36,
     "metadata": {},
     "output_type": "execute_result"
    }
   ],
   "source": [
    "hasattr(funcionario1, \"direccao\")"
   ]
  },
  {
   "cell_type": "code",
   "execution_count": 37,
   "id": "693d193b",
   "metadata": {},
   "outputs": [],
   "source": [
    "setattr(funcionario1, \"nome\", \"Anabela\")"
   ]
  },
  {
   "cell_type": "code",
   "execution_count": 38,
   "id": "136a2a2c",
   "metadata": {},
   "outputs": [
    {
     "data": {
      "text/plain": [
       "'Anabela'"
      ]
     },
     "execution_count": 38,
     "metadata": {},
     "output_type": "execute_result"
    }
   ],
   "source": [
    "getattr(funcionario1, \"nome\")"
   ]
  },
  {
   "cell_type": "code",
   "execution_count": 39,
   "id": "70b9efe7",
   "metadata": {},
   "outputs": [
    {
     "name": "stdout",
     "output_type": "stream",
     "text": [
      "Dados do funcionário: \n",
      "\n",
      "Nome: Anabela\n",
      "Salário: 400.0\n",
      "Cargo: Director Geral\n"
     ]
    }
   ],
   "source": [
    "funcionario1.listFunc()"
   ]
  },
  {
   "cell_type": "code",
   "execution_count": 40,
   "id": "d68d387b",
   "metadata": {},
   "outputs": [],
   "source": [
    "setattr(funcionario1, \"salario\", 2000.0)"
   ]
  },
  {
   "cell_type": "code",
   "execution_count": 41,
   "id": "ad64b177",
   "metadata": {},
   "outputs": [
    {
     "data": {
      "text/plain": [
       "2000.0"
      ]
     },
     "execution_count": 41,
     "metadata": {},
     "output_type": "execute_result"
    }
   ],
   "source": [
    "getattr(funcionario1, \"salario\")"
   ]
  },
  {
   "cell_type": "code",
   "execution_count": 42,
   "id": "6e932dc3",
   "metadata": {},
   "outputs": [
    {
     "name": "stdout",
     "output_type": "stream",
     "text": [
      "Dados do funcionário: \n",
      "\n",
      "Nome: Anabela\n",
      "Salário: 2000.0\n",
      "Cargo: Director Geral\n"
     ]
    }
   ],
   "source": [
    "funcionario1.listFunc()"
   ]
  },
  {
   "cell_type": "code",
   "execution_count": 43,
   "id": "d73a71f3",
   "metadata": {},
   "outputs": [],
   "source": [
    "delattr(funcionario1, \"salario\")"
   ]
  },
  {
   "cell_type": "code",
   "execution_count": 44,
   "id": "bd86edd9",
   "metadata": {},
   "outputs": [
    {
     "data": {
      "text/plain": [
       "False"
      ]
     },
     "execution_count": 44,
     "metadata": {},
     "output_type": "execute_result"
    }
   ],
   "source": [
    "hasattr(funcionario1, \"salario\")"
   ]
  },
  {
   "cell_type": "code",
   "execution_count": null,
   "id": "f14cf1bf",
   "metadata": {},
   "outputs": [],
   "source": []
  },
  {
   "cell_type": "code",
   "execution_count": null,
   "id": "0829f3eb",
   "metadata": {},
   "outputs": [],
   "source": []
  }
 ],
 "metadata": {
  "kernelspec": {
   "display_name": "Python 3 (ipykernel)",
   "language": "python",
   "name": "python3"
  },
  "language_info": {
   "codemirror_mode": {
    "name": "ipython",
    "version": 3
   },
   "file_extension": ".py",
   "mimetype": "text/x-python",
   "name": "python",
   "nbconvert_exporter": "python",
   "pygments_lexer": "ipython3",
   "version": "3.11.6"
  }
 },
 "nbformat": 4,
 "nbformat_minor": 5
}
