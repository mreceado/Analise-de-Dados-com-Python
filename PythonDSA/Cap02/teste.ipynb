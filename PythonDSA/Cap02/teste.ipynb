{
 "cells": [
  {
   "cell_type": "code",
   "execution_count": 1,
   "id": "3ffc592f",
   "metadata": {},
   "outputs": [
    {
     "data": {
      "text/plain": [
       "4"
      ]
     },
     "execution_count": 1,
     "metadata": {},
     "output_type": "execute_result"
    }
   ],
   "source": [
    "2 + 2"
   ]
  },
  {
   "cell_type": "code",
   "execution_count": 2,
   "id": "6ed01af9",
   "metadata": {},
   "outputs": [
    {
     "name": "stdout",
     "output_type": "stream",
     "text": [
      "Olá mundo!!!\n"
     ]
    }
   ],
   "source": [
    "print(\"Olá mundo!!!\")"
   ]
  },
  {
   "cell_type": "markdown",
   "id": "c6050fc0",
   "metadata": {},
   "source": [
    "Gere código Python que crie uma lista com os números entre 1 e 100 e então imprima os números pares, mas somente se o número for divisível por 4."
   ]
  },
  {
   "cell_type": "code",
   "execution_count": 3,
   "id": "36fc7dac",
   "metadata": {},
   "outputs": [
    {
     "name": "stdout",
     "output_type": "stream",
     "text": [
      "4\n",
      "8\n",
      "12\n",
      "16\n",
      "20\n",
      "24\n",
      "28\n",
      "32\n",
      "36\n",
      "40\n",
      "44\n",
      "48\n",
      "52\n",
      "56\n",
      "60\n",
      "64\n",
      "68\n",
      "72\n",
      "76\n",
      "80\n",
      "84\n",
      "88\n",
      "92\n",
      "96\n",
      "100\n"
     ]
    }
   ],
   "source": [
    "numeros = list(range(1, 101))  # cria lista com números de 1 a 100\n",
    "\n",
    "for num in numeros:\n",
    "    if num % 2 == 0 and num % 4 == 0:\n",
    "        print(num)\n"
   ]
  },
  {
   "cell_type": "markdown",
   "id": "e8044a0b",
   "metadata": {},
   "source": [
    "Gere código Python que crie uma lista com os números entre 1 e 100 e então imprima os números pares, mas somente se o número for divisível por 4, usando list comprehension"
   ]
  },
  {
   "cell_type": "code",
   "execution_count": 1,
   "id": "b8c483de",
   "metadata": {},
   "outputs": [
    {
     "name": "stdout",
     "output_type": "stream",
     "text": [
      "[4, 8, 12, 16, 20, 24, 28, 32, 36, 40, 44, 48, 52, 56, 60, 64, 68, 72, 76, 80, 84, 88, 92, 96, 100]\n"
     ]
    }
   ],
   "source": [
    "numeros = [num for num in range(1, 101) if num % 2 == 0 and num % 4 == 0]\n",
    "\n",
    "print(numeros)"
   ]
  },
  {
   "cell_type": "markdown",
   "id": "68342ba9",
   "metadata": {},
   "source": [
    "Explicação do código:\n",
    "\n",
    " A list comprehension é uma forma mais compacta de criar uma lista em Python. No código acima, a list comprehension é utilizada para criar uma lista com os números entre 1 e 100 que são pares e divisíveis por 4.\n",
    " O for num in range(1, 101) indica que a lista será criada com os números de 1 a 100.\n",
    " O if num % 2 == 0 and num % 4 == 0 é a condição para que o número seja adicionado à lista. Os números que atenderem a essa condição serão adicionados na lista.\n",
    " Por fim, a lista é armazenada na variável numeros e é impressa na tela usando a função print()."
   ]
  },
  {
   "cell_type": "code",
   "execution_count": null,
   "id": "9b6f7f68",
   "metadata": {},
   "outputs": [],
   "source": []
  }
 ],
 "metadata": {
  "kernelspec": {
   "display_name": "Python 3 (ipykernel)",
   "language": "python",
   "name": "python3"
  },
  "language_info": {
   "codemirror_mode": {
    "name": "ipython",
    "version": 3
   },
   "file_extension": ".py",
   "mimetype": "text/x-python",
   "name": "python",
   "nbconvert_exporter": "python",
   "pygments_lexer": "ipython3",
   "version": "3.11.6"
  }
 },
 "nbformat": 4,
 "nbformat_minor": 5
}
