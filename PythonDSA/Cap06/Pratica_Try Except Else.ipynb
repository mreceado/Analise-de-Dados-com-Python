{
 "cells": [
  {
   "cell_type": "code",
   "execution_count": 1,
   "id": "28271bb9",
   "metadata": {},
   "outputs": [],
   "source": [
    "from platform import python_version"
   ]
  },
  {
   "cell_type": "markdown",
   "id": "e0c57f28",
   "metadata": {},
   "source": [
    "### Erros e Excepções\n",
    "\n",
    "Sempre leia as mensagens de erro. Erros fazem parte do processo de aprendizagem e vão acompanhar você na sua jornada em programação, em qualquer linguagem."
   ]
  },
  {
   "cell_type": "code",
   "execution_count": 2,
   "id": "0da8b17c",
   "metadata": {},
   "outputs": [],
   "source": [
    "# Criando uma função\n",
    "def numDiv (num1, num2):\n",
    "    resultado = num1/num2\n",
    "    return resultado"
   ]
  },
  {
   "cell_type": "code",
   "execution_count": 3,
   "id": "d0ebf555",
   "metadata": {},
   "outputs": [
    {
     "ename": "ZeroDivisionError",
     "evalue": "division by zero",
     "output_type": "error",
     "traceback": [
      "\u001b[1;31m---------------------------------------------------------------------------\u001b[0m",
      "\u001b[1;31mZeroDivisionError\u001b[0m                         Traceback (most recent call last)",
      "Cell \u001b[1;32mIn[3], line 1\u001b[0m\n\u001b[1;32m----> 1\u001b[0m \u001b[43mnumDiv\u001b[49m\u001b[43m(\u001b[49m\u001b[38;5;241;43m20\u001b[39;49m\u001b[43m,\u001b[49m\u001b[38;5;241;43m0\u001b[39;49m\u001b[43m)\u001b[49m\n",
      "Cell \u001b[1;32mIn[2], line 3\u001b[0m, in \u001b[0;36mnumDiv\u001b[1;34m(num1, num2)\u001b[0m\n\u001b[0;32m      2\u001b[0m \u001b[38;5;28;01mdef\u001b[39;00m \u001b[38;5;21mnumDiv\u001b[39m (num1, num2):\n\u001b[1;32m----> 3\u001b[0m     resultado \u001b[38;5;241m=\u001b[39m \u001b[43mnum1\u001b[49m\u001b[38;5;241;43m/\u001b[39;49m\u001b[43mnum2\u001b[49m\n\u001b[0;32m      4\u001b[0m     \u001b[38;5;28;01mreturn\u001b[39;00m resultado\n",
      "\u001b[1;31mZeroDivisionError\u001b[0m: division by zero"
     ]
    }
   ],
   "source": [
    "numDiv(20,0)"
   ]
  },
  {
   "cell_type": "code",
   "execution_count": 4,
   "id": "9954863c",
   "metadata": {},
   "outputs": [],
   "source": [
    "# Utilizando try e except\n",
    "def numDiv2 (num1, num2):\n",
    "    \n",
    "    try:\n",
    "        return num1/num2\n",
    "    \n",
    "    except ZeroDivisionError:\n",
    "        print(\"Operação  não permitida\")       \n",
    "    "
   ]
  },
  {
   "cell_type": "code",
   "execution_count": 5,
   "id": "000e2b4a",
   "metadata": {},
   "outputs": [
    {
     "data": {
      "text/plain": [
       "5.0"
      ]
     },
     "execution_count": 5,
     "metadata": {},
     "output_type": "execute_result"
    }
   ],
   "source": [
    "numDiv2(20,4)"
   ]
  },
  {
   "cell_type": "code",
   "execution_count": 6,
   "id": "f79170e0",
   "metadata": {},
   "outputs": [
    {
     "name": "stdout",
     "output_type": "stream",
     "text": [
      "Operação  não permitida\n"
     ]
    }
   ],
   "source": [
    "numDiv2(20,0)"
   ]
  },
  {
   "cell_type": "code",
   "execution_count": 7,
   "id": "0f3c217c",
   "metadata": {},
   "outputs": [
    {
     "name": "stdout",
     "output_type": "stream",
     "text": [
      "Operação não permitida\n"
     ]
    }
   ],
   "source": [
    "# Utilizando try e except\n",
    "try:\n",
    "    8 + 's'\n",
    "except TypeError:   # trata erros relacionados a tipos de dados\n",
    "    print(\"Operação não permitida\")"
   ]
  },
  {
   "cell_type": "code",
   "execution_count": 8,
   "id": "60e21fb0",
   "metadata": {},
   "outputs": [
    {
     "name": "stdout",
     "output_type": "stream",
     "text": [
      "Conteúdo gravado com sucesso\n"
     ]
    }
   ],
   "source": [
    "# Utilizando Try, Except e Else\n",
    "try:\n",
    "    f = open('arquivos/testandoerros.txt', 'w')\n",
    "    f.write('Gravando no arquivo')\n",
    "    \n",
    "except IOError:\n",
    "    print(\"Erro: Arquivo não encontrado ou não pode ser salvo\")\n",
    "    \n",
    "else:\n",
    "    print(\"Conteúdo gravado com sucesso\")\n",
    "    f.close()    "
   ]
  },
  {
   "cell_type": "markdown",
   "id": "9836eb67",
   "metadata": {},
   "source": [
    "except é uma declaração que é usada em um bloco try-except para capturar e lidar com exceções que ocorrem durante a execução do código em um bloco try. Quando uma exceção é capturada, o programa pula para o bloco except correspondente e executa o código lá contido para lidar com a exceção.\n",
    "\n",
    "TypeError e IOError são dois tipos de exceções (erros) que podem ocorrer em um programa em Python.\n",
    "\n",
    "TypeError é uma exceção que ocorre quando uma operação ou função é aplicada a um objeto de tipo incorreto. Por exemplo, se você tentar somar uma string com um número, irá gerar uma TypeError, pois não é possível realizar essa operação com tipos diferentes.\n",
    "\n",
    "Por outro lado, IOError é uma exceção que ocorre quando há um problema ao tentar acessar um arquivo ou um dispositivo de entrada/saída, como um teclado ou um mouse. Por exemplo, se você tentar abrir um arquivo que não existe ou que não tem permissão de leitura, irá gerar uma IOError.\n",
    "\n",
    "Em resumo, TypeError indica que houve um erro relacionado a tipos de dados, enquanto IOError indica que houve um erro relacionado a entrada/saída de dados, como ao tentar abrir, ler ou escrever em um arquivo."
   ]
  },
  {
   "cell_type": "code",
   "execution_count": 9,
   "id": "e432ee81",
   "metadata": {},
   "outputs": [
    {
     "name": "stdout",
     "output_type": "stream",
     "text": [
      "Erro: Arquivo não encontrado ou não pode ser salvo\n"
     ]
    }
   ],
   "source": [
    "# Utilizando Try, Except e Else\n",
    "try:\n",
    "    f = open('arquivos/testandoerros', 'r') # faltou a extensão txt então não será possível localizar o arquivo\n",
    "except IOError:\n",
    "    print(\"Erro: Arquivo não encontrado ou não pode ser salvo\")\n",
    "else:\n",
    "    print(\"Conteúdo gravado com sucesso\")   "
   ]
  },
  {
   "cell_type": "code",
   "execution_count": 10,
   "id": "b6fb53b3",
   "metadata": {},
   "outputs": [
    {
     "name": "stdout",
     "output_type": "stream",
     "text": [
      "Conteúdo gravado com sucesso\n",
      "Comandos no bloco finally são sempre executados\n"
     ]
    }
   ],
   "source": [
    "# Utilizando try, except, else e finally\n",
    "try:\n",
    "    f = open('arquivos/testandoerros.txt', 'w')\n",
    "    f.write('Gravando no arquivo')\n",
    "except IOError:\n",
    "    print(\"Erro: Arquivo não encontrado ou não pode ser salvo\")\n",
    "else:\n",
    "    print(\"Conteúdo gravado com sucesso\")\n",
    "finally:\n",
    "    print(\"Comandos no bloco finally são sempre executados\")"
   ]
  },
  {
   "cell_type": "markdown",
   "id": "2b39c770",
   "metadata": {},
   "source": [
    "### Cada possibilidade de erro deve ser tratada no seu programa"
   ]
  },
  {
   "cell_type": "code",
   "execution_count": 11,
   "id": "3a6a6776",
   "metadata": {},
   "outputs": [],
   "source": [
    "def askint():\n",
    "    try:\n",
    "        val = int(input(\"Digite um número\"))\n",
    "    except:\n",
    "        print(\"Você não digitou um número\")\n",
    "    finally:\n",
    "        print(\"Obrigado!\")"
   ]
  },
  {
   "cell_type": "code",
   "execution_count": 12,
   "id": "88e4ca0f",
   "metadata": {},
   "outputs": [
    {
     "name": "stdin",
     "output_type": "stream",
     "text": [
      "Digite um número 4\n"
     ]
    },
    {
     "name": "stdout",
     "output_type": "stream",
     "text": [
      "Obrigado!\n"
     ]
    }
   ],
   "source": [
    "askint()"
   ]
  },
  {
   "cell_type": "code",
   "execution_count": 13,
   "id": "63277104",
   "metadata": {},
   "outputs": [],
   "source": [
    "def askint2():\n",
    "    try:\n",
    "        val = int(input(\"Digite um número \"))\n",
    "    except:\n",
    "        print(\"Você não digitou um número\")\n",
    "        val = int(input(\"Digite um número\"))\n",
    "    finally:\n",
    "        print(\"Obrigado!\")\n",
    "    print(val)"
   ]
  },
  {
   "cell_type": "code",
   "execution_count": 14,
   "id": "1a939705",
   "metadata": {},
   "outputs": [
    {
     "name": "stdin",
     "output_type": "stream",
     "text": [
      "Digite um número  5\n"
     ]
    },
    {
     "name": "stdout",
     "output_type": "stream",
     "text": [
      "Obrigado!\n",
      "5\n"
     ]
    }
   ],
   "source": [
    "askint2()"
   ]
  },
  {
   "cell_type": "code",
   "execution_count": 15,
   "id": "5128d69a",
   "metadata": {},
   "outputs": [],
   "source": [
    "def askint3():\n",
    "    while True: \n",
    "        try:\n",
    "            val = int(input(\"Digite um número \"))\n",
    "        except:\n",
    "            print(\"Você não digitou num número\")\n",
    "            continue\n",
    "        else: \n",
    "            print(\"Obrigado por digitar um número\")\n",
    "            break\n",
    "        finally:\n",
    "            print(\"Fim da execução!\")\n",
    "        print(val)\n",
    "    "
   ]
  },
  {
   "cell_type": "code",
   "execution_count": 16,
   "id": "d50e5d97",
   "metadata": {},
   "outputs": [
    {
     "name": "stdin",
     "output_type": "stream",
     "text": [
      "Digite um número  6\n"
     ]
    },
    {
     "name": "stdout",
     "output_type": "stream",
     "text": [
      "Obrigado por digitar um número\n",
      "Fim da execução!\n"
     ]
    }
   ],
   "source": [
    "askint3()"
   ]
  },
  {
   "cell_type": "code",
   "execution_count": null,
   "id": "13c77c17",
   "metadata": {},
   "outputs": [],
   "source": []
  }
 ],
 "metadata": {
  "kernelspec": {
   "display_name": "Python 3 (ipykernel)",
   "language": "python",
   "name": "python3"
  },
  "language_info": {
   "codemirror_mode": {
    "name": "ipython",
    "version": 3
   },
   "file_extension": ".py",
   "mimetype": "text/x-python",
   "name": "python",
   "nbconvert_exporter": "python",
   "pygments_lexer": "ipython3",
   "version": "3.11.6"
  }
 },
 "nbformat": 4,
 "nbformat_minor": 5
}
