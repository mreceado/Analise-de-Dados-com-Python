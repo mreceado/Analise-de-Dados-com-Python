{
 "cells": [
  {
   "cell_type": "markdown",
   "id": "b3d9c3f1",
   "metadata": {},
   "source": [
    "### Expressões Regulares\n",
    "\n",
    "Expressões regulares são padrões usados para combinar ou encontrar ocorrências de sequências de caracteres em uma string. Em Python, expressões regulares são geralmente usadas para manipular strings e realizar tarefas como validação de entrada de dados, extração de informações de strings e substituição de texto."
   ]
  },
  {
   "cell_type": "code",
   "execution_count": 1,
   "id": "f22d43c3",
   "metadata": {},
   "outputs": [],
   "source": [
    "import re"
   ]
  },
  {
   "cell_type": "code",
   "execution_count": 2,
   "id": "ea1ea3f0",
   "metadata": {},
   "outputs": [],
   "source": [
    "texto = \"Meu e-mail é exemplo@gmail.com e você pode me contactar em outro_email@yahoo.com \""
   ]
  },
  {
   "cell_type": "code",
   "execution_count": 3,
   "id": "2460317e",
   "metadata": {},
   "outputs": [],
   "source": [
    "# Expressão regular para contar quantas vezes o caracter arroba \"@\" aparece no texto\n",
    "resultado = len(re.findall(\"@\", texto))"
   ]
  },
  {
   "cell_type": "code",
   "execution_count": 4,
   "id": "e49dbd86",
   "metadata": {},
   "outputs": [
    {
     "name": "stdout",
     "output_type": "stream",
     "text": [
      "O caracter @ aparece 2 vezes\n"
     ]
    }
   ],
   "source": [
    "print(\"O caracter @ aparece \" + str(resultado) + \" vezes\")"
   ]
  },
  {
   "cell_type": "code",
   "execution_count": 5,
   "id": "3b9fc61c",
   "metadata": {},
   "outputs": [
    {
     "name": "stdout",
     "output_type": "stream",
     "text": [
      "O caracter @ aparece 2 vezes\n"
     ]
    }
   ],
   "source": [
    "print(\"O caracter @ aparece\", resultado,\"vezes\")"
   ]
  },
  {
   "cell_type": "markdown",
   "id": "85e2cbf6",
   "metadata": {},
   "source": [
    "As expressões regulares usam o caractere de barra invertida (\"\\\\\") para indicar formas especiais ou para permitir que caracteres especiais sejam usados ​​sem invocar seu significado especial.\n",
    "\n",
    "Nota: O r indica que a string é bruta, é assim mesmo e não considera caracteres especiais. Sem o r no literal a barra invertida (backslash) faria o que vem a seguir ser considerado um caractere especial."
   ]
  },
  {
   "cell_type": "code",
   "execution_count": 6,
   "id": "e04cd666",
   "metadata": {},
   "outputs": [],
   "source": [
    "# Expressão regular para extrair a palavra que aparece após a palavra \"você\" em um texto\n",
    "resultado = re.findall(r'você (\\w+)', texto)"
   ]
  },
  {
   "cell_type": "code",
   "execution_count": 7,
   "id": "06484c6d",
   "metadata": {},
   "outputs": [
    {
     "name": "stdout",
     "output_type": "stream",
     "text": [
      "A palavra após 'você' é: pode\n"
     ]
    }
   ],
   "source": [
    "print(\"A palavra após 'você' é:\", resultado[0])"
   ]
  },
  {
   "cell_type": "markdown",
   "id": "cc6aaa41",
   "metadata": {},
   "source": [
    "A expressão regular r'você (\\w+)' utilizada no código resultado = re.findall(r'você (\\w+)', texto) busca por uma palavra que começa com um espaço em branco após a palavra \"você\" no texto 'texto' e captura essa palavra. O método findall da biblioteca re encontra todas as ocorrências da expressão regular no texto e retorna uma lista com todas as palavras capturadas.\n",
    "\n",
    "Neste exemplo, a expressão regular r'você (\\w+)' busca por uma palavra que começa com um espaço em branco após a palavra \"você\" no texto 'texto' e captura essa palavra. A palavra capturada é a string \"pode\", que está na lista resultado e é impressa na tela."
   ]
  },
  {
   "cell_type": "code",
   "execution_count": 8,
   "id": "c04eb6bf",
   "metadata": {},
   "outputs": [],
   "source": [
    "# Expressão regular para extrair endereços de email de uma string\n",
    "emails = re.findall(r'\\b[A-Za-z0-9._%+-]+@[A-za-z0-9.-]+\\.[A-Z|a-z]{2,}\\b', texto)"
   ]
  },
  {
   "cell_type": "code",
   "execution_count": 9,
   "id": "c9148c09",
   "metadata": {},
   "outputs": [
    {
     "name": "stdout",
     "output_type": "stream",
     "text": [
      "['exemplo@gmail.com', 'outro_email@yahoo.com']\n"
     ]
    }
   ],
   "source": [
    "print(emails)"
   ]
  },
  {
   "cell_type": "markdown",
   "id": "c82fd8e0",
   "metadata": {},
   "source": [
    "(Observe que \\b é usado para representar limites de palavras e significa fazer “backspace” apenas dentro das classes de caracteres.) Corresponde à string vazia, mas apenas no início ou no final de uma palavra."
   ]
  },
  {
   "cell_type": "code",
   "execution_count": 10,
   "id": "b97dd54b",
   "metadata": {},
   "outputs": [],
   "source": [
    "text = \"O aluno estava incrivelmente perdido, mas encontrou a DSA e rapidamente começou a aprender.\""
   ]
  },
  {
   "cell_type": "code",
   "execution_count": 11,
   "id": "3e5a6e9f",
   "metadata": {},
   "outputs": [
    {
     "name": "stdout",
     "output_type": "stream",
     "text": [
      "incrivelmente\n",
      "rapidamente\n"
     ]
    }
   ],
   "source": [
    "# Forma 1 - Extraindo os advérbios da frase\n",
    "for m in re.finditer(r\"\\w+mente\\b\", text):\n",
    "    print('%s' % (m.group()))"
   ]
  },
  {
   "cell_type": "code",
   "execution_count": 12,
   "id": "5e6068c3",
   "metadata": {},
   "outputs": [
    {
     "name": "stdout",
     "output_type": "stream",
     "text": [
      "15-28: incrivelmente\n",
      "60-71: rapidamente\n"
     ]
    }
   ],
   "source": [
    "# Forma 2 - Extraindo os advérbios da frase \n",
    "for m in re.finditer(r\"\\w+mente\\b\", text):\n",
    "    print('%02d-%02d: %s' % (m.start(), m.end(), m.group(0)))"
   ]
  },
  {
   "cell_type": "markdown",
   "id": "3da26031",
   "metadata": {},
   "source": [
    "### REGEX com ChatGPT\n",
    "#### Música: Tempo Perdido\n",
    "\n",
    "#### Legião Urbana"
   ]
  },
  {
   "cell_type": "code",
   "execution_count": 13,
   "id": "1e064846",
   "metadata": {},
   "outputs": [],
   "source": [
    "# Variável do tipo string\n",
    "musica = '''\n",
    "Todos os dias quando acordo\n",
    "Não tenho mais\n",
    "O tempo que passou\n",
    "Mas tenho muito tempo\n",
    "Temos todo o tempo do mundo\n",
    "Todos os dias\n",
    "Antes de dormir\n",
    "Lembro e esqueço\n",
    "Como foi o dia\n",
    "Sempre em frente\n",
    "Não temos tempo a perder\n",
    "Nosso suor sagrado\n",
    "É bem mais belo\n",
    "Que esse sangue amargo\n",
    "E tão sério\n",
    "E selvagem! Selvagem!\n",
    "Selvagem!\n",
    "Veja o sol\n",
    "Dessa manhã tão cinza\n",
    "A tempestade que chega\n",
    "É da cor dos teus olhos\n",
    "Castanhos\n",
    "Então me abraça forte\n",
    "E diz mais uma vez\n",
    "Que já estamos\n",
    "Distantes de tudo\n",
    "Temos nosso próprio tempo\n",
    "Temos nosso próprio tempo\n",
    "Temos nosso próprio tempo\n",
    "Não tenho medo do escuro\n",
    "Mas deixe as luzes\n",
    "Acesas agora\n",
    "O que foi escondido\n",
    "É o que se escondeu\n",
    "E o que foi prometido\n",
    "Ninguém prometeu\n",
    "Nem foi tempo perdido\n",
    "Somos tão jovens\n",
    "Tão jovens! Tão jovens!\n",
    "'''"
   ]
  },
  {
   "cell_type": "code",
   "execution_count": 14,
   "id": "cf3d1931",
   "metadata": {},
   "outputs": [
    {
     "name": "stdout",
     "output_type": "stream",
     "text": [
      "\n",
      "Todos os dias quando acordo\n",
      "Não tenho mais\n",
      "O tempo que passou\n",
      "Mas tenho muito tempo\n",
      "Temos todo o tempo do mundo\n",
      "Todos os dias\n",
      "Antes de dormir\n",
      "Lembro e esqueço\n",
      "Como foi o dia\n",
      "Sempre em frente\n",
      "Não temos tempo a perder\n",
      "Nosso suor sagrado\n",
      "É bem mais belo\n",
      "Que esse sangue amargo\n",
      "E tão sério\n",
      "E selvagem! Selvagem!\n",
      "Selvagem!\n",
      "Veja o sol\n",
      "Dessa manhã tão cinza\n",
      "A tempestade que chega\n",
      "É da cor dos teus olhos\n",
      "Castanhos\n",
      "Então me abraça forte\n",
      "E diz mais uma vez\n",
      "Que já estamos\n",
      "Distantes de tudo\n",
      "Temos nosso próprio tempo\n",
      "Temos nosso próprio tempo\n",
      "Temos nosso próprio tempo\n",
      "Não tenho medo do escuro\n",
      "Mas deixe as luzes\n",
      "Acesas agora\n",
      "O que foi escondido\n",
      "É o que se escondeu\n",
      "E o que foi prometido\n",
      "Ninguém prometeu\n",
      "Nem foi tempo perdido\n",
      "Somos tão jovens\n",
      "Tão jovens! Tão jovens!\n",
      "\n"
     ]
    }
   ],
   "source": [
    "print(musica)"
   ]
  },
  {
   "cell_type": "code",
   "execution_count": 15,
   "id": "70d40cd8",
   "metadata": {},
   "outputs": [],
   "source": [
    "# 1- Crie um REGEX para contar quantas vezes o caracter \"a\" aparece em todo o texto da música.\n",
    "# 2- Crie um REGEX em Python para contar quantas vezes a palavra tempo aparece na música.\n",
    "# 3- Crie um REGEX em Python para extrair as palavras seguidas por exclamação.\n",
    "# 4- Crie um REGEX que extrai qualquer palavra cujo antecessor seja a palavra \"esse\" e o sucessor seja a palavra \"amargo\" em um texto.\n",
    "# 5- Crie um REGEX que retorne as palavras com acento, mas somente os caracteres na palavra que são anteriores ao caracter com acento.\n"
   ]
  },
  {
   "cell_type": "code",
   "execution_count": 16,
   "id": "330d0a68",
   "metadata": {},
   "outputs": [
    {
     "name": "stdout",
     "output_type": "stream",
     "text": [
      "O caracter 'a' aparece: 39 vezes na música\n"
     ]
    }
   ],
   "source": [
    "# 1- Crie um REGEX para contar quantas vezes o caracter \"a\" aparece em todo o texto da música.\n",
    "procuraA = len(re.findall('a', musica))\n",
    "print(\"O caracter 'a' aparece:\", procuraA, \"vezes na música\")"
   ]
  },
  {
   "cell_type": "code",
   "execution_count": 17,
   "id": "2dbf7fed",
   "metadata": {},
   "outputs": [
    {
     "name": "stdout",
     "output_type": "stream",
     "text": [
      "A palavra 'tempo' aparece: 8 vezes na música\n"
     ]
    }
   ],
   "source": [
    "# 2- Crie um REGEX em Python para contar quantas vezes a palavra tempo aparece na música.\n",
    "procuraTempo = len(re.findall(r'\\btempo\\b', musica)) # palavra tempo com espaço em branco antes e depois\n",
    "print(\"A palavra 'tempo' aparece:\", procuraTempo, \"vezes na música\")"
   ]
  },
  {
   "cell_type": "code",
   "execution_count": 18,
   "id": "a11a4718",
   "metadata": {},
   "outputs": [
    {
     "name": "stdout",
     "output_type": "stream",
     "text": [
      "selvagem!\n",
      "Selvagem!\n",
      "Selvagem!\n",
      "jovens!\n",
      "jovens!\n"
     ]
    }
   ],
   "source": [
    "# 3- Crie um REGEX em Python para extrair as palavras seguidas por exclamação.\n",
    "\n",
    "for palavraExc in re.finditer(r'(\\w+!)', musica): # imprime todas as palavras seguidas do ponto de exclamação\n",
    "    print(\"%s\" % (palavraExc.group()))\n"
   ]
  },
  {
   "cell_type": "code",
   "execution_count": 19,
   "id": "43ef3769",
   "metadata": {},
   "outputs": [
    {
     "name": "stdout",
     "output_type": "stream",
     "text": [
      "esse sangue amargo\n"
     ]
    }
   ],
   "source": [
    "# 4- Crie um REGEX que extrai qualquer palavra cujo antecessor seja a palavra \"esse\" e o sucessor seja a palavra \"amargo\" \n",
    "# em um texto.\n",
    "\n",
    "for palavra in re.finditer(r'esse (\\w+) amargo', musica):\n",
    "    print(\"%s\" % (palavra.group()))"
   ]
  },
  {
   "cell_type": "code",
   "execution_count": 20,
   "id": "c064d754",
   "metadata": {},
   "outputs": [
    {
     "name": "stdout",
     "output_type": "stream",
     "text": [
      "Palavras com acento, sem o acento: ['N', 'esque', 'N', 't', 's', 'manh', 't', 'Ent', 'abra', 'j', 'pr', 'pr', 'pr', 'N', 'Ningu', 't', 'T', 'T']\n"
     ]
    }
   ],
   "source": [
    "# Forma 1\n",
    "# 5- Crie um REGEX que retorne as palavras com acento, mas somente os caracteres na palavra que são anteriores ao caracter com\n",
    "# acento.\n",
    "\n",
    "resultado = re.findall(r\"(\\w+)[\\u00C0-\\u017F]+\", musica)\n",
    "print(\"Palavras com acento, sem o acento:\", resultado)\n"
   ]
  },
  {
   "cell_type": "markdown",
   "id": "e4a25885",
   "metadata": {},
   "source": [
    " re.findall() é usada para encontrar todas as ocorrências do padrão especificado.\n",
    " \n",
    " (\\w+), corresponde a uma ou mais ocorrências de caracteres alfanuméricos. O uso de parênteses ao redor de \\w+ cria um grupo de captura, que permite que a parte correspondente da string seja recuperada separadamente.\n",
    " \n",
    "  [\\u00C0-\\u017F] corresponde a um ou mais caracteres acentuados, representados por uma faixa de códigos Unicode (que inclui as letras acentuadas usadas em várias línguas, incluindo português e espanhol)."
   ]
  },
  {
   "cell_type": "code",
   "execution_count": 21,
   "id": "dadb4a64",
   "metadata": {},
   "outputs": [
    {
     "name": "stdout",
     "output_type": "stream",
     "text": [
      "As palavras são: ['Nã', 'esqueç', 'Nã', 'tã', 'sé', 'manhã', 'tã', 'Entã', 'abraç', 'já', 'pró', 'pró', 'pró', 'Nã', 'Ningué', 'tã', 'Tã', 'Tã']\n"
     ]
    }
   ],
   "source": [
    "# Forma 2\n",
    "# 5- Crie um REGEX que retorne as palavras com acento, mas somente até os caracteres da palavra que possuem o acento.\n",
    "#  \\w* representa zero ou mais caracteres alfanuméricos, seguido por [áéíóúâêôãõç], que representa um único caractere acentuado.\n",
    "\n",
    "resultado = re.findall(r'\\b\\w*[áéíóúâêôãõç]', musica) \n",
    "print(\"As palavras são:\", resultado)"
   ]
  },
  {
   "cell_type": "code",
   "execution_count": 22,
   "id": "00fcb706",
   "metadata": {},
   "outputs": [
    {
     "name": "stdout",
     "output_type": "stream",
     "text": [
      "As palavras são: ['Não', 'esqueço', 'Não', 'É', 'tão', 'sério', 'manhã', 'tão', 'É', 'Então', 'abraça', 'já', 'próprio', 'próprio', 'próprio', 'Não', 'É', 'Ninguém', 'tão', 'Tão', 'Tão']\n"
     ]
    }
   ],
   "source": [
    "# Forma 3\n",
    "# 5- Crie um REGEX que retorne todas as palavras com acento.\n",
    "\n",
    "resultado = re.findall(r'\\b\\w*[\\u00C0-\\u017F]\\w*\\b', musica) \n",
    "print(\"As palavras são:\", resultado)"
   ]
  },
  {
   "cell_type": "code",
   "execution_count": null,
   "id": "a6f9c8e4",
   "metadata": {},
   "outputs": [],
   "source": []
  }
 ],
 "metadata": {
  "kernelspec": {
   "display_name": "Python 3 (ipykernel)",
   "language": "python",
   "name": "python3"
  },
  "language_info": {
   "codemirror_mode": {
    "name": "ipython",
    "version": 3
   },
   "file_extension": ".py",
   "mimetype": "text/x-python",
   "name": "python",
   "nbconvert_exporter": "python",
   "pygments_lexer": "ipython3",
   "version": "3.11.6"
  }
 },
 "nbformat": 4,
 "nbformat_minor": 5
}
