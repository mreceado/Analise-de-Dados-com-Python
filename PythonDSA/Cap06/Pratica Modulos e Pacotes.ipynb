{
 "cells": [
  {
   "cell_type": "markdown",
   "id": "909143bd",
   "metadata": {},
   "source": [
    "### Pacotes e Módulos\n",
    "\n",
    "Em Python, um módulo é um arquivo (script) que contém código Python e pode ser importado em outros arquivos Python. Ele é usado para compartilhar funções, classes e variáveis entre arquivos.\n",
    "\n",
    "Já um pacote é uma coleção de módulos organizados em uma estrutura de diretórios. Ele permite a divisão de um aplicativo em múltiplos módulos, o que facilita a manutenção e o desenvolvimento.\n",
    "\n",
    "Visite o PyPi, repositório de pacotes da Linguagem Python: https://pypi.org/"
   ]
  },
  {
   "cell_type": "code",
   "execution_count": 1,
   "id": "e28e12f7",
   "metadata": {},
   "outputs": [],
   "source": [
    "# Importando um pacote Python\n",
    "import numpy"
   ]
  },
  {
   "cell_type": "code",
   "execution_count": 2,
   "id": "7d182752",
   "metadata": {},
   "outputs": [
    {
     "data": {
      "text/plain": [
       "['ALLOW_THREADS',\n",
       " 'BUFSIZE',\n",
       " 'CLIP',\n",
       " 'DataSource',\n",
       " 'ERR_CALL',\n",
       " 'ERR_DEFAULT',\n",
       " 'ERR_IGNORE',\n",
       " 'ERR_LOG',\n",
       " 'ERR_PRINT',\n",
       " 'ERR_RAISE',\n",
       " 'ERR_WARN',\n",
       " 'FLOATING_POINT_SUPPORT',\n",
       " 'FPE_DIVIDEBYZERO',\n",
       " 'FPE_INVALID',\n",
       " 'FPE_OVERFLOW',\n",
       " 'FPE_UNDERFLOW',\n",
       " 'False_',\n",
       " 'Inf',\n",
       " 'Infinity',\n",
       " 'MAXDIMS',\n",
       " 'MAY_SHARE_BOUNDS',\n",
       " 'MAY_SHARE_EXACT',\n",
       " 'NAN',\n",
       " 'NINF',\n",
       " 'NZERO',\n",
       " 'NaN',\n",
       " 'PINF',\n",
       " 'PZERO',\n",
       " 'RAISE',\n",
       " 'RankWarning',\n",
       " 'SHIFT_DIVIDEBYZERO',\n",
       " 'SHIFT_INVALID',\n",
       " 'SHIFT_OVERFLOW',\n",
       " 'SHIFT_UNDERFLOW',\n",
       " 'ScalarType',\n",
       " 'True_',\n",
       " 'UFUNC_BUFSIZE_DEFAULT',\n",
       " 'UFUNC_PYVALS_NAME',\n",
       " 'WRAP',\n",
       " '_CopyMode',\n",
       " '_NoValue',\n",
       " '_UFUNC_API',\n",
       " '__NUMPY_SETUP__',\n",
       " '__all__',\n",
       " '__builtins__',\n",
       " '__cached__',\n",
       " '__config__',\n",
       " '__deprecated_attrs__',\n",
       " '__dir__',\n",
       " '__doc__',\n",
       " '__expired_functions__',\n",
       " '__file__',\n",
       " '__former_attrs__',\n",
       " '__future_scalars__',\n",
       " '__getattr__',\n",
       " '__loader__',\n",
       " '__name__',\n",
       " '__package__',\n",
       " '__path__',\n",
       " '__spec__',\n",
       " '__version__',\n",
       " '_add_newdoc_ufunc',\n",
       " '_builtins',\n",
       " '_distributor_init',\n",
       " '_financial_names',\n",
       " '_get_promotion_state',\n",
       " '_globals',\n",
       " '_int_extended_msg',\n",
       " '_mat',\n",
       " '_no_nep50_warning',\n",
       " '_pyinstaller_hooks_dir',\n",
       " '_pytesttester',\n",
       " '_set_promotion_state',\n",
       " '_specific_msg',\n",
       " '_typing',\n",
       " '_using_numpy2_behavior',\n",
       " '_utils',\n",
       " 'abs',\n",
       " 'absolute',\n",
       " 'add',\n",
       " 'add_docstring',\n",
       " 'add_newdoc',\n",
       " 'add_newdoc_ufunc',\n",
       " 'all',\n",
       " 'allclose',\n",
       " 'alltrue',\n",
       " 'amax',\n",
       " 'amin',\n",
       " 'angle',\n",
       " 'any',\n",
       " 'append',\n",
       " 'apply_along_axis',\n",
       " 'apply_over_axes',\n",
       " 'arange',\n",
       " 'arccos',\n",
       " 'arccosh',\n",
       " 'arcsin',\n",
       " 'arcsinh',\n",
       " 'arctan',\n",
       " 'arctan2',\n",
       " 'arctanh',\n",
       " 'argmax',\n",
       " 'argmin',\n",
       " 'argpartition',\n",
       " 'argsort',\n",
       " 'argwhere',\n",
       " 'around',\n",
       " 'array',\n",
       " 'array2string',\n",
       " 'array_equal',\n",
       " 'array_equiv',\n",
       " 'array_repr',\n",
       " 'array_split',\n",
       " 'array_str',\n",
       " 'asanyarray',\n",
       " 'asarray',\n",
       " 'asarray_chkfinite',\n",
       " 'ascontiguousarray',\n",
       " 'asfarray',\n",
       " 'asfortranarray',\n",
       " 'asmatrix',\n",
       " 'atleast_1d',\n",
       " 'atleast_2d',\n",
       " 'atleast_3d',\n",
       " 'average',\n",
       " 'bartlett',\n",
       " 'base_repr',\n",
       " 'binary_repr',\n",
       " 'bincount',\n",
       " 'bitwise_and',\n",
       " 'bitwise_not',\n",
       " 'bitwise_or',\n",
       " 'bitwise_xor',\n",
       " 'blackman',\n",
       " 'block',\n",
       " 'bmat',\n",
       " 'bool_',\n",
       " 'broadcast',\n",
       " 'broadcast_arrays',\n",
       " 'broadcast_shapes',\n",
       " 'broadcast_to',\n",
       " 'busday_count',\n",
       " 'busday_offset',\n",
       " 'busdaycalendar',\n",
       " 'byte',\n",
       " 'byte_bounds',\n",
       " 'bytes_',\n",
       " 'c_',\n",
       " 'can_cast',\n",
       " 'cast',\n",
       " 'cbrt',\n",
       " 'cdouble',\n",
       " 'ceil',\n",
       " 'cfloat',\n",
       " 'char',\n",
       " 'character',\n",
       " 'chararray',\n",
       " 'choose',\n",
       " 'clip',\n",
       " 'clongdouble',\n",
       " 'clongfloat',\n",
       " 'column_stack',\n",
       " 'common_type',\n",
       " 'compare_chararrays',\n",
       " 'compat',\n",
       " 'complex128',\n",
       " 'complex64',\n",
       " 'complex_',\n",
       " 'complexfloating',\n",
       " 'compress',\n",
       " 'concatenate',\n",
       " 'conj',\n",
       " 'conjugate',\n",
       " 'convolve',\n",
       " 'copy',\n",
       " 'copysign',\n",
       " 'copyto',\n",
       " 'corrcoef',\n",
       " 'correlate',\n",
       " 'cos',\n",
       " 'cosh',\n",
       " 'count_nonzero',\n",
       " 'cov',\n",
       " 'cross',\n",
       " 'csingle',\n",
       " 'ctypeslib',\n",
       " 'cumprod',\n",
       " 'cumproduct',\n",
       " 'cumsum',\n",
       " 'datetime64',\n",
       " 'datetime_as_string',\n",
       " 'datetime_data',\n",
       " 'deg2rad',\n",
       " 'degrees',\n",
       " 'delete',\n",
       " 'deprecate',\n",
       " 'deprecate_with_doc',\n",
       " 'diag',\n",
       " 'diag_indices',\n",
       " 'diag_indices_from',\n",
       " 'diagflat',\n",
       " 'diagonal',\n",
       " 'diff',\n",
       " 'digitize',\n",
       " 'disp',\n",
       " 'divide',\n",
       " 'divmod',\n",
       " 'dot',\n",
       " 'double',\n",
       " 'dsplit',\n",
       " 'dstack',\n",
       " 'dtype',\n",
       " 'dtypes',\n",
       " 'e',\n",
       " 'ediff1d',\n",
       " 'einsum',\n",
       " 'einsum_path',\n",
       " 'emath',\n",
       " 'empty',\n",
       " 'empty_like',\n",
       " 'equal',\n",
       " 'errstate',\n",
       " 'euler_gamma',\n",
       " 'exceptions',\n",
       " 'exp',\n",
       " 'exp2',\n",
       " 'expand_dims',\n",
       " 'expm1',\n",
       " 'extract',\n",
       " 'eye',\n",
       " 'fabs',\n",
       " 'fastCopyAndTranspose',\n",
       " 'fft',\n",
       " 'fill_diagonal',\n",
       " 'find_common_type',\n",
       " 'finfo',\n",
       " 'fix',\n",
       " 'flatiter',\n",
       " 'flatnonzero',\n",
       " 'flexible',\n",
       " 'flip',\n",
       " 'fliplr',\n",
       " 'flipud',\n",
       " 'float16',\n",
       " 'float32',\n",
       " 'float64',\n",
       " 'float_',\n",
       " 'float_power',\n",
       " 'floating',\n",
       " 'floor',\n",
       " 'floor_divide',\n",
       " 'fmax',\n",
       " 'fmin',\n",
       " 'fmod',\n",
       " 'format_float_positional',\n",
       " 'format_float_scientific',\n",
       " 'format_parser',\n",
       " 'frexp',\n",
       " 'from_dlpack',\n",
       " 'frombuffer',\n",
       " 'fromfile',\n",
       " 'fromfunction',\n",
       " 'fromiter',\n",
       " 'frompyfunc',\n",
       " 'fromregex',\n",
       " 'fromstring',\n",
       " 'full',\n",
       " 'full_like',\n",
       " 'gcd',\n",
       " 'generic',\n",
       " 'genfromtxt',\n",
       " 'geomspace',\n",
       " 'get_array_wrap',\n",
       " 'get_include',\n",
       " 'get_printoptions',\n",
       " 'getbufsize',\n",
       " 'geterr',\n",
       " 'geterrcall',\n",
       " 'geterrobj',\n",
       " 'gradient',\n",
       " 'greater',\n",
       " 'greater_equal',\n",
       " 'half',\n",
       " 'hamming',\n",
       " 'hanning',\n",
       " 'heaviside',\n",
       " 'histogram',\n",
       " 'histogram2d',\n",
       " 'histogram_bin_edges',\n",
       " 'histogramdd',\n",
       " 'hsplit',\n",
       " 'hstack',\n",
       " 'hypot',\n",
       " 'i0',\n",
       " 'identity',\n",
       " 'iinfo',\n",
       " 'imag',\n",
       " 'in1d',\n",
       " 'index_exp',\n",
       " 'indices',\n",
       " 'inexact',\n",
       " 'inf',\n",
       " 'info',\n",
       " 'infty',\n",
       " 'inner',\n",
       " 'insert',\n",
       " 'int16',\n",
       " 'int32',\n",
       " 'int64',\n",
       " 'int8',\n",
       " 'int_',\n",
       " 'intc',\n",
       " 'integer',\n",
       " 'interp',\n",
       " 'intersect1d',\n",
       " 'intp',\n",
       " 'invert',\n",
       " 'is_busday',\n",
       " 'isclose',\n",
       " 'iscomplex',\n",
       " 'iscomplexobj',\n",
       " 'isfinite',\n",
       " 'isfortran',\n",
       " 'isin',\n",
       " 'isinf',\n",
       " 'isnan',\n",
       " 'isnat',\n",
       " 'isneginf',\n",
       " 'isposinf',\n",
       " 'isreal',\n",
       " 'isrealobj',\n",
       " 'isscalar',\n",
       " 'issctype',\n",
       " 'issubclass_',\n",
       " 'issubdtype',\n",
       " 'issubsctype',\n",
       " 'iterable',\n",
       " 'ix_',\n",
       " 'kaiser',\n",
       " 'kron',\n",
       " 'lcm',\n",
       " 'ldexp',\n",
       " 'left_shift',\n",
       " 'less',\n",
       " 'less_equal',\n",
       " 'lexsort',\n",
       " 'lib',\n",
       " 'linalg',\n",
       " 'linspace',\n",
       " 'little_endian',\n",
       " 'load',\n",
       " 'loadtxt',\n",
       " 'log',\n",
       " 'log10',\n",
       " 'log1p',\n",
       " 'log2',\n",
       " 'logaddexp',\n",
       " 'logaddexp2',\n",
       " 'logical_and',\n",
       " 'logical_not',\n",
       " 'logical_or',\n",
       " 'logical_xor',\n",
       " 'logspace',\n",
       " 'longcomplex',\n",
       " 'longdouble',\n",
       " 'longfloat',\n",
       " 'longlong',\n",
       " 'lookfor',\n",
       " 'ma',\n",
       " 'mask_indices',\n",
       " 'mat',\n",
       " 'matmul',\n",
       " 'matrix',\n",
       " 'max',\n",
       " 'maximum',\n",
       " 'maximum_sctype',\n",
       " 'may_share_memory',\n",
       " 'mean',\n",
       " 'median',\n",
       " 'memmap',\n",
       " 'meshgrid',\n",
       " 'mgrid',\n",
       " 'min',\n",
       " 'min_scalar_type',\n",
       " 'minimum',\n",
       " 'mintypecode',\n",
       " 'mod',\n",
       " 'modf',\n",
       " 'moveaxis',\n",
       " 'msort',\n",
       " 'multiply',\n",
       " 'nan',\n",
       " 'nan_to_num',\n",
       " 'nanargmax',\n",
       " 'nanargmin',\n",
       " 'nancumprod',\n",
       " 'nancumsum',\n",
       " 'nanmax',\n",
       " 'nanmean',\n",
       " 'nanmedian',\n",
       " 'nanmin',\n",
       " 'nanpercentile',\n",
       " 'nanprod',\n",
       " 'nanquantile',\n",
       " 'nanstd',\n",
       " 'nansum',\n",
       " 'nanvar',\n",
       " 'nbytes',\n",
       " 'ndarray',\n",
       " 'ndenumerate',\n",
       " 'ndim',\n",
       " 'ndindex',\n",
       " 'nditer',\n",
       " 'negative',\n",
       " 'nested_iters',\n",
       " 'newaxis',\n",
       " 'nextafter',\n",
       " 'nonzero',\n",
       " 'not_equal',\n",
       " 'numarray',\n",
       " 'number',\n",
       " 'obj2sctype',\n",
       " 'object_',\n",
       " 'ogrid',\n",
       " 'oldnumeric',\n",
       " 'ones',\n",
       " 'ones_like',\n",
       " 'outer',\n",
       " 'packbits',\n",
       " 'pad',\n",
       " 'partition',\n",
       " 'percentile',\n",
       " 'pi',\n",
       " 'piecewise',\n",
       " 'place',\n",
       " 'poly',\n",
       " 'poly1d',\n",
       " 'polyadd',\n",
       " 'polyder',\n",
       " 'polydiv',\n",
       " 'polyfit',\n",
       " 'polyint',\n",
       " 'polymul',\n",
       " 'polynomial',\n",
       " 'polysub',\n",
       " 'polyval',\n",
       " 'positive',\n",
       " 'power',\n",
       " 'printoptions',\n",
       " 'prod',\n",
       " 'product',\n",
       " 'promote_types',\n",
       " 'ptp',\n",
       " 'put',\n",
       " 'put_along_axis',\n",
       " 'putmask',\n",
       " 'quantile',\n",
       " 'r_',\n",
       " 'rad2deg',\n",
       " 'radians',\n",
       " 'random',\n",
       " 'ravel',\n",
       " 'ravel_multi_index',\n",
       " 'real',\n",
       " 'real_if_close',\n",
       " 'rec',\n",
       " 'recarray',\n",
       " 'recfromcsv',\n",
       " 'recfromtxt',\n",
       " 'reciprocal',\n",
       " 'record',\n",
       " 'remainder',\n",
       " 'repeat',\n",
       " 'require',\n",
       " 'reshape',\n",
       " 'resize',\n",
       " 'result_type',\n",
       " 'right_shift',\n",
       " 'rint',\n",
       " 'roll',\n",
       " 'rollaxis',\n",
       " 'roots',\n",
       " 'rot90',\n",
       " 'round',\n",
       " 'round_',\n",
       " 'row_stack',\n",
       " 's_',\n",
       " 'safe_eval',\n",
       " 'save',\n",
       " 'savetxt',\n",
       " 'savez',\n",
       " 'savez_compressed',\n",
       " 'sctype2char',\n",
       " 'sctypeDict',\n",
       " 'sctypes',\n",
       " 'searchsorted',\n",
       " 'select',\n",
       " 'set_numeric_ops',\n",
       " 'set_printoptions',\n",
       " 'set_string_function',\n",
       " 'setbufsize',\n",
       " 'setdiff1d',\n",
       " 'seterr',\n",
       " 'seterrcall',\n",
       " 'seterrobj',\n",
       " 'setxor1d',\n",
       " 'shape',\n",
       " 'shares_memory',\n",
       " 'short',\n",
       " 'show_config',\n",
       " 'show_runtime',\n",
       " 'sign',\n",
       " 'signbit',\n",
       " 'signedinteger',\n",
       " 'sin',\n",
       " 'sinc',\n",
       " 'single',\n",
       " 'singlecomplex',\n",
       " 'sinh',\n",
       " 'size',\n",
       " 'sometrue',\n",
       " 'sort',\n",
       " 'sort_complex',\n",
       " 'source',\n",
       " 'spacing',\n",
       " 'split',\n",
       " 'sqrt',\n",
       " 'square',\n",
       " 'squeeze',\n",
       " 'stack',\n",
       " 'std',\n",
       " 'str_',\n",
       " 'string_',\n",
       " 'subtract',\n",
       " 'sum',\n",
       " 'swapaxes',\n",
       " 'take',\n",
       " 'take_along_axis',\n",
       " 'tan',\n",
       " 'tanh',\n",
       " 'tensordot',\n",
       " 'test',\n",
       " 'testing',\n",
       " 'tile',\n",
       " 'timedelta64',\n",
       " 'trace',\n",
       " 'tracemalloc_domain',\n",
       " 'transpose',\n",
       " 'trapz',\n",
       " 'tri',\n",
       " 'tril',\n",
       " 'tril_indices',\n",
       " 'tril_indices_from',\n",
       " 'trim_zeros',\n",
       " 'triu',\n",
       " 'triu_indices',\n",
       " 'triu_indices_from',\n",
       " 'true_divide',\n",
       " 'trunc',\n",
       " 'typecodes',\n",
       " 'typename',\n",
       " 'ubyte',\n",
       " 'ufunc',\n",
       " 'uint',\n",
       " 'uint16',\n",
       " 'uint32',\n",
       " 'uint64',\n",
       " 'uint8',\n",
       " 'uintc',\n",
       " 'uintp',\n",
       " 'ulonglong',\n",
       " 'unicode_',\n",
       " 'union1d',\n",
       " 'unique',\n",
       " 'unpackbits',\n",
       " 'unravel_index',\n",
       " 'unsignedinteger',\n",
       " 'unwrap',\n",
       " 'ushort',\n",
       " 'vander',\n",
       " 'var',\n",
       " 'vdot',\n",
       " 'vectorize',\n",
       " 'version',\n",
       " 'void',\n",
       " 'vsplit',\n",
       " 'vstack',\n",
       " 'where',\n",
       " 'who',\n",
       " 'zeros',\n",
       " 'zeros_like']"
      ]
     },
     "execution_count": 2,
     "metadata": {},
     "output_type": "execute_result"
    }
   ],
   "source": [
    "# Verificar todos os métodos e atributos disponíveis no pacote\n",
    "dir(numpy)"
   ]
  },
  {
   "cell_type": "code",
   "execution_count": 3,
   "id": "95877c03",
   "metadata": {},
   "outputs": [
    {
     "data": {
      "text/plain": [
       "5.0"
      ]
     },
     "execution_count": 3,
     "metadata": {},
     "output_type": "execute_result"
    }
   ],
   "source": [
    "# usando um dos métodos do pacote numpy\n",
    "numpy.sqrt(25)"
   ]
  },
  {
   "cell_type": "code",
   "execution_count": 4,
   "id": "29a8939e",
   "metadata": {},
   "outputs": [
    {
     "data": {
      "text/plain": [
       "5"
      ]
     },
     "execution_count": 4,
     "metadata": {},
     "output_type": "execute_result"
    }
   ],
   "source": [
    "int(numpy.sqrt(25))"
   ]
  },
  {
   "cell_type": "code",
   "execution_count": 5,
   "id": "9531f2c8",
   "metadata": {},
   "outputs": [],
   "source": [
    "from numpy import sqrt"
   ]
  },
  {
   "cell_type": "code",
   "execution_count": 6,
   "id": "6d4f5652",
   "metadata": {},
   "outputs": [
    {
     "data": {
      "text/plain": [
       "3.0"
      ]
     },
     "execution_count": 6,
     "metadata": {},
     "output_type": "execute_result"
    }
   ],
   "source": [
    "sqrt(9)"
   ]
  },
  {
   "cell_type": "code",
   "execution_count": 7,
   "id": "e0edf1fc",
   "metadata": {},
   "outputs": [
    {
     "name": "stdout",
     "output_type": "stream",
     "text": [
      "['ALLOW_THREADS', 'BUFSIZE', 'CLIP', 'DataSource', 'ERR_CALL', 'ERR_DEFAULT', 'ERR_IGNORE', 'ERR_LOG', 'ERR_PRINT', 'ERR_RAISE', 'ERR_WARN', 'FLOATING_POINT_SUPPORT', 'FPE_DIVIDEBYZERO', 'FPE_INVALID', 'FPE_OVERFLOW', 'FPE_UNDERFLOW', 'False_', 'Inf', 'Infinity', 'MAXDIMS', 'MAY_SHARE_BOUNDS', 'MAY_SHARE_EXACT', 'NAN', 'NINF', 'NZERO', 'NaN', 'PINF', 'PZERO', 'RAISE', 'RankWarning', 'SHIFT_DIVIDEBYZERO', 'SHIFT_INVALID', 'SHIFT_OVERFLOW', 'SHIFT_UNDERFLOW', 'ScalarType', 'True_', 'UFUNC_BUFSIZE_DEFAULT', 'UFUNC_PYVALS_NAME', 'WRAP', '_CopyMode', '_NoValue', '_UFUNC_API', '__NUMPY_SETUP__', '__all__', '__builtins__', '__cached__', '__config__', '__deprecated_attrs__', '__dir__', '__doc__', '__expired_functions__', '__file__', '__former_attrs__', '__future_scalars__', '__getattr__', '__loader__', '__name__', '__package__', '__path__', '__spec__', '__version__', '_add_newdoc_ufunc', '_builtins', '_distributor_init', '_financial_names', '_get_promotion_state', '_globals', '_int_extended_msg', '_mat', '_no_nep50_warning', '_pyinstaller_hooks_dir', '_pytesttester', '_set_promotion_state', '_specific_msg', '_typing', '_using_numpy2_behavior', '_utils', 'abs', 'absolute', 'add', 'add_docstring', 'add_newdoc', 'add_newdoc_ufunc', 'all', 'allclose', 'alltrue', 'amax', 'amin', 'angle', 'any', 'append', 'apply_along_axis', 'apply_over_axes', 'arange', 'arccos', 'arccosh', 'arcsin', 'arcsinh', 'arctan', 'arctan2', 'arctanh', 'argmax', 'argmin', 'argpartition', 'argsort', 'argwhere', 'around', 'array', 'array2string', 'array_equal', 'array_equiv', 'array_repr', 'array_split', 'array_str', 'asanyarray', 'asarray', 'asarray_chkfinite', 'ascontiguousarray', 'asfarray', 'asfortranarray', 'asmatrix', 'atleast_1d', 'atleast_2d', 'atleast_3d', 'average', 'bartlett', 'base_repr', 'binary_repr', 'bincount', 'bitwise_and', 'bitwise_not', 'bitwise_or', 'bitwise_xor', 'blackman', 'block', 'bmat', 'bool_', 'broadcast', 'broadcast_arrays', 'broadcast_shapes', 'broadcast_to', 'busday_count', 'busday_offset', 'busdaycalendar', 'byte', 'byte_bounds', 'bytes_', 'c_', 'can_cast', 'cast', 'cbrt', 'cdouble', 'ceil', 'cfloat', 'char', 'character', 'chararray', 'choose', 'clip', 'clongdouble', 'clongfloat', 'column_stack', 'common_type', 'compare_chararrays', 'compat', 'complex128', 'complex64', 'complex_', 'complexfloating', 'compress', 'concatenate', 'conj', 'conjugate', 'convolve', 'copy', 'copysign', 'copyto', 'corrcoef', 'correlate', 'cos', 'cosh', 'count_nonzero', 'cov', 'cross', 'csingle', 'ctypeslib', 'cumprod', 'cumproduct', 'cumsum', 'datetime64', 'datetime_as_string', 'datetime_data', 'deg2rad', 'degrees', 'delete', 'deprecate', 'deprecate_with_doc', 'diag', 'diag_indices', 'diag_indices_from', 'diagflat', 'diagonal', 'diff', 'digitize', 'disp', 'divide', 'divmod', 'dot', 'double', 'dsplit', 'dstack', 'dtype', 'dtypes', 'e', 'ediff1d', 'einsum', 'einsum_path', 'emath', 'empty', 'empty_like', 'equal', 'errstate', 'euler_gamma', 'exceptions', 'exp', 'exp2', 'expand_dims', 'expm1', 'extract', 'eye', 'fabs', 'fastCopyAndTranspose', 'fft', 'fill_diagonal', 'find_common_type', 'finfo', 'fix', 'flatiter', 'flatnonzero', 'flexible', 'flip', 'fliplr', 'flipud', 'float16', 'float32', 'float64', 'float_', 'float_power', 'floating', 'floor', 'floor_divide', 'fmax', 'fmin', 'fmod', 'format_float_positional', 'format_float_scientific', 'format_parser', 'frexp', 'from_dlpack', 'frombuffer', 'fromfile', 'fromfunction', 'fromiter', 'frompyfunc', 'fromregex', 'fromstring', 'full', 'full_like', 'gcd', 'generic', 'genfromtxt', 'geomspace', 'get_array_wrap', 'get_include', 'get_printoptions', 'getbufsize', 'geterr', 'geterrcall', 'geterrobj', 'gradient', 'greater', 'greater_equal', 'half', 'hamming', 'hanning', 'heaviside', 'histogram', 'histogram2d', 'histogram_bin_edges', 'histogramdd', 'hsplit', 'hstack', 'hypot', 'i0', 'identity', 'iinfo', 'imag', 'in1d', 'index_exp', 'indices', 'inexact', 'inf', 'info', 'infty', 'inner', 'insert', 'int16', 'int32', 'int64', 'int8', 'int_', 'intc', 'integer', 'interp', 'intersect1d', 'intp', 'invert', 'is_busday', 'isclose', 'iscomplex', 'iscomplexobj', 'isfinite', 'isfortran', 'isin', 'isinf', 'isnan', 'isnat', 'isneginf', 'isposinf', 'isreal', 'isrealobj', 'isscalar', 'issctype', 'issubclass_', 'issubdtype', 'issubsctype', 'iterable', 'ix_', 'kaiser', 'kron', 'lcm', 'ldexp', 'left_shift', 'less', 'less_equal', 'lexsort', 'lib', 'linalg', 'linspace', 'little_endian', 'load', 'loadtxt', 'log', 'log10', 'log1p', 'log2', 'logaddexp', 'logaddexp2', 'logical_and', 'logical_not', 'logical_or', 'logical_xor', 'logspace', 'longcomplex', 'longdouble', 'longfloat', 'longlong', 'lookfor', 'ma', 'mask_indices', 'mat', 'matmul', 'matrix', 'max', 'maximum', 'maximum_sctype', 'may_share_memory', 'mean', 'median', 'memmap', 'meshgrid', 'mgrid', 'min', 'min_scalar_type', 'minimum', 'mintypecode', 'mod', 'modf', 'moveaxis', 'msort', 'multiply', 'nan', 'nan_to_num', 'nanargmax', 'nanargmin', 'nancumprod', 'nancumsum', 'nanmax', 'nanmean', 'nanmedian', 'nanmin', 'nanpercentile', 'nanprod', 'nanquantile', 'nanstd', 'nansum', 'nanvar', 'nbytes', 'ndarray', 'ndenumerate', 'ndim', 'ndindex', 'nditer', 'negative', 'nested_iters', 'newaxis', 'nextafter', 'nonzero', 'not_equal', 'numarray', 'number', 'obj2sctype', 'object_', 'ogrid', 'oldnumeric', 'ones', 'ones_like', 'outer', 'packbits', 'pad', 'partition', 'percentile', 'pi', 'piecewise', 'place', 'poly', 'poly1d', 'polyadd', 'polyder', 'polydiv', 'polyfit', 'polyint', 'polymul', 'polynomial', 'polysub', 'polyval', 'positive', 'power', 'printoptions', 'prod', 'product', 'promote_types', 'ptp', 'put', 'put_along_axis', 'putmask', 'quantile', 'r_', 'rad2deg', 'radians', 'random', 'ravel', 'ravel_multi_index', 'real', 'real_if_close', 'rec', 'recarray', 'recfromcsv', 'recfromtxt', 'reciprocal', 'record', 'remainder', 'repeat', 'require', 'reshape', 'resize', 'result_type', 'right_shift', 'rint', 'roll', 'rollaxis', 'roots', 'rot90', 'round', 'round_', 'row_stack', 's_', 'safe_eval', 'save', 'savetxt', 'savez', 'savez_compressed', 'sctype2char', 'sctypeDict', 'sctypes', 'searchsorted', 'select', 'set_numeric_ops', 'set_printoptions', 'set_string_function', 'setbufsize', 'setdiff1d', 'seterr', 'seterrcall', 'seterrobj', 'setxor1d', 'shape', 'shares_memory', 'short', 'show_config', 'show_runtime', 'sign', 'signbit', 'signedinteger', 'sin', 'sinc', 'single', 'singlecomplex', 'sinh', 'size', 'sometrue', 'sort', 'sort_complex', 'source', 'spacing', 'split', 'sqrt', 'square', 'squeeze', 'stack', 'std', 'str_', 'string_', 'subtract', 'sum', 'swapaxes', 'take', 'take_along_axis', 'tan', 'tanh', 'tensordot', 'test', 'testing', 'tile', 'timedelta64', 'trace', 'tracemalloc_domain', 'transpose', 'trapz', 'tri', 'tril', 'tril_indices', 'tril_indices_from', 'trim_zeros', 'triu', 'triu_indices', 'triu_indices_from', 'true_divide', 'trunc', 'typecodes', 'typename', 'ubyte', 'ufunc', 'uint', 'uint16', 'uint32', 'uint64', 'uint8', 'uintc', 'uintp', 'ulonglong', 'unicode_', 'union1d', 'unique', 'unpackbits', 'unravel_index', 'unsignedinteger', 'unwrap', 'ushort', 'vander', 'var', 'vdot', 'vectorize', 'version', 'void', 'vsplit', 'vstack', 'where', 'who', 'zeros', 'zeros_like']\n"
     ]
    }
   ],
   "source": [
    "print(dir(numpy))"
   ]
  },
  {
   "cell_type": "code",
   "execution_count": 8,
   "id": "9e1f88df",
   "metadata": {},
   "outputs": [
    {
     "name": "stdout",
     "output_type": "stream",
     "text": [
      "Help on ufunc:\n",
      "\n",
      "sqrt = <ufunc 'sqrt'>\n",
      "    sqrt(x, /, out=None, *, where=True, casting='same_kind', order='K', dtype=None, subok=True[, signature, extobj])\n",
      "    \n",
      "    Return the non-negative square-root of an array, element-wise.\n",
      "    \n",
      "    Parameters\n",
      "    ----------\n",
      "    x : array_like\n",
      "        The values whose square-roots are required.\n",
      "    out : ndarray, None, or tuple of ndarray and None, optional\n",
      "        A location into which the result is stored. If provided, it must have\n",
      "        a shape that the inputs broadcast to. If not provided or None,\n",
      "        a freshly-allocated array is returned. A tuple (possible only as a\n",
      "        keyword argument) must have length equal to the number of outputs.\n",
      "    where : array_like, optional\n",
      "        This condition is broadcast over the input. At locations where the\n",
      "        condition is True, the `out` array will be set to the ufunc result.\n",
      "        Elsewhere, the `out` array will retain its original value.\n",
      "        Note that if an uninitialized `out` array is created via the default\n",
      "        ``out=None``, locations within it where the condition is False will\n",
      "        remain uninitialized.\n",
      "    **kwargs\n",
      "        For other keyword-only arguments, see the\n",
      "        :ref:`ufunc docs <ufuncs.kwargs>`.\n",
      "    \n",
      "    Returns\n",
      "    -------\n",
      "    y : ndarray\n",
      "        An array of the same shape as `x`, containing the positive\n",
      "        square-root of each element in `x`.  If any element in `x` is\n",
      "        complex, a complex array is returned (and the square-roots of\n",
      "        negative reals are calculated).  If all of the elements in `x`\n",
      "        are real, so is `y`, with negative elements returning ``nan``.\n",
      "        If `out` was provided, `y` is a reference to it.\n",
      "        This is a scalar if `x` is a scalar.\n",
      "    \n",
      "    See Also\n",
      "    --------\n",
      "    emath.sqrt\n",
      "        A version which returns complex numbers when given negative reals.\n",
      "        Note that 0.0 and -0.0 are handled differently for complex inputs.\n",
      "    \n",
      "    Notes\n",
      "    -----\n",
      "    *sqrt* has--consistent with common convention--as its branch cut the\n",
      "    real \"interval\" [`-inf`, 0), and is continuous from above on it.\n",
      "    A branch cut is a curve in the complex plane across which a given\n",
      "    complex function fails to be continuous.\n",
      "    \n",
      "    Examples\n",
      "    --------\n",
      "    >>> np.sqrt([1,4,9])\n",
      "    array([ 1.,  2.,  3.])\n",
      "    \n",
      "    >>> np.sqrt([4, -1, -3+4J])\n",
      "    array([ 2.+0.j,  0.+1.j,  1.+2.j])\n",
      "    \n",
      "    >>> np.sqrt([4, -1, np.inf])\n",
      "    array([ 2., nan, inf])\n",
      "\n"
     ]
    }
   ],
   "source": [
    "help(sqrt)"
   ]
  },
  {
   "cell_type": "code",
   "execution_count": 9,
   "id": "295aaca9",
   "metadata": {},
   "outputs": [
    {
     "data": {
      "text/plain": [
       "array([1., 2., 3.])"
      ]
     },
     "execution_count": 9,
     "metadata": {},
     "output_type": "execute_result"
    }
   ],
   "source": [
    "sqrt([1,4,9])"
   ]
  },
  {
   "cell_type": "code",
   "execution_count": 10,
   "id": "252db29a",
   "metadata": {},
   "outputs": [],
   "source": [
    "import random"
   ]
  },
  {
   "cell_type": "code",
   "execution_count": 11,
   "id": "0116615f",
   "metadata": {},
   "outputs": [
    {
     "data": {
      "text/plain": [
       "'Banana'"
      ]
     },
     "execution_count": 11,
     "metadata": {},
     "output_type": "execute_result"
    }
   ],
   "source": [
    "# Imprime o nome de uma fruta escolhida aleatoriamente\n",
    "random.choice(['abacate', 'Banana', 'Laranja'])"
   ]
  },
  {
   "cell_type": "code",
   "execution_count": 12,
   "id": "11457fd0",
   "metadata": {},
   "outputs": [
    {
     "data": {
      "text/plain": [
       "[35, 23, 47, 57, 85, 33, 43, 27, 70, 79]"
      ]
     },
     "execution_count": 12,
     "metadata": {},
     "output_type": "execute_result"
    }
   ],
   "source": [
    "# Imprime 10 números aleatórios entre 0 e 99\n",
    "random.sample(range(100), 10)"
   ]
  },
  {
   "cell_type": "code",
   "execution_count": 13,
   "id": "9793626a",
   "metadata": {},
   "outputs": [],
   "source": [
    "import statistics"
   ]
  },
  {
   "cell_type": "code",
   "execution_count": 14,
   "id": "2375db21",
   "metadata": {},
   "outputs": [],
   "source": [
    "dados = [2.75, 1.75, 1.25, 0.25, 0.5, 1.25, 3.5]"
   ]
  },
  {
   "cell_type": "code",
   "execution_count": 15,
   "id": "1ad9e480",
   "metadata": {},
   "outputs": [
    {
     "data": {
      "text/plain": [
       "1.6071428571428572"
      ]
     },
     "execution_count": 15,
     "metadata": {},
     "output_type": "execute_result"
    }
   ],
   "source": [
    "statistics.mean(dados)"
   ]
  },
  {
   "cell_type": "code",
   "execution_count": 16,
   "id": "1c4138ea",
   "metadata": {},
   "outputs": [
    {
     "data": {
      "text/plain": [
       "1.25"
      ]
     },
     "execution_count": 16,
     "metadata": {},
     "output_type": "execute_result"
    }
   ],
   "source": [
    "statistics.median(dados)"
   ]
  },
  {
   "cell_type": "code",
   "execution_count": 17,
   "id": "135843a1",
   "metadata": {},
   "outputs": [],
   "source": [
    "import os"
   ]
  },
  {
   "cell_type": "code",
   "execution_count": 18,
   "id": "4b9977c0",
   "metadata": {},
   "outputs": [
    {
     "data": {
      "text/plain": [
       "'C:\\\\PythonDSA\\\\Cap06'"
      ]
     },
     "execution_count": 18,
     "metadata": {},
     "output_type": "execute_result"
    }
   ],
   "source": [
    "os.getcwd() # getcwd() método nos diz a localização do diretório de trabalho atual (Current Work Directory)"
   ]
  },
  {
   "cell_type": "code",
   "execution_count": 19,
   "id": "78bfdceb",
   "metadata": {},
   "outputs": [
    {
     "name": "stdout",
     "output_type": "stream",
     "text": [
      "['DirEntry', 'EX_OK', 'F_OK', 'GenericAlias', 'Mapping', 'MutableMapping', 'O_APPEND', 'O_BINARY', 'O_CREAT', 'O_EXCL', 'O_NOINHERIT', 'O_RANDOM', 'O_RDONLY', 'O_RDWR', 'O_SEQUENTIAL', 'O_SHORT_LIVED', 'O_TEMPORARY', 'O_TEXT', 'O_TRUNC', 'O_WRONLY', 'P_DETACH', 'P_NOWAIT', 'P_NOWAITO', 'P_OVERLAY', 'P_WAIT', 'PathLike', 'R_OK', 'SEEK_CUR', 'SEEK_END', 'SEEK_SET', 'TMP_MAX', 'W_OK', 'X_OK', '_AddedDllDirectory', '_Environ', '__all__', '__builtins__', '__doc__', '__file__', '__loader__', '__name__', '__package__', '__spec__', '_check_methods', '_execvpe', '_exists', '_exit', '_fspath', '_get_exports_list', '_walk', '_wrap_close', 'abc', 'abort', 'access', 'add_dll_directory', 'altsep', 'chdir', 'chmod', 'close', 'closerange', 'cpu_count', 'curdir', 'defpath', 'device_encoding', 'devnull', 'dup', 'dup2', 'environ', 'error', 'execl', 'execle', 'execlp', 'execlpe', 'execv', 'execve', 'execvp', 'execvpe', 'extsep', 'fdopen', 'fsdecode', 'fsencode', 'fspath', 'fstat', 'fsync', 'ftruncate', 'get_exec_path', 'get_handle_inheritable', 'get_inheritable', 'get_terminal_size', 'getcwd', 'getcwdb', 'getenv', 'getlogin', 'getpid', 'getppid', 'isatty', 'kill', 'linesep', 'link', 'listdir', 'lseek', 'lstat', 'makedirs', 'mkdir', 'name', 'open', 'pardir', 'path', 'pathsep', 'pipe', 'popen', 'putenv', 'read', 'readlink', 'remove', 'removedirs', 'rename', 'renames', 'replace', 'rmdir', 'scandir', 'sep', 'set_handle_inheritable', 'set_inheritable', 'spawnl', 'spawnle', 'spawnv', 'spawnve', 'st', 'startfile', 'stat', 'stat_result', 'statvfs_result', 'strerror', 'supports_bytes_environ', 'supports_dir_fd', 'supports_effective_ids', 'supports_fd', 'supports_follow_symlinks', 'symlink', 'sys', 'system', 'terminal_size', 'times', 'times_result', 'truncate', 'umask', 'uname_result', 'unlink', 'unsetenv', 'urandom', 'utime', 'waitpid', 'waitstatus_to_exitcode', 'walk', 'write']\n"
     ]
    }
   ],
   "source": [
    "print(dir(os))"
   ]
  },
  {
   "cell_type": "markdown",
   "id": "df768dd6",
   "metadata": {},
   "source": [
    "### Podemos trabalhar com os módulos dos pacotes (quando disponíveis)"
   ]
  },
  {
   "cell_type": "code",
   "execution_count": 20,
   "id": "20cf7753",
   "metadata": {},
   "outputs": [],
   "source": [
    "# Importando o módulo urllib usado para trazer url's para dentro do nosso ambiente python\n",
    "import urllib.request"
   ]
  },
  {
   "cell_type": "code",
   "execution_count": 21,
   "id": "d9d387a7",
   "metadata": {},
   "outputs": [],
   "source": [
    "# Variável resposta armazena o objecto de conexão à url passada como parâmetro\n",
    "resposta = urllib.request.urlopen('http://python.org')"
   ]
  },
  {
   "cell_type": "code",
   "execution_count": 22,
   "id": "c9849764",
   "metadata": {},
   "outputs": [
    {
     "name": "stdout",
     "output_type": "stream",
     "text": [
      "<http.client.HTTPResponse object at 0x0000027AF63060E0>\n"
     ]
    }
   ],
   "source": [
    "# Objecto resposta\n",
    "print(resposta)"
   ]
  },
  {
   "cell_type": "code",
   "execution_count": 23,
   "id": "aa414cfb",
   "metadata": {},
   "outputs": [],
   "source": [
    "# Imprimindo html\n",
    "html = resposta.read()"
   ]
  },
  {
   "cell_type": "code",
   "execution_count": 24,
   "id": "6e28d988",
   "metadata": {},
   "outputs": [
    {
     "name": "stdout",
     "output_type": "stream",
     "text": [
      "b'\\x1f\\x8b\\x08\\x00\\x00\\x00\\x00\\x00\\x00\\x03\\xed}\\xebr\\x1bG\\xb2\\xe6\\x7fE\\xcc;\\x94\\xa1X\\x91\\x1a\\xab\\x01\\x82wQ$<\\xbaP2=\\xba\\xd0&e\\x9d\\xb3>\\nE\\x03h\\x00M\\x02\\xdd\\xad\\xbe\\x90\\x84g\\xe6\\x01\\xf6\\xcf\\xbe\\xc2\\xbe\\xe2>\\xc2~\\x99U\\xd5]}\\x05 rt\\xec\\r\\xcd\\x84E\\xa0Q]\\x95\\x95\\x95\\xb7\\xca\\xca\\xcc:\\xfcn\\xe8\\x0f\\xe2y\\xe0\\x88I<\\x9b\\xf6\\xee\\x1d~gY\\xbf\\xb9#1\\x8d\\xc5\\xc9\\xb1\\xd8\\xfb\\xd8\\x13B\\x1c\\xd2Ob0\\xb5\\xa3\\xe8\\xa8\\xe5\\xf9\\xd6E$\\\\g\\x17M,\\xd7\\xd9\\x93\\x7f\\xf6\\xe5\\x9f\\xc7-n\\xff\\xddo\\x8e7tG\\x1f-+\\xeb0\\xed\\xad\\xae\\xc3\\xaa\\x9e\\xd0\\x96\\xfeW\\xd7\\xe1>\\x83G\\r\\xaa \\xcc\\xc1$\\xdb\\xe9\\x7f+;\\x1c\\xf3\\x94\\xd1\\'\\xe1\\xa0W\\xee\\xb2%\\xa6\\xb67>j9^K\\x0c\\xdd\\xf0\\xa85\\x8dC\\x9a/5\\xcfux\\xefp\\xe2\\xd8\\xc3\\xde=\\t\\xbae\\x89W\\xbe?\\x9e:\"\\xb6\\xc7b}\\x8c\\x7f\\xdb\\x17\\xd1CA\\xc8\\xe1\\x16\\xd1 t\\x83X\\xd8\\xd1\\xdc\\x1b\\x88(\\x1c\\x1c\\xb5&q\\x1cD\\x07\\x9d\\xce\\xf5\\xf5u{\\xcc\\xef\\xe2\\xa5\\x99\\xed\\xd9c\\'l\\x0f\\xfcY\\x87:\\xe9\\\\D?\\xb8\\xc3\\xa3W\\xd6\\xf9\\xcb\\xad\\x9d\\xff|\\xf9\\xf8\\xf9\\xaf?\\xb6z\\x87\\x1d\\xd9[\\xaek\\xf9E\\x88k\\xd7\\x1b\\xfa\\xd7\\xed\\xa1\\x1d\\xdb\\xaf\\xed\\xb9\\x13\\x8a\\xa3\\xf2\\xa3\\x7f\\xfeS\\xfc\\xf6\\xf1\\t\\x03&\\xc4(\\xf1\\x06\\xb1\\xeb{\\x82\\xc6[\\x7f\\xf8\\x8f\\xf4\\xcdv\\x90D\\x93u;\\x1c\\'3\\xc7\\x8b\\xa3\\x87O\\xfe\\xa5\\xde\\xe0\\x86k\\x17\\xd1\\xda#\\xe19\\xd7\\xe2\\x85\\x1d;\\xeb\\x0f\\x1f\\xea\\xfe\\xe4\\xaf\\x03\\xdf\\x1b\\xb9c\\xb4X3a_S\\xad\\xb2\\x19H\\xec\\xcc0w1\\x98\\xd8a\\xe4\\xc4G\\xad$\\x1eY\\xfb-5;\\xfe\\x89pe9\\x9f\\x13\\xf7\\xea\\xa8\\xf5\\x1f\\xd6\\xfb\\xa7\\xd6s\\x7f\\x16\\xd8\\xb1\\xdb\\x9f:-\\x81\\xa1b\\x00x\\xd4:9>r\\x86c\\x07o\\xca^\\xa7\\xaew)Bgz\\xd4\\nBg\\xe4\\xc4\\x83IKL\\xf0\\xe9\\xa8\\xd5\\xe9\\xd8\\x17\\xf6\\x8dB\\xbb\\x1d\\xb8\\x11#\\x9c\\x9eu\\xa6n?\\xea\\\\|N\\x9cp\\xde\\xe9\\xb6\\xf7\\xdb\\x9b\\xeaK{\\xe6zXR\\r\\xd6m\\xfbN\\\\\\xf4\\xde\\xddlwU\\xf7V\\xe2f#\\x18H\\xf1\\xec\\x99s\\xd4\\xb2\\x83`\\xea\\x0e0a\\xdf\\xb3\\xe8\\x891\\xe9\\xd3y<\\xf1\\xbd\\xb6\\x1f\\x8es\\x18\\x93\\xef\\xcd\"\\xf3\\xcd\\xd8\\xf7\\xa7\\xb1\\x1b\\x18/\\x9fO\\x1c\\xe1\\x8fF\\xee\\xc0\\xb5\\xa7b\\xe2\\xcf\\xe8\\x9b\\x88\\xf1P\\xf6*NC\\x7f\\x1c\\xda3L},^\\x83/\\x12\\x10g\\xc504\\x88c\\xcd\\xfc\\xbe\\x8b?\\xd7N\\xdf\\xc2\\x03+v\\xe3\\xdc\\xea4\\x02Z\\xd9\\xc3\\xc0\\x0e\\xec\\xfc\\n\\xcf\\x9dt\\x01\\x98.2\\xec\\x94\\x86\\x8fb;N\"\\xabo\\x87V\\x14\\xcfs\\x90\\xf4\\xa7\\xf6\\xe02\\xa5\\x12\\xa3\\xa3+\\xd7\\xb9\\x0e\\xfc060t\\xed\\x0e\\xe3\\xc9\\xd1\\xd0\\xb9r\\x07\\x98\\x1a}y$\\\\\\xcf\\x8d\\x810+\\x1a\\xd8S\\xe7\\xa8\\xdb\\xde\\xa8@\\xc9\\x8f\\xb67\\x9c8\\xd3\\xe1\\xcb\\xd0\\x85\\x98\\x9c\\xceM\\xa4\\x87I\\x15\\x12G~8\\xb3ck\\xe8\\xc4\\x0e\\xf3\\xa3\\xf1F\\xecL\\x9d\\x00\\xab\\xec\\x1cy~-_\\x0c\\xa6\\x8e\\x1d\\x92\\x907^D/ul\\xe4\\xce\\xb0\\x96D\\x11\\xc0\\x90\\xf1\\xc6\\xc8\\x9eF\\x19\\x07\\x99RK1\\xbf\\x14\\x1a9\\t6s\\x86\\xae\\xddv\\xe2\\tHtj\\x0f\\xa3\\xb6\\xebw\\xf8Yg0\\xc5\\xec\\xe3\\xceU\\xb7\\xbd\\xdd\\xde\\xe8\\x18-\\x143\\xe5\\xfat\\xc1\\xc6\\xe3\\xd0\\x8d\\xe7G\\xadhbo\\xee\\xecZ\\xef\\xb7&\\x7f\\x7f\\xe1\\x0e\\x93\\xe1\\x89}\\xf3\\xec\\xc5\\xf1\\xef\\xd7\\xaf~z\\x1a\\xfc4>=\\x1em\\xce>\\\\\\xee\\x0eFo>\\x8c\\'\\xe1S{\\xd7\\xdd8\\x12xgk\\x7f\\xdbz?\\x98E\\xcf?\\x0f\\xde\\xfer\\xf6\\xfaCg\\xf8\\xeb\\xd6k\\xbf\\xeb?w7;\\xbf\\xdaI\\xf8\\x1f}\\xb7\\xbf\\x1bl\\xff8\\x7f\\x7f\\xfc\\xce9\\xb1;\\xdb\\xef\\x82(\\xf4\\x92A\\x98\\x8c\\x9f:\\xa3\\xdf\\x7f\\xfd\\x9f?\\x8dN\\xa8\\x9f\\x9d\\xee\\xa6\\xf5y;\\xee\\xbe\\xde\\xbe9\\xbex\\xf5\\xeb\\xe6/\\xdb\\x93\\xdf??\\xb7\\xb7\\xbb\\xa7\\xfb\\x17\\xe1\\xf8\\xe5\\xfb\\xb3\\xfd\\x9b\\xf3\\xfe~8|{\\xb5\\xfd\\xf2\\xd5\\xd5\\xf5\\xde\\xcb`>\\xfc\\xf5\\xa2syy\\xf3\\xec\\xa7\\x1f\\xdf\\xb9\\xb6\\x7f\\xf3\\xa3\\xbd\\xefO\\x9f\\x0fn\\xbag\\xd3\\xcb\\xc7\\x7f\\xff~+z\\xdb\\x8f\\xdel\\'\\xe3\\xa3\\xa3Vn\\xce\\x83\\xd0\\x8f\"?t\\xc7\\xae\\x07.\\xf7|o>\\xf3\\x93H\\xb6\\xa9\\x96\\xf3Ryt\\x88\\xbc\\xdd\\x01\\xd4\\x83\\x14X3\\x7f\\xe8\\x84\\x9e\\xfb{\\xc8\"\\xaa(^YX)\\xc9\\xa7^d\\x9e\\x88&\\x8e\\x13G\\xe8\\x0b\\x9f\\xdb\\xdd\\xc1\\xc6hkg\\xd7\\x19m\\r\\xf6\\xda\\x83(jI\\xd1\\x995l\\t\\xa2\\xae\\xa3V\\xec\\xdc\\xc4\\x1dn\\xc0\\x8b\\x0c\\xb8\\xa7S\\xfcF\\xec~\\xd4\\x1a:#;\\x99\\x82\\x83:\\x8a\\xf0\\x16\\x8c=\\xfb\\xdc\\x1e=\\xee\\xee\\xefmoo\\xdb\\xdbvw\\xb5\\x81=?\\x16A\\x08\\xbay$\\xfa\\xa1\\xedN\\xa7\\xce#\\xe1\\xcc\\xfa@\\xa93|$\\xa2\\xc0q\\x06`\\xd78\\x06\\xf7-\\t\\x0e\\x0c\\x1f@\\xd4\\x1fm\\x0c\\xb67w\\x06\\xc3\\xfe\\xde\\xd6j\\x10\\x81a\\x1c2\\x1d\\xd4pJ\\x11)sk}\\x1a;l}<|\\xb0\\xfe\\xdd\\xc9\\xf1\\x1b\\x96\\x97\\x0f?.\\x87\\xa8\\xbb\\x86\\x8c\\xf8X\\xea\\x19\\xd3\\x90\\xa3\\xa7\\x87\\x99n3\\x17\\x7f\\x15\\xcd\\x99i7(\\x93\\x99\\x03\\x12\\x9b\\xf9~<\\xf1\\x9cH\\xebV\\xd2wDCJW\\x17\\x15\\xb6\\x0b\\xa5\\xae\\xe9\\x8d%U\\xe7\\xc6\\x92\\xcf\\xf2d<\\xb2!\\x98\\xa1\\xfe\\xf0OY3K\\xa5\\x12\\xfb\\xc9`\\xc2/[0\\x03\\xa0\\xe7\\x03\\x1f\\xe4\\xd1\\x12\\x91\\xfb\\xbb\\x03S\\xb7\\xbb\\xbd}\\x83\\xffR\\xcb@\\xf1G\\xe9]\\xd5\\xce\\xec\\xa3\\x1dx\\xa9\\xd2\\xcdpVz\\xb3r\\xd4.F\\xed.1\\xaalwG\\xa3\\xeem\\xde\\xecm.\\x9c)\\xb7\\xba\\xed\\x88\\xf9ej\\xc2\\xc9rX\\\\\\x08\\xb5\\x81e\\xd5#\\xd3T\\xc9\\x94\\xca\\x9bD\\xe7\\xe0\\xc0\\x13\\xa2/C\\x05j\\xd9\\n\\xc3 \\xf4%\\xe1\\xd4.>m\\x0b\\xc4\\xf5\\xc4\\x05cCo`\\x83\\x95\\x1a\\xfc\\x86YQ\\x1e\\xf2\\xb9?\\xf5M\\xad{\\x7fkwo\\xcb\\xde\\x81\\xe4\\xa6\\xfe\\x026\\xe9D\\x7f\\x9a,\\xd3\\x9fg_\\xf5\\x938\\x06y\\x0f\\xeazUb\\x88Et\\xef\\x833\\x05\\x13`\\xa3\\xe2++\\x8fl\\xc7\\xc3\\x8e\\xfcQ\\xb54\\x80\\x1f:\\xd2\\x08\\xc8[$wd8^:\\xf3k?\\x1cB\\x95\\xa4F\\xbc\\xb2<\\x03\\xc3\\xf2\\xa4\\x1d\\x19Y\\x9e\\xc2\\xef_\\xc06\\x12\\xd0\\x97\\xb0*\\x9c\\xa1\\x80\\xa9)F\\x10\\xb8\\xc2\\x0f\\x1cOD~\\x12\\x0e\\xb0\\x0e\\xfe(\\xbe\\xb6CG\\xc0bv\\xbc\\xc8\\x11\\xd8\\xfb\\xf2\\x0e\\x86\\xcdg|\\xbb\\xf6\\xa6\\xbe=\\xc4\\x88\\xb3Y\\x02Kn\\x9e\\x97A<u\\x8c\\x1e80\\xa6\\x8eZ\\xfe\\xf8\\xa0`Sa\\xd0\\x08\\xeb\\x9d3\\xacr\\xed\\xe9\\xd7O\\xcbY\\xe9\\xf9q\\n\\x06s\\xe5B\\xd5\\x0f{\\xe7\\x0be\\xb0N\\x0eN\\x96\\xc7\\xc6\\x8a\\x99\\x1bYI\\xbaDQ\\x9a\\x8bhi\\xb0\\x87\\x08\\x94\\x08\\xde\\xdc\\xd8\\xb8\\xc1\\x7f&\\xd3\\x971\\xce#\\x1cD\\xce \\t\\x9dOI\\x08\\xeb\"%\\x8f[\\x0eV7\\xa7\\xa5\\x06\\xd1\\x84b(H;\\x01\\xab\\x82\\x93\\x95\\xb8\\x9b$\\xd8\\xc0G\\xed\\xf8&\\xaej\\x0b\\xf5\\x1fz\\xd8,k\\xc5f\\xec\\xcd:a\\x14}\\x7f3\\xcb\\xec(\\xc5\\x06\\xc7\\xde\\xc4\\xf6\\x06P\\xa1^L\\x9b1\\xa8.\\xd8\\xe7\\xa6\\t)\\x07\\xd6X\\t\\x9c j\\x1bk\\xc0\\xdf\\xd1u\\x85n\\xfc\\x02`~\\xf2\\xfb\\xe2]@\\x1b$\\xe2\\x1b\\x17{1\\xc3\\x96\\xcd\\x03BN\\r\\x03\\x8e\\x0b\\x1f\\x9b\\xea\\x91\\xe3\\x0ci\\x9e\\x9d\\xbb\\x81\\xe6L\\xf3\\xf9K?\\xf1\\xe0\\xb4 \\xe6~\\xeb\\\\7\\x00E\\x00Dm\\xfa\\xb7\\x9f\\x84\\x9e\\xf2\\xb2HD\\xeb\\xce\\xb2\\xbe\\xb8+\\xd34cG\\x82\\xfd\\x05h;\\xf1\"\\x17\\xd6y=\\xb2\\x1a\\xe0\\xd2\\xefj3\\xc9\\xd0ijo&mr\\x93\\x94\\xa6\\xc3\\xef/\\xa2t\\xe7\\'\\xfe\\xa1\\x17\\xa9\\xf57\\xe6\"\\xd0\\xe6\\x81H\\xbdO\\xd1\\x00\\x06\\x9a\\xcd\\xee\\x83GYC\\x16yh\\xf5\\xc1\\xe9\\x9f\\x91\\xac\\xcb~\"F1^/\\xac\\xb3\\xd10\\xf0\\xc9)\\x83m\\xf2S\\xb9\\x9b=\\xc8\\x00\\x11\\xa2\\xf57=\\xc2\\x196\\xad\\x83\\x89j\\x93\\x0e\\x83\\x161\\x1cON\\x0e\\xd4\\xc2X\\x11\\xbf\\xd9\\xf9\\xe1\\xf3\\xd1?\\xe4\\xc7O`\\xaf\\xd9\\xa7(\\xc6\\x86`\\xfc\\xaf\\x0c\\x12\\xf4\\xc5\\xde\\x1c\\xcb\\xf5\\x82\\x84;\\x0c\\xc9\\x93\\x14B\\x7f\\xb0\\xfb\\xa0\\xfcr\\xbaR\\xca\\xe1%\\xff\\x146UR\\x92\\xe4\\x16\\x817F\\x17\\xf6\\x95-\\x9f*\\xea\\xb9\\xb2C\\xf1il\\x7f\\x86#\\x8e\\xff\\x18\\xce7\\xfa.\\xbdl\\xbf\\xad}\\x82\\xeb\\xeb\\xe9`\\x00Z\\x8e\\xc9k\\x06\\x1f\\xd7\\xd6\\xe3\\x8d\\x9d\\x9d\\xc7{[Vw\\xed\\xa3\\xf2\\x9b\\xe5^\\x88C\\xb81N!)\\xc9m\\xc1M\\x18\\xa6u\\xed\\xd0[\\x7fh\\xa0\\x9c\\xa0\\x18\\xdb\\x80Ak\\xc36v*\\x90E\\xc7S\\x16.\\xebk\\x12f8\\xe8\\xd0\\xac\\xcd\\xbe\\xe2#\\xb1V\\x98\\xd1\\x1a\\xff(}\\x98G\"\\x86\\x1fC;\\xfd\\x04\\xfd\\x00\\xa7\\x00^Z_\\x93\\xd2hM\\x1c\\x19\\xa3M}\\xe9\\xbejC\\x95\\xc4>,\\x15\\xf1\\x83P\\r;\\x9d(\\x9a\\xae\\x89\\x03\\xf9]zD\\xd7\\x1e\\x8a\\xef\\xc5\\x9ar\\xd0Yp\\x8aN\\xe7\\xd8\\xeeJ7\\x1dF\\x82\\xef1\\x1b\\x99\\xa6\\x16\\x993\\x03\\xdd\\xa8iE\\xcf\\xe6\\xe7\\xf6\\xf8-\\x969\\x9b\\xe0o\\x1b\\x1f\\x9f\\x08HI\\x98\\x08^\\xfc\\x16\\xfb\\xe6\\xb6\\x0b+!\\x8c\\x9f9\\xf0\\xc08\\xebc\\x1b;G\\x85\\xee\\x7f=\\\\/9,\\xd9\\xa8<\\xecH\\xe7\\xef\\xbd\\xc3\\xbe?\\x9ck\\xaf\\xb9\\xb2\\xdb\\xc8\\x8f\\xd6\\x12\\xf0\\xda\\xb6\\xe8S ]f\\x92\\\\\\x86\\xee\\x15\\xff\\xc0{\\x12\\x18n\\xd654#,\\r\\xad-x\\xfb\\xa5\\x1by>\\xf6\\xf2\\xba\\xef\\xa1oa\\xb7\\x0b\\xab\\x1c\\xbb]EX\\xd4\\x98_\\x08z\\x87\\xa0z\\xdf\\x1b\\xf7\\xde\\xfa\\xc0\\x92s\\x00R\\x95\\xdf\\xc5\\x87\\t\\x0c\\\\\\xf1\\x13h\\xf2L:\\xa0\\xddH\\xd0\\xae\\x19\\x1b1\\xc9\\x9d\\x02\\x93\\x86\\xc7\\x0f\\x8f\\x95]\\xf3H\\xccaG\\xc1\\xc7\\x05n\\xb2\\xa5c\\xf8\\xda\\x8d\\'\\xec\\x15TZ\\x18\\x0e\\xe5\\xe9T\\xf4\\xc9\\xc2\\x9aA:\\x0c\\xdb\\xe2\\x14\\xbe\\'XZ1\\xc4\\xaa9\\x18$\\xb2\\xec\\xde\\x81\\x97\\x19\\xaf87\\x98+l\\xb7\\x81\\xd3\\x16\\x87\\x9d@\\xbb\\xac1\\x85\\x0e&\\xadd\\x1cOI\\xed\\x98\\xf5\\x86Y\\xed\\x91\\xf9\\'\\x8d\\x1e\\x7f:t\\xe1\\x92\\xb3\\xe1\\xf6\\xc06l9<\\x19\\xfaJ\\xe1\\xae\\x0eq\\xffIH\\xe8\\x87\\xfe5HC\\x00;\\x87\\xce\\xac\\x07ML\\x86\\xe7a\\x07\\x9f\\xf5\\x9c\\xcb=\\xc2[\\xcd>f\\xe2\\x02\\x10\\xb3\\xec\\x03{\\x83`\\xceN\\xe6V/\\t`\\x0f\\r\\xd9\\x00\\xb7q\\xc60\\x1a9D\\x89z\\xb0\\xc3\\x8e\\xdd\\xa3\\x9f2\\\\\\xa1U\\xdf\\x89\\xb1\\x1c\\xb4D\\xed\\xdc\\x80UH\\x94\\x13#\\x1c\\x1a\\x074\\xe9[\\xbc\\xc18s#\\xea\\x8eD\\xbbx\\r\\xdfP\\x94n[r\\x18\\x8e}\\xf2\\x15\\xcb\\x13!|&_*\\xc4G\\x8e\\x0e\\xf3\\xd0\\x80\\xa2u{2\\xea\\xe0\\xaa\\xber\\xc7R3\\x13\\xe9\\xd8.\\x94.\\xdcJ>9\\x8a\\xb2\\xdfL\\xe2\\xd7\\xc0\\x97\\xd1J\\xcb\\xae`\\x89.\\xdd\\xc0\\xe2\\r\\xb7t\\xb7X\\x90dP\\xb0\\x16\\xeb\\xb6\\x8c\\xa8t_<\\'\\xbd*\\xf7\\x15\\r\\xa7\\x0e\\xab3tF\\xf8\\xd6\\xcf{\\x85\\x07\\xb4\\x1eeh\\n\\xf4Z\\x0f\\xb6\\xcd\\xfc>\\x98\\xc2\\xe7`I\\xf9`yN\\x8cM\\xcfe\\x8a\\xda\\x8bd&\\xa7\\xa3\\xcd\\xc8\\xfb\\xc5\\x86v\\xe8\\xda\\xd6\\xc4\\x1d\\x0e\\x1dx\\tI\\xec\\xd6\\xcd2\\nlO\\x94[k\\xc4\\xb1\\x13\\xc4\\x0eA\\xd5\\x16m\\x83\\xb0\\xdd\\xa4\\x17z\\x0f\\xee?\\xde\\xdd\\xddx\\x02\\xa9A\\xdf\\xd4\\x1f\\xf1\\x9c`\\xae\\x989\\xd0Qzz\\xef\\xdea\\x92\\x1e\\x1eB\\x9f$z\\x95c\\xec\\xce\\x14\\xb0\\xfc\\x12L\\xe7\\xbc\\xb4\\xb4\\xd8\\xfa\\x87\\xa1O<\\xf0\\t\\x049\\x13\\x11\\xbc\\xdd\\x03\\x88\\x15\\xfd\\x10\\xae=o0I\\x1f\\x1bsOW\\xb5\\x93.\\'mL\\x95\\xed\\\\yx\\xa1G_mD\\xd9cJ\\n\\x87p\\xbaJ\\xa2(M*\\x1a\\xc9\\x19UAY\\xb3w\\t\\xa2Q%\\xfc\\x15\\x06nK\\xf4N\\xcf^.\\x01\\x07\\xb4|\\xb4\\x18\\x10je\\x98\\xe9)\\x12\\x15\\x02_\\x98\\x1bg\\x0c\\x8d\\xef\\xd1\\x12c\\x07\\xf3\\xc0]<6\\xb5\\xe2}bq\\xd4SX5\\xb4\\xd9?\\xf1\\x86\\xce\\rMx~z\\xb2\\xc4\\xa8\\xb4\\xc5\\xa8\\x1f\\xb5\\xc3;\\x90\\xe2P\\xb4\\xa1y\\xe6\\xdb!\\xbc\\x81=|^fr\\xd1\\x04\\x82\\x90i\\xb6j\\x85;\\xa9S\\xc1\\x82\\xd3b\\x08\\xc5\\x841E\\xef\\xb9v5T\\xcd\\xe3\\xb0\\x93\\xe0H\\xbe\\xccS n\\x12\\x1dEY\\xa0d`Yh\\xb0\\xb4.\\xf3~Yx1\\x1f./)\\x92\\xc0\\x94\\x13;%9ap\\xdc[)\\xd9J\\xe2\\x81\\xa7\\x9dW\\x15\\x1d\\xc8\\x7fS\\xe1W\\x18\\x00\\xe2G\\x16\\xeb\\x02\\xe2\\x80\\x0f\\xa0\\xf3J\\x8a\\x0c0\\xfc\\xa8\\xd01\\x83n\\xb1\\xe4#-z\\xfa\\xb6G\\xea&?\\x7f\\xb6\\x1e\\xd4;\\x99J\\xaa\\x90h\\x87\\x93n\\xaan \\x95\\xb8o\\xa8\\x9cZ\\xc9\\xab\\xf5\\x0b\\xf4\\xfb\\xa1;\\x1b\\x17\\x84\\xdc\\xd4\\x1f\\xfb\\xf08\\xd3\\xb1\\xbf\\xf6\\x8b\\xa0QG\\xad-\\xfd\\xca\\x0e\\x11\\x81\\xed\\xa5^\\xf1\\x070\\xef\\x87\\xce\\x13:\\xcc\\xa9T@\\x93n\\x15\\xd4\\xc6\\xf4\\xfc\\x80\\xb6\\xc4\\xf2\\x044\\x9djQ\\x7f\\x9b:R\\x7fN\\xa5j\\xeaU\\x88F3\\x1c\\xab`\\xc3L\\xfc:p\\xe1r\\x0fg u\\x0f[-\\xb8\\x1e\\x9d\\x0e@\\xf5\"\\x18\\x8b?\\x84\\x0e\\x1d\\xe0w\\x1f\\x80p\\xe1gVx\\x1e\\xfa\\xe4\\xf4\\xb0\\xa4\\x93\\xb2\\x05)B_+g\\xc5\\x94Y=\\x85\\x1a\\x8dGo\\x94\\xc8\\xcd\\x98\\x08q\\x10\\xf9\\xe3\\xac\\x99\\xadu\\xac\\xc9@1\\x8e{X[I\\x93\\xed\\xben\\xaa(>\\xa5.\\xb4\\x91\\xc7\\x0f\\xbd\\x07\\x1c\\x85\\xa0u\\xa5x\\x83_h*\\x87tz\\x9b\\x12\\x0c\\xefL-X\\xcc\\x16{\\n\\x85\\xb4\\xa3i\\xed\\xe5\\x9e\\x95N\\xce\\xe07\\x02l\\xb4\\xc5\\xad\\xe6\\xd0t\\x12#\\x17\\xc7\\xc8@\\xab>a\\x93;f\\xc3w\\x8b\\x0ejQ\\x90\\xf6\\xb2\\x0c\\xbfK\\xe8\\xf8\\xf8\\x90\\x0c\\x81%z\\x9d\\xda}\\'\\xd5\\xfb\\x15\\xc6\\x18\\x99\\xffG-wh\\xc9\\xae-\\x9eK\\xab\\xa7\\xa6pN\\xdb\\x0e2B\\xa1O\\xa9\\xa3fD0q\\xf0\\x1e\\x9e\\xe5b\\xb1S\\x15\\x0b\\xf0Y;\\xd7\\xd4d\\x94\\xb5I\\xa6a\\xdf\\x87:\\xd1&\\xa4\\\\\"\\t\\x8f\\x08\\x10\\x10\\xe0L\\xb0\\xa1p\\x00\\xad\\x04\\xae%\\xael\\xf8\\xdf\\x8fZ\\xe8\\xcf\\xee#\\xa6\\xc6\\xb9\\xc1Y\\xd1R\\xa8\\x96\\x84\\xae\\x0eK\\xa3\\xa4\\x8f=RKA\\xa7\\xbf1Y\\xaa_\\xf2\\x10).I\\x17\\x9b\\x1b\\xc9\\r\\x9a\\x06,\\x83gk\\x01\\xed\\xe8\\xd5\\x7f\\xf5n1\\x81t\\xe4\\xc8K\\xac\\xfa\\xe2\\xbe\\xd4\\xee\\xed\\xe4\\x18aVr\\xc5\\xb2\\x93c\\x88A:n\\xc6I\\xb1\\x1b\\x01\\xef\\xf3\\x03\\xecG=\\xc89\\xec\\x84\"\\x8a\\xf6\\x00f\\xf4\\'yFGh7\\xd6`\\x9b\\x0eI\\xaav6z\\xb2\\xe6\\xdf\\xc3\\x8e\\xe6\\x9ez\\xdaB\\x1b\\xf0\\xae4\\x855y\\xf4\\xb1\\xa3\\xb8$\\xe5\\xa1mbC(\\xd9\\xc3\\x8b$\\x8a\\xad\\x11\\xc4\\x1f\\xd8\\xfbwb\\xef%\\xcd\\xf3\\x94\\x193[\\xd9\\xd8!IA\\xc4}17\\x1c\\xb5\\x9e\\xf2H\\xe2\\x1c\\xb4\\x0b6\\xf9\\x1d\\xc7\\x1c\\x9e \\x7f\\xcf\\x12\\xabn\\xd8\\xd9p\\xd4\\x86V\\x17am\\x11\\xc8P\\x82jG\\x81\\x1f$A\\xe3^\\xa2\\x88\\xcel\\x07\\x952\\x91\\x14k\\x16\\xb4\\xc0\\x181k$3\\xa5\\xd7\\xe10\\x9a!$\\xa0\\xf7\\x14\\xc8\\xe3\\x0f\\x82>\\xa9\\x9f\\xaa\\x94Yq(\\xe6\\xf4\\x0cG`\\x14\\xdaX2~\\xea\\x97\\xb1\\xd8I\\x11\\x03\\x9b\\xda\\x8e\\xb0@Nr\\x0bJ\\x9b\\x13\\xdaq\\x00rlA\\xd4>\\x17\\xc8\\xb6\\xa2\\t\\xdc,\\xd8\\xa0\\xa9\\x98\\x867\\xa0\\x05\\xb5\\n4\\x1f\\xda\\xc3J}\\x91\\xf9\\xfa\\x0e\\xa0\\xa8\\xcf\\xe4\\x8f\\xac\\x0e\\xd2\\rB\\x11\\xac\\xaa\\xef\\xf5\\xa0B\\x89.\\x00u\\x8c\\xcd\\\\\\x05\\xa0\\xaf\\xc9{Z\\x03\\xa7\\xfc\\xed.\\xc1\\xdcZ\\x08&\\x1b\\x06)\\x9c\\xbf\\xd07a{s\\xe8\\x07x>\\x88\\x8b(\\xfa\\xcf\\x1b;\\x918\\x11\\x13\\xfb\\xca\\x113\\x18?\\xd5h\\xe6\\x97W\\x83^\\x9a\\xd8U\\xa87\\x9f-^\\xb4\\xe6~\\xa4\\x13\\xcb\\xb4_\\x10\\x8byI\\xffY^\\x82\\xb8D\\xfeg\\x01\\x05\\x1bd\\xdf(\\x1a\\xce|\\x0e\\xd9{C\\x018\\xe2m\\xeafY\\xd0;3V\\xb6\\x03\\xffz\\x92A\\x82\\x8be\\xae5\\xfb\\x8a\\x8b\\xf3\\xd5\\xf9\\xbf|~E\\x1e&\\xe0\\xd7c\\xb7\\x1d\\xfe\\x83M4\\xd7&\\xbb>d\\x86\\x1a\\xd0\\x87Ol\\xf9W\\xe8\\x02-YF\\xb6\\x18A\\xb4\\xabN\\xad\\xe8s\\x02\\x0f4i\\x18\\xb7G>8gx\\xe2\\xadF\\xd5U\\xab\\x99I\\xb9j\\xd1\\x91\\x9f\\xe5\\x08\\x91R\\xb1\\x0f\\xfb\\x9c\\r\\xfb\\xbfa\\'\\x07\\xef\\x82\\xb6}\\xcbZM\\xcf\\x84\\xddH3\\xe8\\x13z5\\xd5\\x91o\\xd4\\x83\\xbb\\x9cD\\xb5`Q\\x87\\xad\\xe9^\\xbb\\xe3\\x86\\x03\\xc2\\xfe26.\\x85\\x0bxp\\xfa\\xa7`?\\x9f\\xd8\\x88(\\xf0\\xc4\\xc9/\\xcf\\xef\\x12r\\x84\\xf6TH\\xee<\\xfac8\\xd6\\xe1\\x87e\\xfaZ\\t\\xf7\\xea\\xc5t\\x0e\\xe7\\xb2\\xa3\\xd5\\xe0o\\x16f\\x9a\\x1f\\xefF(\\xd6\\x9a\\x8cr\\xcd(\\xe4\\xdc\\xa2\\xe8~\\x9c\\xd1\\r\\xa6\\xc9\\x10\\xd6a\\x87N\\xd6\\xe9\\x88\\x02\\xc7F\\x88\\xd6J\\xf7$E9\\xc1L\\xc0\\xce\\x03\\xf6l#\\xd6\\x16\\xc1 \\xe9\\xc67\\xe72\\xc8\\xa6\\x94?lH\\x9f\\x93\\x95A\\x9699\\x13\\xf09\\xb5s\\xb4\\x0b&\\xf3f\\xb3\\xbb\\xc1\\x10\\xd09\\xafx\\x95\\x83\\xbb\\n\\xecZ\\xa4\\x98\\xce\\xd4\\x92\\x16\\x90TE\\xc6\\x10\\x07\\xee\\x9a\\xf6\\xe2\\x1b@UT\\x06<H\\xf6\\x0fI\\x7f\\x9a\\xa2\\xdd\\xf7q\\x16\\x9a\\x1a=\\xd2DT\\x8e\\x16\\x18\\x8bb\\x91\\xa5\\x98y^\\xb9\\xa7\\xcc\\xb3\\x96\\xf6\\xd9\\xea=\\xa5_r\\x02?7\\xe3\\x9c\\xcf\\xd8\\xb4\\xf1\\x14\\xfe\\x0c{\\xb8\\xc2\\xf5\\x9dvU\\xd4g\\x8b\\xec<%<$\\xd88\\x951\\xbc\\x82\\x009\\x8b\\xb3gg`\\xc1\\xd1\\xcb\\xc4V\\xd0\\x9f\\xcbI\\xdc\\x8e\\x1c\\xefs\\x82S\\xf1\\xdc\\x88?\\xf3\\x93\\x95\\xc7j\\x14\\x8cr,\\xb8\\x16b8 \\x11\\xcf\\x18\\x82\\x83\\x8c\\x15\\xea\\xbd\\x92\\xbf\\x883\\xf9\\xd3\\xca\\x837\\xc965Q\\x84\\xbe\\x07\\xe6\\x90?\\xe2\\xfb\\xca\\xe3\\xec,\\x90\\xa1\\xf2tm0A\\x94P\\x1b\\xb3\\x95l\\x8a\\xd3\\xdc\\x91o\\x0e\\xad\\x9c\\xd9\\xcfB\\x9f[\\x16\\xa0P\\xdeW\\xcd\\x9fLV\\x85U/s\\x8f\\x8e!\\xcb\\x8eg\\x95)\\xa59hs\\x15\\x0eJ{\\xab\\xe4\\xa2\\x17*^-sN\\xa7\\x1c\\x9d\\x02m\\n\\x8c\\xaf\\xceIU\\xe0\\xf7\\x9e\\xe2\\xb4\\x17\\x013t*\\xbc:q7\\x99.\\x9dl8\\x19\\xefg.\\xf5\\x99\\x8c\\x00\\x1c@\\xbf\\xafLl\\x8d\\x1c\\x95\\r*\\xd3\\xabr,\\xfc\\x813\\xaeV\\x9ff#\\x1be#\\xce\\xec\\x81\\x9f\\x1b\\x0f\\x0f\\xde\\x9d\\xad<\\xbf&fJ\\x91\\xdaA\\x90\\xb6\\x13\\x9a(}G\\x0fp\\xbeo\\xc7\\xe4%Y}\\x92\\xbb\\x0bx\\x982\\xe0\\n\\xc7P\\x9d-\\xec\\x9e9t\\xb3M6A\\xbakl\\xc1N\\xe6\\xc7+\\xcf}\\xaf\\x01\\x88l\\xee:\\xb6\\xcb\\xbdBd\\x9b\\xde\\xfbC\\'\\xa8\\x90/<\\x16\\'3$:\\xd1a\\x04\\x1fj\\x17\\xb1\\xf1\\x85\\xb2\\xc4\\x88N\\xad\\xd3\\xc8[\\xab\\xc9\\x13X\\xc3)\\xfcZ\\xc7\\x93\\xe3\\xdd\\x18\\x89p\\x98\\xea\\xd0?\\x90^\\x06-\\x98\\xe4\\xa7\\x8f\\x1c\\xefN\\x11\\xd3\\x00d\\xdb)\\xdf\\x0e\\xd67\\x19\"_\\xe9W7J\\xb0\\xa1>\\xb7\\xa7\\x97\\xc5e\\xd5b\\xb6^\\xf37\\xc9\\x8e\\xf4\\xd0\\xd7\\xbdt\\xcd\\x90\\xc8\\x99\\xefz\\x9dg\\x0e\\x12\\x7fpJ\\x15\\xbdJ\\x10\"h\\x00\\xa5\\x7fxp\\x7f\\xeb\\xf1\\x93H\\xf0\\xcf+\\x93}\\x93\\x80\\xd1`!\\xb3mL\\x9d\\x9b\\xa0\\x19p\\xbcp\\xae\\x9c)\\xc5B\\xdf\\n\\x90&\\xd9\\x93\\x02\\x92?\\x8b\\xee\\x8c\\xec\\xcf&!\\xbc|\\xfa\\xf3\\xca\\xf3_${(\\xd4\\xacjUt\\xa6\\xa3)\\x05\\xdeb\\xcb{\\xec\\x8d\\xa7n4\\x11_D\\x94M2\\xa8&|\\xd7X\\x87\\xd3\\xe3Sy \\xbe2\\x12\\xf6\\x1bd_#mJ\\xbb\\xe9\\x99\\xef_\\x9ax\\xd0\\xd6\\x14=^\\x19\\x96\\xc7\\r\\xb0\\x90\\x16\\xe8 ,\\xcd\\x9e\\xe7\\x94\\x9d\\x1a\\xef\\x98\\x7f(\\x0c\\xf8E\\xf26\\xf5\\x1a\\xd4\\xc9\\xda\\xedUdm\\xe6\\x83\\xa8\\x92\\xb8\\xcfK\\xe7\\xfe\\x7f0\\xdb-\\x03\\x1f[b\\x88!dC\\xe4\\xa4\\xaf~\\xb8\\xf2J7\\x9ap\\xd9\\xa8`\\'\\xe4\\x1f\\x1at\\x8e-,<dH6\\xa6\\x1fV\\x1e\\xb5I\\x0eg\\xa1\\x19\\xd2]\\x94)\\x80\\x92\\xe7g\\x89\\xbde\\x93h5F\\x82\\xcd\\x94\\xccr\\x13|\\xc9OV\\x9eY\\x93\\x04\\xedP\\x00\\x11\\x82\\x1d\\xa0\\xbf\\x10\\tG\\xe1\\xf9\\x9d\\xcd\\x8d\\xcd\\xae\\x89V\\xb8\\xf5\\xc4SnA&\\x0c\\xcem\\xc4/\\xdcpe8\\x9aD\\xaa1o\\x8ao\\xa3H\\x99*V~\\x8e\\xca\\x00\\x14\\xf18\\xf8\\x82\\x9dA\\x93\\x105\\x86\\x8f\\xdcqn\\xe4\\xb3\\xc0aw\\xf9\\t\\x05\\xb5:8R{\\x15\\xfaI\\xb0\\xfa*4\\xc9Rcx\\x8a\\xe7\\xa8\\x9a\\xf9k<_\\x19\\xe3M2\\xb3Q~\\x9b\\xdaC&\\x94}\\x80\\xb2[y\\xfc\\xeeF\\x93\\xd0&\\xd2\\x837x\\x98\\x0cL\\x1f\\x10\\x02\\x9e\\x10\\xdf\\x8aR\\x02Xk\\xfai\\xf5A\\xab\\xcf\\xe8J\\x8e_\\x1b\\xe1\\xbf\\x94=\\x96\\x1as\\xa9\\xc4\\x15O\\xf9\\xa7\\xd5Gn\\x94\\\\4]x\\x1a\\xe0\\xa6\\xbc\\xf2\\xa7W%\\xaf\\n\\x08L>_}\\xd8F\\xd1%\\xb1\\xac\\xd2\\xd5P\\xce\\x80\\x12\\xe0\\xf2\\x04\\x8e\\xd2\\x19\\xc8g8\\x93\\xbf\\x14F\\xff\"5\\x19%\\x030h\\xa4\\x07\\xabS\\x96;\\xab(\\xcbB\\x9f\\x99\\x80\\xaa\\x1b\\x0cg\\xaa\\x12\\x0csf\\x7f\\xc4]Kqf\\xe4\\xb4\\x1e\\xfb\\xa8 \\x02\\xdf[n\\xa1\\x9e\\xe2\\xfb\\xca\\xc4\\xd1H\\x92\\xb5C\\xf7\\x93\\x08\\xf1j\\x94n\\x95\\xb1\\xc73\\xf5le\\x10\\x1a\\xc9\\xb3\\x16\\x04\\x07\\xcc\\xcf;e\\x13\\x86c\\xfdpe \\x1a\\x95n=\\x10\\x1e\\xf6X\\x0e\\xf2\\x0e8\\x183\\x95\\x140\\xe6\\xf5\\xe3\\x95\\x01i\\xd4\\xc6\\xb5\\x80\\x8c}\\x98X\\x1ey\\x0fL8^\\xa5OW\\x06\\xa3Q\\x19\\xd7\\x82\\x11q\\x12\\x83\\x8b\\xa2/&\\x18g\\xe9\\xd3\\x95\\xc1hT\\xca\\xf5`\\xa8\\xf4=\\x14<\\xe1-f\\x11/i\\xf4\\xb3\\xda\\x82\\xd2\\xefw!\\xd8P\\xb1\\x08\\nCG{\\xe4\\x0f>vW\\x91f}\\xa8y\\x83\\xb9(_\\x10\\xc9\\xc8\\xfe\\x0cG2t&l\\x96\\xd1\\x819\\x84\\xb0\\xb7\\xcc\\x13Cmi.\\x7fDQV\\x98\\x96\\xda\\x7f\\xa9<D\\xf1\\x0c\\x93\\x16\\xa7>\\x8c\\xf3\\x16\\x02\\xb39M]O\\xe6\\xee\\\\4\\xa4\\xeeh\\x99P\\x11\\x0b\\xf6ZF\\xa5j\\xc0\\x8a\\xb8x\\x06B6\\x07\\\\0v\\xb3\\xef+\\x93s\\x93\\xa8#\\x83\\x0b^\\x83`\\xce\\xc7\\xfem\\xc6\\x15\\x12\\x1deb\\x8f\\x96-4>\\xe1)\\x83de\\x18\\x9a$]\\n\\x03\\xec\\xae:\\x08\\xe60\\xbc4\\x0c\\xfc\\xf9\\xfd\\xd9\\x97\\xadS\\x93\\xa4\\xd3\\x80 \\xd2==|\\xc9\\x07\\xf4\\xf3/*R\\xb5\\xd5\\xcb8\\x04>e\\x98\\x86\\xca\\x9e\\xb9\\x0b\\xa6\\x86\\x08A\\x80x\\x1d[\\xef\\xad\\xc2\\xd6\\xb2+C4fl{\\xcc\\xa3\\xfcQ\\x19W\\x01.O\\xc1\\xac\\xd244\\xbbf\\x93\\xb8;\\x86\\xcd\\x0f\\x9d e\\xceB\\\\Z\\x92;\\x01|O\\x89t\\xbc\\xef\\x12_\\x08B\\x13cv*g\\x1f $\\xc5Tr\\xda\\x99\\xc4\\xeb(\\x9e\"H\\x1b\\x0e\\x8e;e\\xce\\x02\\x1c\\x06*\\x8a\\xb0\\x94\\xf0\\xf1\\xc5\\xf0,\\xe2Q.2X\\xe5\\xe7\\x94\\xe8\\x90\\xab\\xf1\\x1c\\xa5\\xcc\\x90E\\x1f\\xde?\\xe3\\x88c:9\\xfed{\\x9f\\xf8G\\xc3j\\x92\\xbf\"tO.\\xe2mx\\x17\\xca\\x0fy\\xb4\\x9c\\xfb\\xa2=\\xec\\xe6\\xdf\\xd2\\xc3\\xc3B\\xcaH\\xea\\x967bse\\x06\\x08\\x12\\x15\\xc9\\xa9\\x8e\\x0c\\x1dN$\\xe5\\x1cT\\x19\\x14\\x02\\x1f@+\\x1f\\xab\\xc1\\x86@e\\x98H\\xceU\\x97f\\x9d\\x92\\x9f\\x0c\\xdb?$\\x0eHFKe\\xceh\\xea\\xdcX\\xd1\\x14\\xaet8>\\xaeE\\xfa\\xa9\\x182n\\x04\\xb6Mm\\x94^\\x9c \\xda\\xd4\\xc1i\\xa9\\x0cw\\xa0\\xd8\\x0c\\xf3qE@\\x1f\\x8e!\\xaa\\xa3`\\xb3 V\\x15\\x81\\x8eT\\xebY\\x80\\xd5\\xe3hs:\\xeb\\x97C!\\xd4\\x9a\\xe2mxX\\xd4\\x8cQy\\x99G\\xad\\xfb\\xe5\\xb9\\xa9\\r77E\\x84\\xd5\\x83q\\xfc\\xe4Sia\\xd2\\x85\\xe0\\xf8+eY\\xa1\\xe8S\\xc4\\xa1\\xca\\xafy\\x92\\xd2\\xf5B\\x01\\xc38E;\\xa3\\xeet\\x92A\\xd5\\xda\\xe7Dl\\xda})\\xa6\\xb6\\x82z\\xcc\\xb0A^\\x8b\\xba\\xb0\\xe1\\xd2,\\xea\\xd1j\\xd0\\x17\\xaf*p\\xc6\\xf1c\\xa88\\xd4;\\xa4\\xcf\\xf9\\xd8q\\xf2n\\x12\\xd3\\xf4\\xee\\xebD\\xc4\\xad\\x03\\xf1\\xd2\\xed#\\xede0p\\x91\\xc6H\\x9bw\\x011\\x88\\xa4SD\\xfcq\\xaa\\xc5_\\xee\\xf5z=\\x81\\xdaib\\xe4\\xf6\\xd7\\xbd\\x87\\x07\\xf2\\x01M\\x1d\\xe9\\xe8}$\\xb7o<\\x12\\xdd\\xec!*\\x0e!\\xad\\xdb\\x16\\x0f\\xa6\\xf1\\x13\\xe1\\x19\\xad\\xe9\\r\\xce\\x11_\\xc7{`\\xe8\\xa35\\xb1\\xf60{\\xcf\\xe8\\xb0\\xffH\\xd8\\xdf\\xf7\\xb3\\x9f\\xe4[\\xaa-A\\xd1\\xdd\\xd8\\xd8\\xc0W\\x19\\xa1\\xa5V\\x15\\x01=TC\\xa1\\xb7!\\xba\\xf8\\xff\\xa6\\xd8\\x12;b_t\\xb7\\xc4fWlm\\x8b\\x1d|{,P,Ilnm\\x89\\xad\\xbd=\\xb1\\xdb\\xdd\\x10\\x8f\\xf7\\xf7\\xd2\\xd4R\\x89\\xae\\x0e\\xa3N\\xa6|U\\xae\\x7f\\x05\\xca\\x03\\xd4\\xe9ARV\\xef\\xa5*W\\x1a\\x89\\x17\\xce\\x08;\\xb8!r\\xf1\\xbb@ \\xb2\\xe0)\\x13m\\x80\\x1c~\\xf2<!\\x8c\\x1bG\\xc5T \\x94\\x8a\\xf9\\xa4E,\\x91p\\x02,\\xa3\\x80#|\\xcc\\xbaNB\\x84\\\\ni\\xca\"\\xb8\\x1b\\x07\\xf9\\x88=\\xa6z\"\\xd8\\xbeC\\xce\\xe9p2H\\x8e\\xb4\\x12\\xea#\\xa1\\xea\\x16\\x99\\x8f\\xa8))!<\\xeb\\xbbH\\x88\\xa2\\xb7U\\xe9T\\xe4\\xc9\\xc3`F\\xca{\\x9a$Vq\\xe4\\x1d\\'\\xe4\\xbc\\xb1\\xa72\\xaf\\xca\\x9f\\x8e\\x00\\n\\x9f\\x7f\\xdf\\xd7\\x00[)\\xc0\\xad\\xde\\x1b\\x9a&\\xc7\\xf9T\\xcc\\x07\\xc9\\xfbjF\\x0f\\xbc~\\x14<\\xd9\\x92b\\x1ae\\x02\\xaaQ^\\x1d\\xe3\\xf7\\x959\\x84<\\xfeT\\x93\\t\\xa4\\x81\\xb8\\xbfH\\x1e\\xaf\\x1b\\xcc1\\n\\x13\\x17J\\xfbH\\xfc\\xb6\\xf6\\x0c\\xf5 <\\x9b\\xaadP\\xbc\\x96C\\x1f^\\xbb3g\\xed\\xa3\\xa4\\xe6\\xa9\\x9f\\x0c?e\\xcd\\xf9S;\\xa12\\x0b\\xa8\\x88A\\xba\\x80\\x9f\\x10\\x92d#\\xf5\\x9ad\\x00\\xe3\\xe5:\\xe2\\x07\\x00O\\xdf\\xe2\\xff\\x0c\\xc0\\xe9\\xe9\\xebc\\x06\\xe0\\xe4\\xcd\\xf1\\xda\\xc7\\x94\\x9d\\x0b|c\\xc8\\x04\\x9e\\'\\x11\\x0b\\x19\\xc1\\x88\\xe2\\x9b\\xa1\\xcc\\x02\\xd2\\xf0\\xf5\\xda\\xe6\\x04\\x02\\xd1\\xcdz\\xdaf]\\x82\\xfb\\xb0\\x16\\xaeu\\x08\\t\\x8d\\x9c\\x87\\x8f\\xc4z7\\xc5\\x10}\\xdb\\xd4hz\\xa8\\xc1<\\x04\\xad\\x91\\xf4\\xba\\r;\\xc2\\x8c\\x0fx\\xbb\\x8b*\\xc0\\xb68G\\xdd\\x10\\x18\\xc8\\x9a!\\xf9\\x14G\\xac_z\\x88aB\\xe9c0D\\x88S<\\xc2<\\xc7\\x99p\\xa9e*\\xec\\x85B\\xc9T\\xb0\\x0by@\\xba\\xfe,\\x11\\x02wK\\xaa\\x8aS\\xa9\" \\x0c\\x91\\xba\\x8aS\\xf1\\x13\\x8e\\xabb\\xe0\\x11|%\\x87\\x19@\\xf9\\xa0&\\x05\\xa7jq\\xf9G\\n\"\\x192\\xaa\\xc1\\xd0n\\x90 \\x86\\x85j\\x86Q1\\x0b9|?q\\xa9\\xbc5\\xe8@\\xcb\\x94ey\\x14\\x026\\xf4\\xc9\\xb3\\r2\\x95L\\xca,\\x9e\\xe3K~\\xf2\\xa7d\\xc53\\x97\\xc2\\\\(\\xb44\\x9e Q\\xd1\\x1d\\xe4\\x88\\xb2+:b\\xb3N/\\xb4wrm7\\xc5_\\xff*\\xb6j\\x1a\\xef\\xe7\\xbb\\xddC\\xbf\\x88s\\xc9\\xe9\\x1b\\x83oX\\x03\\xb9\\x03\\xa4\\x89]\\xb9$\\x1d\\x10^F\\xe5F@T\\x02\\xa2\\xd2\\x86oH\\t\\x8bJ\\x85\\xb5\\xd3\\xde\\xcd\\xfdOk$)1\\xba\\x18\\xbbqp\\x8c\\x00\\xb9\\xa1\\x87^0\\xd4\\x1d*;\\x1cXATq\\xe4\\x11\\x1d]A6\\xca\\xc8\\xa3\\x8c\\xc5`\\xb7\\x0f\\x88\\xb2I^2\\x13Er\\xf1\\x98\\xcc%\\xb3@\\xd1\\x93n\\xba\\xc1\\xdb\\xc0 0\\x87\\x1a\\xe4\\xb1}CUM\\x90\\x95e\\xbb\\xe3\\t\\xc5v\\xd1q\\xc9\\x01\\x0b%\\n\\xf7 \\xf5\\x87\\xa2\\',\\x1f\\xbeWr\\xe2\\x91\\xfan\\x15\\xbe\\xffU}\\xe7a\\xe4+\\x1d\\xfd\\x88\\x0e\\x02\\x89\\xf3\\xa9\\x9a\\t\\xd5tx\"d\\xdd\\x9d\\t\\x92xt\\xff\\xeb\\x0fuk\\xc5\\xc2\\xd85\\rYP\\xf3&\\x12\\xaa\\xda`K\\xe5t(\\x87\\x8c\\xa5\\xfa\\xb3\\xcc\\x9b\\xe4\\xf4\\x1e\\xeb\\xea\\x1bvd\\xd9\\x16\\xea\\x143\\xd6P\\xba\\xcdT\\xa5\\nw(\\xc3<\\xc9dB%\\x0b\\xb7\\xa9\\xf2\\xca\\x1fO\\x9d\\xe2tY\\x80T\\x03Jh\\xb0\\xd9\\xec\\xc8\\xf1\\x18\\xb4\\r\\xb2\\xb8Y\\x89B\\x1bl?\\x12\\xbb\\x8fP\\n_\\xf2\\x00\\xac$\\x12h\\xf8M\\xd9\\x99\\xb4\\x00\\xf2\\x05\\xc2\\x80z\\x15\\xa6f\\xbb\\xdd\\x96V\\xa6n\\xaf\\xdf\\xfc\\xabj$\\x9b\\xe8^\\xc9\\x16]#\\xcbL7s\\xa3\\x03(L\\xf5\\xadN\\x97\\x15^\\x10\\xa8\\xec|\\x87lE\\xd1\\xa9D\\xe9/ac\\tT\\xfay\\x10\"\\x1b\\xc7\\x7f2\\x14\\xc7L\\xa6\\x19w)mC\\n\\x8c\\xf4\\x8f#\\x12\\x8e\\x12\\xa3M\\x13\\xe2\\xf0I\\xf0`\\xa7\\x07\\x96T\\x05\\nXC\\x15T\\x1b\\x95!\\xb6/\\xc5\\x83\\xd9\\xd0\\x8e&O\\x14\\x7f\\xb8\\xa3\\x02\\x0f\\x01\\xd9\\x85\\'l\\xe2\\x979\\x0b\\x99\\xf6\\xe3\\xf4\\xb1\\xee\\x94\\x99=R\\xe5\\xdb\\xc9J\"}\\x8b$\\x11(\\xa0G\\xa4QQU\\x0c\\x95\\xf5\\x97Unjv\\xa9\\x01\\xaaX$7i*\\x1c\\xfegRnJ\\xa5\\xc9\\xfd\\x8bXg\\x84\\xbd\\xf7\\x90\\xc84t }\\x0c3SZ\\x81-\\xc4\\xabO\\xfdG\\xe2dm\\xa6\\x84\\xe8w\\xad:R-7\\xad\\xd6\\x0f\\x86.;\\xa1,v\\x88e\\x88\\xe31\\x1f\\x08\\xe5\\xb9\\x14\\xe5\\xca\\xc0\\x86\\x9c8\\xbd\\xbe\\xf6\\x81h\\n\\xa2\\x9a\\xabrQ\\xc1\\xba\\x1f\\xfe\\xcb\\xa3-]\\xa5\\x9a+7\\xfe\\xcb=I\\xc3\\x15\\x93\\x1c\\xad\\xfd\\xe8>\\x12\\xff\\xa0>\\xff\\xd5\\xae\\xed\\x92\\xda\\xc8. \\xf3\\x18Q\\x8a(\\x01\\xc2m\\x0c\\xc7\\x9f\\x13w\\x00\\xb6\\xb0g\\xc1\\x13q\\x8c\\x92r\\xb4\\x1d~\\x8d\\xac|l\\x89\\xb5\\xf9H\\xdc(\\xcb\\x85\\r\\xd3M\\x1c\\x89/\\x88#\\xca\\x1d\\xcd3\\x9a \\xe5\\x11P\\x9f\\xd8Z+\\xbe\\xc5y\\xdb\\\\\\xa0^\\xc3\\xe0r:\\x97Z\\xb0\\xaf\\x03.\\xb1\\xd1V68\\xd5\\xcdOu\"\\xa90\\xb2 u\\xb5X(H\\x08E\\xa4\\r\\x08\\x84\\xb23\\x8cTe\\xdf[\\x96\\x95Z\\xbd\\x0f\\x13x\\xc0y\\xed\\xa8\\xd0\\x1bN\\x1f\\xd9\\xdf\\xa8\\xacP<\\x95\\x90\\xaa}\\x9a\\xa0\\xb3@\\xaa\\xe6wK\\xf5\\x92O\\xed\\xd2\\xc5\\xd5\\xca\\x1b\\xbaEU\\xac\\xcc\\\\VS\\xad\\x16\\xbcR\\xd8z+\\x84\\x83N\\xb9xn\\xba\\xdf\\xd6\\x16\\xbe4\\xdeqB\\xc3\\x84,\\xd8,P\\x0b\\x93\\xb7\\xf8\\x8a\\x99\\xf7rA\\xe8b\\x00\\xda%Es\\x14.\\x9ba\\x87N\\xdb_\\x07\\x95\\xd3\\xd8\\xa14\\x9d\\xf3z(\\x1f\\x05\\x15\\x03\\xa3\\xdf\\xd3\\xa2\\xac\\x1cR\\xdcc\\xda\\x12\\xb4o\\xd6\\xbb\\xe1\\x14\\x1f\\xd5\\x08*d\\x95\\xe1\\x8cGy\\xca\\xf2uh\\xb8\\x12\\xa0\\x13\\x9a\\xb5l\\xc8{A>7z\\x83\\xdd\\xa7\\n2\\xf5\\xdd(\\xfag:?\\xd8U\\xc9)\\\\8\\xb0\\xa1\\xf7\\xf0w\\x9a\\xcc\\xbc\\x92sr\\xf9\\x1a6\\xa8\\xa0\\xcbeQ\\xb5O\\x8e\\xb2\\xd6\\x14\\x10\\xc8\\xf0R\\x99dxX\\xf4Qj\\xb0J\\x14C?\\xd4\\xb8k\\x97l[~\\xdb\\x9c\\x0e%\\xb3\\xd7\\xf8\\x83\\xcdf\\\\V\\x80n\\xe3@,\\x8e\\xa0x\\x1c\\x95\\xe4\\xa4\\x1eU8M\\xf5\\x8c\\x0e\\'\\x9b\\x1a\\x1b\\xf2uuM\\xc9r\\xc9\\xa3\\xc6PiF\"\\x92\\xa9\\xb2D\\xaa\\xc9\\xa6\\xf4D\\x11\\xd7\\xd3\\x06\\x17\\xb4\\xbe\\x06J\\xc5a&\\x89\\x0e\\x931`\\\\A\\xeadE\\xfe\\xb0\\xd3\\x85\\xf7\\x88C\\xadq\\xc1H\\xbc\\x06\\x93\\xd9\\x148l[\\xc3.\\xceDq G*&\\xe2\\x15\\xb3\\xbez\\x9c\\xe4\\x95\\xc9\\x9b4\\xb0\\\\\\x9a<\\xb9\\xd0r\\xa3 c\\x8e0k\\xc4\\x04\\xb5\\xa9]\\x15\\x9d\\xbf\\xf2\\xef^\\x12=N\\xba\\x1e:_\\njd\\x13\\x17S\\xa5\\xa2IU\\x07\\'\\x8d\\xcf\\xc8D\\xd1\\xcf\\x98\\x8b9\\xc8m\\x13*d\\xba(\\xbb\\x81m/\\xd9\\xbd\\xbaW\\xfe\\x82V\\x82\\x83c\\xb1\\xc5\\xfa\\x8e+.\\xa2\\xd7\\xd7\\x10GQ|`\\xf8\\xf4\\xb2\\x8c\\x1d\\x95\\xf8\\xa4s\\xc5\\xb7\\xba\\x9b[\\x10@JDn\\xd1\\xad?\\xa9G\\xae\\x92k\\xb4<2\\x17!%`\\xd35j\\xb2\\x01\\xa4\\\\V\\xe5\\xfc\\xdf\\x8fu3iE\\'\\xe7\\xca\\xb8x\\xcd\\x03\\xf8f\\x94]\\'DJ\\x0c\\x80\\xb4\\xd9q\\x83\\xfd&v((\\xee\\x17\\x92n\\x9e\\xa2|\\xa9\\xa4R\\xbd\\x91\\xc3\\xba`\\x9989\\x01V,mm\\xb35\\xf2=\\xaa\\xc5\\xc5Z\\x92=\\xbf\\xa5\\x92U\\x85\\xfda\\xabWxP\\xd2\\x01\\xb7&x\\xae?\\xa7D\\x12\\xd7Z\\xa9>\\xa4a\\xa6\\xb9\\x95\\x10\\xa2\\x81Rj\\x97U\\xeb4\\xca_#*\\x9f=\\xdb@6\\xabX\\xfc\\xe5j\\x1a\\xb6\\xb6\\x88@\\x9a\\xec\\x05C!q\\xf8\\x15\\xa0\\x1ax\\xcb\\xa2\\xc4T\\x1c\\xce\\xe9mH\\xaa\\t\\xca#S/?\\x88w\\xb0Qt]\\x17z\\x99\\x0es\\xf0>\\x19\\xb3\\\\<\\xdf\\n\\x13O\\x00$\\xd1\\xa7:z\\xb0\\x10U\\xe1YX\\x02\\xb4_\\xe2\\xcaJ\\xd4#*\\x9c\\x95W\\xab\\xc3e\\xf9\\xcc\\n\\x84\\xbd\\xc2\\x83/Z\\xa7:\\xfe1\\x85\\x15\\xed\\x8d\\xd5rE\\xd0\\x84K\\xa9\\x1d\\xba\\xee&\\x99\\xe9E\\xa6\\xe0\\x8f\\xc5|V\\xc9\\xe0%\\xc99\\t\\x93>v\\xe6t\\x15A\\x15\\xd3\\xd3\\xb3\\xda\\x1fnOQ\\x14k\\x93R\\x94\\x14l*Z\\x84Dh\\x1d@<n\\xa0\\xb5\\xe9\\x98\\xceEgt\\x0b\\x17\\x17\\xb50\\x8b\\xe0\\xd2\\xf93!\\xab\\xaa\\xd2$\\x9fcP`\\x88\\xdcd6.\\xb7\\x06\\xa4\\x19\\xa2B\\x1d\\xd2f\\xf8\\x17\"v\\xa9\\x06|tx\\x18\\xe3\\x08\\x82\\xdc\\xd50\\xf2\\xe9\\xca6\\x84\\xe0o[\\x1b;\\xd6\\xc6\\xd6yw\\xfb`k\\xf7\\x00\\x97\\x1e\\xe0Dmcc\\xfb\\xfb\\x8d\\r|\\x01\\x92\\xcc\\xf3R\\xa4\\xb7\\xa0\\xb0\\xaeB\\x1f\\xbf\\xabv[\\xdc\\x05]\\xcf1s0\\x97\\x12b+C\\x91\\xe8\\xfd\\xce\\xc6N\\x07\\x1ch!\\x98*\\xb2\\xf0`\\x0bU\\xb49E\\x00\\xfeA\\x9c\\xc3\\xaaL\\x01\\x0bW\\xdfq\\x92%\\x1f\\x9e!rI\\xe5y\\xd1\\x0b\\x95\\x19\\x03\\xb4\\x15\\x85e\\xe3@\\x11.[\\xe6\\xa8q\\xbd\\x98\\x8a\\xea\\xf1\\x07\\x14>>\\xdf\\xdc8\\xd8y\\x9c\\xe2\\xaf\\xbb\"\\xfe\\xa8\\x8b/\\xc2\\xdf6%U\\xe0\\x10b`x\\x0f+\\xea\\xbe(\\xfc!\\xbdB\\xb5\\xd5\\xb2\\xb6*N\\xed%\\xf9\\x15\\xaeQ\\xb7G:\\xe2HP\\xff\\x8c\\xd3R`\\xfb;\\xf1\\x7f\\xff\\xcf\\xff\\xfe__\\x11\\xab\\xdd\\xc7\\x07 LM\\x95w\\x8dU\\n\\r\\x84\\x89E\\x17\\x1f\\xe4\\x83\\xd4$mn\\x9b\\xc6\\x11(shmu\\xb76\\xec]\\x90%\\'\\x8d\\x0f\\x15VsF\\x13\\x1b\\x04\\xb0\\x9f\\xb6\\xdah\\xa9\\xd3\\xcb\\xa1s\\xbe\\x12!\\xee\\x9fo\\xec\\x1fl\\x12#\\xafN\\x818\\xeb\\xa8\\xe7\\xe0\\xe5q\\xd5}\\x0c\\x86\\x85\\x9c\\xb8\\xb6R[\\xa8\\x84\\xa8n\\xfb11)\\x1ae\\x06\\xd3W\\xc3\\xd1\\xf6yw\\xeb`s\\xeb`kO\\n\\xbb\\xad\\xd5Q\\x05Go\\x1d\\xaaPve\\x8a\\x98\\xad\\xf6,P\\xe4\\xd3P\\x8e\\tq\\xc5\\xb87\\x05JU\\n\\xbf,\\x9e\\xd4\\xea\\xee<\\xde\\xd9\\xdb|\\x8c\\xe2\\x89\\x8a\\xba\\xaa\\x18\\xd5\\x12O\\xe1\\n\\x9c\\x12kn\\xd7F\\x936\\xa9\\xc6F\\xa9\\xd7\\\\{\\xa7\\xe8y@9:i\\x1e\\xb0+\\xa0\\xb2\\xe3:\\x93\\x87\\xc5\\xab\\xb1e\\xc8\\x9b0\\x1c4\\xb7\\xa4\\xd1Z9l\\xb1\\xfb\\x14\\xd2\\xff\\x1eC\\x86\\xee\\xe3\\xa4\\x8dEj\\xcc\\xbc\\x0f`\\xa8\\x92M\\xabC\\x0eom\\xd0\\xe8\\x00?=\\x94\\x11\\x01\\xce\\xb6\\x8c\\x1c\\xe8\\xcfl\\xcd\\xd4.\\xb4\\xa6\\xf6\\x06u\\r[e\\xe7\\x9c\\xcd\\x9b\\xd5\\xa5$\\xbd[f\\xfd\\xfa\\x80\\xca\\xee\\xde\\xcecl\\xab\\xcf\\xdf\\xbd\\x7f\\xf9^X(\\x8cI\\x15\\xe4\\xad\\xe786\\x19j\\r|jx\"?\\xa8\\x94\\xc4;\\x14\\x85\\x0b1\\xb5\\xb0A3*wo\\x81\\xca\\xdd\\xd5P\\xb9\\x8bt\\xd1\\xff\\x9fQ\\xb9\\xc7F\\xf8\\x97Q%b\\x05\\x8a\\n\\xa9\\x89*w7\\x81\\xca7\\xf6\\x1c\\xe5\\xcb\\xa78x\\xbet55\\xcep\\xd9jR\\xa8\\x82\\xf4\\xc5\\x1a\\x84^\\\\H^\\x0b\\x1b4\\xd2_\\xf7\\x16\\xac\\xdc]\\xcc\\xca*b\\xbb\\xbb\\xb3\\xb1\\xcf\\xde1x\\xbd)M\\x81\\x14\\xee\\x9f\\x87G\\xbb{_\\xce\\xa3\\xdd\\xc5\\x84\\xa5q\\xb4\\xb7M\\xfcy:\\x7f\\x05o\\x8b\\xf7UQ\\xb4\\x8c\\xa5\\xb2\\x9aIRg\\xaa|\\xc19@\\xde\\x9a)\\xa4\\x9a-\\xe1\\x9b\\xa9\\xb8u!Ur\\xa6\\x9fu\\t\\xf7\\x0c\\xf3c#\\xbf\\xdd\\xce\\xebW\\x98\\\\j\\xe1\\x9c\\x15\\x13doo\\xe1\\x14S\\xf6\\xd2\\xf0\\x7f6p\\n\\x03\\x16,\\x9dF\\x0c4\\xfe\\x98;I0\\x92\\x8fqo\\x1b\\x95h\\x96A\\xec\\xb9\\xe7\\xdd\\xee>\\xdd\\xbc\\xde\\xdc+\\x1cO\\x83K.\\xbb\\xb7\\xd8\\x13\\x94\\x9d\\xa5\\x14Q\\x90\\x8b \\xa2\\xe0\\x01\\xe4\\xb7\\xe0\\x9e\\xf6\\xa9\\xedZ\\xc8\\x04@i_\\x0e\\xe2\\xb4(\\xb0\\n\\'?\\xee\\xc0\\xd2\\xd7\\x9dY\\x14\\xbf\\x08\\xd6}%\\x9b\\x90)\\x8a\\xf3Ir>\"\\x94M7\\x92A\\x8e\\xe4\\x0b\\xa0|\\x11d\\x11\\xe2\\x13\\x9d.Pk|\\xa4\\xbb\\xbd\\xb9(\\x06\\xc2\\x93\\xd2P/>iE\\xd67\\x9f\\x8c\\xe3\\xd8b\\xd6\\x16\\xcf\\xe5%:t\\xd0\\x1c\\xfa6\\xdc\\xb4\\x91\\xe0\\xfa\\xe1\\xf2\\xa27\\x81\\xc8\\x91!\\xb2\\x13\\xf5\\xa0t\\x8cN\\xdbs\\xba]\\xca\\xbfA@\\x0e<\\xb54\\x88\\x04\\x01\\xa7\\x90\\xd7\\x98\\x11\\xa2\\xc2\\x10\\xaf\\t\\x18\\xc8SLaE#AA\\x93t\\xb1\\t\\xe2.\\xb9~\\xbf\\xeb\\xa1<\\xfe\\x14\\x9e`\\xf2\\xf2\\xce\\xa8R6\\xc2\\xdc\\x13B\\x07B05>\\nS\\xc5\\xd4\\x90.A3\\x98\\xe2.2t\\x8a\"H\\xfe\\x15\\x82\\xd8\\xe0\\xaa\\x06\\xect\\xc9\\xab\\n\\xf7TW\\xf5Q\\xe8\\x1d0#On(6\\x14\\xc9\\x16\\x8c5\\x94\\x82FK\\x1f\\xd1Z\\xb8\\x87\\x00\\xb8w\\xa5\\xe3\\x1b\\xbe\\xe6\\x8aK3Le{H.\\xc9\\x942\\x9ai\\x08\\x05\\xf7q.4\\x80\\xeb&\\xb0\\x874\\xf7\\xa3\\x16\\x8a\"\\xd0wx\\xf0\\x08i\\xfc\\xbd\\x8f\\x8bl\\xe9\\xfe\\x00|\\xc41@<A\\xdd\\xfa\\x8d\\x8d\\xff\\x91\\x1e\\xfe2\\rZ\\x94 \\xda\\xb07J\\xa5\\x0f.+\\x18\\xce\\x17S,\\xb5?\\x8cq\\xf8lN\\xad\\xe9\\xf3\\xd2\\r\\x0f\\xe3!2\\x1c2Gn\\xe7\\xceY\\xe2=E\\xe5i\\xdb\\x88\\x03r^1O\\xb5m\\x97VTq\\x0c\\x04NJD\\xaf\\xd5\\x1d\\x82\\x1ckL+\\xcc\\xb7\\xb2\\xf5\\xe7\\xe2)\\x91\\xc3\\x07;\\xc6\\xad\\x97\\x8fp4!\\x8b2\\xe3\\xf8\\x95\\xfcE\\xcfO\\xdf=\\xcaz\\xe6\\xbb\\xdbd\\xec\\x1e&\\xb8\\x146`\\xfd-\\x81`\\xb4Z\\xbcdhD\\xa4\\xd4<\\xae\\xd2\\x8f\\x8d\\xabX\\x0b\\xf8Ws\\x1d\\x18\\x17\\x8e.}\\xec\\xf5\\x05*\\xf5vJ3\\xe0\\xb4\\x8e\\xcc\\x1b\\x90\\x9e\\x9f\\x93\\x88}@YHn\\x80\\xab\\\\\\xd4\\xf1\\xd9\\x82\\xa3\\x0cU\\xd9\\x94J\\xc6\\xe65\\xa2Y46\\xaf\\x0e\\xffr\\x0f\\xa7\\x93\\xc5\\x03\\x89\\xbf\\xf0\\xe2\\x91\\xe5}\\xd8\\xc7e\\xdc}\\xe4\\xb1\\xa4\\t\\xf0\\x90J=\\x84X\\xa6b\\xc0<!\\x88m\\x1c7\\xe9\\xeb\"\\xb3p\\x17<\\xd6\\x91.*6\\x96\\xeeI\\x1d^ N\\xd0W\\xb2T\\xdd;\\xf8\\x82\\x9f\\x11\\xdf \\x927\\xbb\\xf0\\xa0\\xf2\\xfd`\\x8e\\x03\\xd9H\\xbf\\xcfY\\xbd0?C{\\xe6\\xb2\\xbf\\xb5\\xb9\\x83\\xbe\\x1f\\xe3\\xa2q\\xdcwH\\xb7\\xca\\xf6\\x9e\\xf1\\xb7\\xc5o!\\x18\\xd7\\xb3q\\x88\\x8e;\\x0e\\xf9\\xbds\\xf9=}1\\xab\\x9d\\x8d\\xf3\\xa4\\x11\\x8eX/\\xdb\\x81?\\xf0}u\\x89\\x98\\xce\\xe8\\xc7tz/\\xe9\\xd7\\xc5#\\x12\\xa20\\xdcfz3\\xa3\\xfc\"w\\x1f*\\xd4\\r\\xcb\\x94[\\xb0W\\xefO\\xee~\\xc1\\xaa\\x923\\xcf/9\\xe4\\xbb\\xd5\\x8b\\xe5\\x87\\x05\\xd3I\\x93<\\xc7\\x1e\\xe2@\\x19\\'\\xf0~\\xb0&\\xed`\\xdf\\xf0\\x8eoN\\xe7-\\x84\\xfc\\xb8\\xa0;J\\x19\\x05vBR\\xbb\\xc8\\xa6\\xbc$\\x9d\\x9b\\x90A\\x02Zj\\'\\x97\\x1d}\\x0e\\x02\\x07\\xec\\xe7\\xb8\\xc3\\xb1a\\xd4\\xf9\\xcf\\\\\\xa2\\xa1\\x81:R0?\\xc7mT]<\\x9d\\x9f\\xc1\\x04\\xa17\\xe9\\xef\\x12\\xef^\\xbaWLV \\xc7\\xbf\\xe3\\xe3\\x827\\xd4,\\xaeo\\xa4 P/^\\xdfH\\xbf\\xef\\x82\\x97\\xb92)\\x82\\xc6\\x829b\\x10\\xda\\x14U\\x06\\xfb\\x82\\xc3\\x08\\x00\\xb8\\xe3\\xe1\\xca\"\\xb2\\xd1\\x00\\xc8\\x0b4\\x02^\\x13U[\\xa9\\x86p\\xb2\\x02\\x1b\\xac\\x96\\xdeR\\xe2\\x0feV,\\xc9\\xf0\\x10$\\x0bX\\x16u=4\\xcba\\xac\\xd3%p\\x83`N\\x04%\\xe3X\\x96,)\\x85\\x9cS~\\x96\\xa2&\\xc7t\\xe8\\x9f\\xe4)\\xb3\\xa7\\x16\\x96$~z\\'\\x19B\\xd3\\x18\\xd1\"\\xe3T\\xd7\\xf3Xr\\xf6Msg\\x83\\x14\"\\xa7\\x8dZ\\x03X\\x8dg\\xea\\xeb\\x82\\xd5\\xc5\\xe2\\xd2\\xfd\\xc9m\\x071d\\xd7\\x88\\xf0Q\\xd3?\\xc7\\xb3\\xc5or\\x81\\x8f$h\\xcb\\x98\"\\xe8\\x92\\xb1\\xa3F\\xffE\\xfeB]\\xd4c\\x82\\x83\\x18\\xc5\\xd3!<\\xd3\\xd8\\x08\\xc0TF \\xc6\\xd2\\x84\\xd0\\x84\\nbY\\xdc\\xc4FY\\x8f$\\xf3Q\\xdbT~Y0#\\xa2t\\xdc+\\x1fkq\\xef\\x82\\x97\\xcf\\xf0}\\x89\\xd7hD\\xc4\\xacQ,\\xd5\\xe0R\\xca\\xedw\\xf8\\x8a\\xa0\\xb3\\xc1\"\\x01L\\xa3\\xde\\x80\\x9a\\xa2I\\xab\\x87\\xbf\\xd1\\xa4\\x8c\\xb4e\\x9c\\x0fi\\xd9\\x7ftd\\x1e\\x93T\\xd9O\\xb5\\xae\\x87\\x9a\\x08\\xb7\\x92\\x99enR\\x03\\'\\xc8\\\\\\x0c\\xa5\\x96\\xac\\xe3\\xeb\\xe2|*[\\xf3\\x1b\\xa6\\xc2\\xc7rP\\xfa6g]\\xeb\\xff\\x14Q\\x99ag\\xceU\\x07\\xa0\\xe0\\x1cB\\x1fg\\x1d{\\xb8J\\x07g_\\x14B\\n\\x1d\\x80P\\x1f{\\x1a\\xd5\\x07\\x1b\\x88u\\x14\\x17\\x8dt\\x14<-\\xc2\\x01vv\\x94\\x91\\xc8q\\xcf\\xd8\\x9d)\\xee\\xae\\rW\\xa0\\xe3F\\xdc\\xd95Hp\\xa9\\xf4\\x90\\xa3\\x03t\\xa8x\\xfdDmJ/+\\\\j\\x9bF\\xf0\\xa2\\xee\\x18\\xdd\\x93\\x92E\\xf0\\xea9\\xd2D\\xdbaD\\xd1*&4|!\\xc9\\xc81\\xee\\x89\\x10\\xbf\\x9c\\x9d\\xd1T*\\x01\\x90\\xa1\\x81\\xd5\\x8e\\x83\\xca\\x17J\\x0f\\xeb\\x08\\xa9Ht9z\\xc1\\xd5\\xb02>\\xac\\xcei\\x91k\\xcd\\xa2\\x16~\\x04\\\\\\x1cY\\x97hD\\xa3\\x95@k$<e\\xca\\xacNe|Gm\\xc3y)\\xe1\\x9a\\x12\\x02t$\\x1a\\x11\\xd0\\xcc\\x95\\xe9f\\xa0 \\n\\x05k8l\\xa5`1\\x0e\\x8f\\x9da\\x8f\\xcc\\xb9A1\\xac\\x15\\x19\\xb1o\\x0f\\xaf\\x88\\x9a\\xcd.\\xf0{)\\xc0\\\\6F/\\x112}Q\\xd9\\x92\\x95\\xec\\x08\\xbbs\\xb8&(r\\x9c \\xa0\\xbb\\xb2(\\xf9s\\x04\\xc7\\x83\\xe9P\\x80\\xf9\\x82\\xc2\\\\,\\x869\\xb9G\\x85\\xb6e\\xa4of\\x1f4\\x86\\x9aK4\\xc9Ps\\x8a\\x84\"\\xb4\\xf0M\\xe7\\x14\\xa5\\x98\\x86\\x81#1\\xf5\\x92n\\x87\\x8c`\\xf9\\xa8\\x15Iu\\xbb\\xbe\\xffOU^`oLG\\xde\\xbe\\x19M\\\\TT\\xe9=s\\x00!\\xb9md\\x10\\x89\\xc4<\\xafz]\\'\\x04\\x15_\\xc2I\\x11\\xacd\\xb0\\xf0\\r\\x9c\\x84r^\\x17y\\xa10\\xa7s\\x94\\xf9ESz\\x85\\xab\\x14\\xb2H\\xc6\\x97W\\xf8\\xe0JdY\\xe6\\xb6\\x8a&\\xb9G\\xc5\\xadl]\\xfc=V2\\xbb\\xfbE_\\xef-8\\\\\\x9fO\\xb7\\xe5\\x96)\\x7ft\\xceJ\\xe3\\xa5\\x0f2\\x93N\\x82H^\\xa7E\\xfed\\x996\\x97\\x0b\\xbaO\\xc1\\xc2-\\x9f\\xfc\\x8ay\\xabhj\\t\\xf1\\x9d0\\xb2\\x81\\x8e\\xadW0\\xd0\\x8d\\x14\\x05\\xa7O\\xeeL>{\\x91\\xc5\\x1e\\xa4[\\t7f\\xfb\\x14\\x11ur\\xa4\\xf4\\xb6\\xa2\\x0e\\x02\\xbb\\x0f\\xc5L>K\\xba\\xcf\\x1dE6\\xd5\\xae\\xa9|\\x9b\\xb04\\xf5\\xd2\\xbb\\xca\\x97\\x8b\\x8f\\x97W\\x8b/\\xba0\\xf8\\x19@ \\xe2;\\xf7\\xf90\\xacL\\x19,\\xd7rwZ\\x90\\x0b\\xd8\\x0e\\x90\\xfe\\x94\\xde\\'O\\xe5R\\xf2\\x97\\xd9\\x1a\\xf7-Io\\xb1\\x89\\xa7TTb\\xdf\\x9d\\x9a\\xae\\x85[o\\x0c\\xb4g\\x9e`}\\xbd\\xcd\\x17\\xdff#\\xd72#\\xa1\\xda\\xebc\\x1aK\\x9e~\\xbb\\xaef\\xfc\\xed\\xba\\x9ar\\xc1$&\\xabB\\x1d\\xafz\\n\\xdf\\xac\\xa4\\xf0,o\\x81\\xafx\\xbf\\xf6\\x90M/\\x0b\\xe7\\xa6D\\x9b\\x13(\\xb5\\xf76\\xdd\\r\\xa5\\x9b\\xe0dw4|\\xbbN\\x86V\\x9a\\x16\\xbbV~4\\xd5\\x0c4n\\xcd\\xf9v\\x9dLJU\\x7f\\xfe\\xebd\\x8a\\xd4\\xd0M/\\xb9Etc\\xa6s\\xd2\\xbaC\\x9c\\nI\\\\~\\xbb\\x9b`\\xee\\x8a\\xd3\\xbf]\\xf5\\xd2\"{^\\xde\\x01s\\xab\\x1bV\\x9a\\x98_W\\x89\\xffv\\xd5K\\xf9\\x02\\x9eoW\\xbd\\xd05Drk\\xfe\\'\\xbf\\xea\\xa5^\\x16\\xe2\\xca\\xf8\\nY\\x98\\xee\\xf3I\">\\xbf\\xc5M-w#\\r3p\\xa4k\\xe2\\xdbU,\\xe9\\x9e\\xed\\x16vO\\x86Ux\\xe9\\xbf]\\xc5\\xe2\\xe2$\\xf6\\x08:G\\xf9\\xe2\\x10r\\xf9\\xed*\\x16UMu\\x89\\x1d\\xfa\\xb7\\xabX\\x1c\\x8e\\xc53\\xa2\\x822\\xfe\\xfav\\x15\\x8bd\\xad\\xb3[^\\xc5R\\xaf\\xc6v*\\xd5X1.+\\x8dM)E\\x8c\\x96BEW\\xbe\\x80\\xe0n4]\\x11\\xe2o\\x97\\xa5\\xf0U1\\xdf.K\\xc1\\x9dF)-|\\xbb,\\xc5\\xc4F\\x9av\\xfco\\xbd,\\xa5^\\xf4\\xecV\\x8a\\x9e\\xc2U!\\xd9\\xfd\\x0eu7\\xa0\\xf0\\x15\\x10\\xb9c\\xd9\\xaf\\xe9Y,\\x80\\xabl\\xa0o7\\x9b\\x84\\xce\\xe8\\xa8\\xf5\\xedf\\x93B\\xd5\\nD\\xa7 $\\xfe+\\xdflR\\xcf\\x81{\\x95\\x1c\\xa8\\xf2\\x83\\xb0\\x81\\xd5\\t\\xae\\xffM:]\\x01\\xa2N\\rS\\xb0RW\\xabb\\xb6\\x0c\\xcao\\x97\\x8f|\\xbb|\\x04\\x01.\\x92 \\xbe\\xd6\\xe5#\\xf5\\xec\\xb5_\\xc9^\\xd0\\xb6\\xd29\\x84\\xf8V\\x17\\x91\\x19\\x88\\x7f\\xfd\\xef\\xd2^_\\xd5\\x89\\xdbt\\xe1\\xa0\\x06d\\x8c\\x8c\\x8d\\xa4\\xcf\\xa1\\xe5\\x92\\xeb;\\x03\\xf5\\x17a?\\x89c^\\xcayB\\x0f\\x04\\x85V^:(sk\\x96\\xebXb\\xd7\\xddt\\xed\\x8f\\x06\\x86\\nC\\xe4.W\\xc7w\\x14}\\xc7\\x8d!\\x94E5\\xf2u\\x9d\\x08,\\xa8q\\x99\\x8d\\x92Vx\\xa8J%\\xaf\\x08Y\\x93\\xd3\\x1d\\xa1\\xc3W(\\xaf\\x1fRQ$\\xdc\\x16\\x13\\xca\\xe0\\x1d\\xf3\\xa2R\\xc4\\xd6\\xbdI\\x7fZ\\x19+M\\x97\\xfe\\xf0\\xd8\\x88\\xcdIP\\xc0=w\\x9f\\xb3\\xbc\\xf4\\x17\\xa1Cg\\xeaG\\xc1KS\\x18|\\xc1}\\xa1\\xea\\xe7\\x9c\\xe5\\xa6\\x0e\\')\\x04\\xa9\\x18d\\x02Z\\xfa#\\x04\\x99h\\x08\\xcd\\xbf\\xe5\\xc8\\x93\\xe5b\\x8e\\xd8\\x1f\\xc9!\\xa3\\xf2~!\\xd4\\x9c\\x10m#\\xfcGF\\xf1\\x94\\x8bu\\xe4R\\x1c\\xe1I\\xc1=E\\x14\\x02V\\xc2d]\\xb0O\\xe5\\x1c\\xaa\\x1e\\x1a9\\'2 IA\\xb4t\\xfcL\\x19\\xa6t\\x85\\x9b\\xe2g\\x8aa3\\xc8\\xb0\\xa1\\x885$\\xc2\\x07\\xaa\\xd2o}\\x18\\xaa\\xcc\\xf7\\xd2\\xd7\\x02q\\rT\\x94\\xa9\\xca\\x93f\\xe5\\\\k\\x01B\\xb8C\\x06P\\xa5{\\xbd\\xf7\\x82\\xd3\\n)y\\xb1\\x1e\\xb0\\x13\\x94\\xb9s97\\x11[\\x17\\x15\\xdc\\xbf\\xa8\\xe2P\\xbd\\xa2\\xc1\\xb9l\\nT\\xbd(\\x95\\x92i\\xe8Cp\\x8c;J\\x9e\\xe2.\\\\\\xba\\x99K e\\x08\\x10;\\xe2Y\\xc2\\xca\\xa8\\xfa\\xf2\\x96\\xc5\\xcbe\\x1e\\x8aT\\xe2\\xb5X\\xc2\\x8d\\xea\\x9c\\'f\\xb1>\\xac,\\xe2\\xbc\\xf1\\xac\\x10\\xb6,#Wes\\xdc\\xae1t\\xb1\\xa9\\xf7C\\xd4\\xe3\\x19\\xd9\\xc9T]G\\xa5Do\\xb1Q\\x9a\\xaa\\x95S\\xb3E\\xf0\\xea\\xa7\\\\q#T\\x8a\\t#\\xfbl\\xe0\\x07\\xf3\\x90\\xee=\\xa8`\\xbe\\xb4=\\x92\\x1f\\xb9\\xcel=/P\\xd3B\\xc46\\xd8\\xf9\\xb9\\xee\\\\<\\xa0q\\x9elnlt\\xa9\\x06\\xd1\\xf6\\xc2\\xa0h\\xeaOV\\x82.\\xf7\\x9aQ2\\xa29-lL(\\x0fuaH\\xae\"\\xd8\\x92\\x8411\\xbaxD\\x19|6u\\xc6\\xb8\\x9d\\x88\\n)\\xe3/\\x05c\\xa9\\xaa\\xf7\\x92\\x08\\x991n9\\x0e\\n.]\\xd9\\x03h\\xac\\xde\\xa9\\xfc\\x84\\x9bF\\x11+\\xcb\\x99,\\xcb\\xcc\\x84\\xa2:\\x17\\xcf&\\x7f\\x996\\xac\\x83\\x10\\xd5:U\\x95o\\x8c\\x8c\\x044\\xbaJ\\x1bY\\xa5t\\x8fgz.\\x88\\x0b8\\xcc\\x86\\x06HT\\x93\\xa9H\\xa1)\\x11u$\\tU\\x86\\xd62\\xf9\\xd4d\\x1e\\xac\\xaa\\x88\\x8c,\\x08\\xadX\\n\\x11\\xaf\\x1d\\xa9\\t2X\\xa5\\xf6+\\x0ct?\\xf6\\x93\\xc1\\x04z\\xa2\\x1c7\\xcb\\x93<\\x8c\\x06\\xa1\\x1b\\xc4\"\\n\\x07G\\xadN\\xc7\\xbe\\xb0o\\xdac\\xdf\\x1f\\xa3h[\\x80R\\x82d\\r\\xd23\\x18^\\xfd\\xa8s\\xf19AM\\xcbN\\xb7\\xbd\\xdf\\xdeT_\\xda\\xc8yi_\\xc8j\\x93\\xdc\\x93\\x84Gu\\xdb\\xbb\\x86\\xb8\\xc0\\xb5W\\x17?\\xd3\\x8b\\xe2\\x9f\\xffD\\x84\\xa7\\x8cTi_\\xc3\\x96q\\xd6\\xd7\\xf2\\xe3\\x93\\xf8\\xc05\\xc6\\x17\\x919\\x9e\\xc5\\xe3e\\x03\\xfdWG\\xc2\\xdc[\\xa3\\x1c\\x87\\xf2\\xa0\\xab\\xcc%q1\\x1b\\xd4\\xef\\xed\\xaa\\xe9X\\xc8\\x0c\\xfb\\n3J\\\\L\\x8a\\x86]0\\xab\\x8a%*\\xa0hf#G:\\x9c\\xb7\\x83\\xcb\\xf1\\xb0\\x19r\\x85\\x96\\xc2\\xfbT+\\x122}0MP\\x95\\xb7\\xb0\\x90\\xb9\\xd1\\xe9\\xca\\xa6\\xa3V\\x8ck\\xd8:\\x17\\xa8U\\'\\xf1\\xde*u\\xcaV\\x13ap\\xb4\\xb3\\xbd\\xbf\\x87\\xca\\x01\\xa3=\\xd4\\xfe\\x03\\x81\\x88\\x01\\xceQ\\x90\\xdd\\x7f\\xd4J\\xe2\\x91\\x85\\xedY~\\xed\\x14\\xf1\\x82\\xe1\\x7fsGb\\nuxr,\\xf6>\\xe6\\xa8\\x89\\xaf\\x8dZ\\x02\\x86`\\x9a \\x02\\'\\xea\\x9c\\x1c\\xef3(\\xfb\\xf6h\\xd7\\xd9\\xdc\\x1d\\xec\\xd9[\\xfde@!\\xbe\\x90s\\xff\\xee7\\x98\\x82\\xee\\xe8cZ\\xa6\\x8d\\xd8\\xd2\\x00p\\xffv\\x00\\xa2\\xb67\\xe4\\x11\\xf20\\x9d\\xe1Y<\\x9fbk\\x01h\\x87\\xdb\\xdd\\xe1\\xfe`\\xf8x\\x7f\\x84R\\x8eK \\xae\\x01Z\\x89T\\x9e\\n\\x82<;2\\x9f\\x1d9\\x1dX\\xf3\\xde\\xbd\\xff\\x07D/m\\xfcD\\xc6\\x00\\x00'\n"
     ]
    }
   ],
   "source": [
    "print(html)"
   ]
  },
  {
   "cell_type": "code",
   "execution_count": null,
   "id": "9d214cf3",
   "metadata": {},
   "outputs": [],
   "source": []
  }
 ],
 "metadata": {
  "kernelspec": {
   "display_name": "Python 3 (ipykernel)",
   "language": "python",
   "name": "python3"
  },
  "language_info": {
   "codemirror_mode": {
    "name": "ipython",
    "version": 3
   },
   "file_extension": ".py",
   "mimetype": "text/x-python",
   "name": "python",
   "nbconvert_exporter": "python",
   "pygments_lexer": "ipython3",
   "version": "3.11.6"
  }
 },
 "nbformat": 4,
 "nbformat_minor": 5
}
