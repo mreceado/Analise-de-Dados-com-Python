{
 "cells": [
  {
   "cell_type": "markdown",
   "id": "2f22ac70",
   "metadata": {},
   "source": [
    "### Trabalhando com Tuplas"
   ]
  },
  {
   "cell_type": "code",
   "execution_count": 1,
   "id": "806a1fc3",
   "metadata": {},
   "outputs": [],
   "source": [
    "# Criando uma tupla\n",
    "tupla1 = (\"Geografia\", 23, \"Elefantes\", 9.8, 'Python')"
   ]
  },
  {
   "cell_type": "code",
   "execution_count": 2,
   "id": "6e53d8cd",
   "metadata": {},
   "outputs": [
    {
     "data": {
      "text/plain": [
       "('Geografia', 23, 'Elefantes', 9.8, 'Python')"
      ]
     },
     "execution_count": 2,
     "metadata": {},
     "output_type": "execute_result"
    }
   ],
   "source": [
    "# Imprimindo a tupla\n",
    "tupla1"
   ]
  },
  {
   "cell_type": "code",
   "execution_count": 5,
   "id": "89baface",
   "metadata": {},
   "outputs": [
    {
     "data": {
      "text/plain": [
       "'Geografia'"
      ]
     },
     "execution_count": 5,
     "metadata": {},
     "output_type": "execute_result"
    }
   ],
   "source": [
    "# retorna o primeiro item da tupla\n",
    "tupla1[0]"
   ]
  },
  {
   "cell_type": "code",
   "execution_count": 6,
   "id": "059770de",
   "metadata": {},
   "outputs": [
    {
     "data": {
      "text/plain": [
       "5"
      ]
     },
     "execution_count": 6,
     "metadata": {},
     "output_type": "execute_result"
    }
   ],
   "source": [
    "# retorna o comprimento da tupla\n",
    "len(tupla1)"
   ]
  },
  {
   "cell_type": "code",
   "execution_count": 7,
   "id": "a0c64e50",
   "metadata": {},
   "outputs": [
    {
     "data": {
      "text/plain": [
       "(23, 'Elefantes', 9.8, 'Python')"
      ]
     },
     "execution_count": 7,
     "metadata": {},
     "output_type": "execute_result"
    }
   ],
   "source": [
    "# retorna os items da tupla a partir do indice 1\n",
    "tupla1[1::]"
   ]
  },
  {
   "cell_type": "code",
   "execution_count": 8,
   "id": "de09338c",
   "metadata": {},
   "outputs": [
    {
     "data": {
      "text/plain": [
       "'Python'"
      ]
     },
     "execution_count": 8,
     "metadata": {},
     "output_type": "execute_result"
    }
   ],
   "source": [
    "# retorna o último\n",
    "tupla1[-1]"
   ]
  },
  {
   "cell_type": "code",
   "execution_count": 9,
   "id": "5e6e1302",
   "metadata": {},
   "outputs": [
    {
     "data": {
      "text/plain": [
       "('Python', 9.8, 'Elefantes', 23, 'Geografia')"
      ]
     },
     "execution_count": 9,
     "metadata": {},
     "output_type": "execute_result"
    }
   ],
   "source": [
    "# retorna todos os items da tupla de forma reversa (inverso)\n",
    "tupla1[::-1]"
   ]
  },
  {
   "cell_type": "code",
   "execution_count": 10,
   "id": "c7ee28e7",
   "metadata": {},
   "outputs": [
    {
     "data": {
      "text/plain": [
       "1"
      ]
     },
     "execution_count": 10,
     "metadata": {},
     "output_type": "execute_result"
    }
   ],
   "source": [
    "# retorna o indice do valor 23 da tupla\n",
    "tupla1.index(23)"
   ]
  },
  {
   "cell_type": "code",
   "execution_count": 11,
   "id": "0246d58e",
   "metadata": {},
   "outputs": [],
   "source": [
    "# Usando a função list para converter uma lista para tupla\n",
    "lista_t1 = list(tupla1)"
   ]
  },
  {
   "cell_type": "code",
   "execution_count": 12,
   "id": "146f239f",
   "metadata": {},
   "outputs": [
    {
     "data": {
      "text/plain": [
       "['Geografia', 23, 'Elefantes', 9.8, 'Python']"
      ]
     },
     "execution_count": 12,
     "metadata": {},
     "output_type": "execute_result"
    }
   ],
   "source": [
    "lista_t1"
   ]
  },
  {
   "cell_type": "code",
   "execution_count": 14,
   "id": "fda96954",
   "metadata": {},
   "outputs": [],
   "source": [
    "# Acrescenta mais do que um argumento \n",
    "lista_t1.extend([\"Filosofia\", 124, 60.5])"
   ]
  },
  {
   "cell_type": "code",
   "execution_count": 15,
   "id": "22e212b4",
   "metadata": {},
   "outputs": [
    {
     "data": {
      "text/plain": [
       "['Geografia', 23, 'Elefantes', 9.8, 'Python', 'Filosofia', 124, 60.5]"
      ]
     },
     "execution_count": 15,
     "metadata": {},
     "output_type": "execute_result"
    }
   ],
   "source": [
    "lista_t1"
   ]
  },
  {
   "cell_type": "code",
   "execution_count": 16,
   "id": "c1730025",
   "metadata": {},
   "outputs": [],
   "source": [
    "# Converter lista em tupla\n",
    "tupla1 = tuple(lista_t1)"
   ]
  },
  {
   "cell_type": "code",
   "execution_count": 17,
   "id": "8602cd68",
   "metadata": {},
   "outputs": [
    {
     "data": {
      "text/plain": [
       "('Geografia', 23, 'Elefantes', 9.8, 'Python', 'Filosofia', 124, 60.5)"
      ]
     },
     "execution_count": 17,
     "metadata": {},
     "output_type": "execute_result"
    }
   ],
   "source": [
    "tupla1"
   ]
  },
  {
   "cell_type": "code",
   "execution_count": null,
   "id": "e216b1c4",
   "metadata": {},
   "outputs": [],
   "source": []
  }
 ],
 "metadata": {
  "kernelspec": {
   "display_name": "Python 3 (ipykernel)",
   "language": "python",
   "name": "python3"
  },
  "language_info": {
   "codemirror_mode": {
    "name": "ipython",
    "version": 3
   },
   "file_extension": ".py",
   "mimetype": "text/x-python",
   "name": "python",
   "nbconvert_exporter": "python",
   "pygments_lexer": "ipython3",
   "version": "3.11.6"
  }
 },
 "nbformat": 4,
 "nbformat_minor": 5
}
