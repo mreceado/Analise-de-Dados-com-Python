{
 "cells": [
  {
   "cell_type": "markdown",
   "id": "9176d464",
   "metadata": {},
   "source": [
    "### String"
   ]
  },
  {
   "cell_type": "code",
   "execution_count": 1,
   "id": "81bfe24f",
   "metadata": {},
   "outputs": [],
   "source": [
    "produto1, produto2, produto3 = 'arroz', 'feijão', 'batata' "
   ]
  },
  {
   "cell_type": "code",
   "execution_count": 2,
   "id": "0b1f7d5d",
   "metadata": {},
   "outputs": [
    {
     "data": {
      "text/plain": [
       "'arroz'"
      ]
     },
     "execution_count": 2,
     "metadata": {},
     "output_type": "execute_result"
    }
   ],
   "source": [
    "produto1"
   ]
  },
  {
   "cell_type": "code",
   "execution_count": 3,
   "id": "87484b14",
   "metadata": {},
   "outputs": [
    {
     "data": {
      "text/plain": [
       "'feijão'"
      ]
     },
     "execution_count": 3,
     "metadata": {},
     "output_type": "execute_result"
    }
   ],
   "source": [
    "produto2"
   ]
  },
  {
   "cell_type": "code",
   "execution_count": 4,
   "id": "7e6d521d",
   "metadata": {},
   "outputs": [
    {
     "data": {
      "text/plain": [
       "'batata'"
      ]
     },
     "execution_count": 4,
     "metadata": {},
     "output_type": "execute_result"
    }
   ],
   "source": [
    "produto3"
   ]
  },
  {
   "cell_type": "code",
   "execution_count": 5,
   "id": "e7742d19",
   "metadata": {},
   "outputs": [
    {
     "name": "stdout",
     "output_type": "stream",
     "text": [
      "batata\n"
     ]
    }
   ],
   "source": [
    "print(produto3)"
   ]
  },
  {
   "cell_type": "code",
   "execution_count": 6,
   "id": "a7f208fa",
   "metadata": {},
   "outputs": [
    {
     "name": "stdout",
     "output_type": "stream",
     "text": [
      "Os produtos são: arroz, feijão e batata.\n"
     ]
    }
   ],
   "source": [
    "print(\"Os produtos são: \" + produto1 + \", \" + produto2 + \" e \" + produto3 + \".\")"
   ]
  },
  {
   "cell_type": "code",
   "execution_count": 7,
   "id": "6839f939",
   "metadata": {},
   "outputs": [
    {
     "name": "stdout",
     "output_type": "stream",
     "text": [
      "\n",
      "\n"
     ]
    }
   ],
   "source": [
    "print(\"\\n\")"
   ]
  },
  {
   "cell_type": "markdown",
   "id": "edc1dcdb",
   "metadata": {},
   "source": [
    "## Listas"
   ]
  },
  {
   "cell_type": "code",
   "execution_count": 8,
   "id": "f50b355a",
   "metadata": {},
   "outputs": [],
   "source": [
    "# Criando uma lista com um só elemento\n",
    "lista1 = [\"arroz, feijão, batata\"]"
   ]
  },
  {
   "cell_type": "code",
   "execution_count": 9,
   "id": "b1f71dec",
   "metadata": {},
   "outputs": [
    {
     "data": {
      "text/plain": [
       "['arroz, feijão, batata']"
      ]
     },
     "execution_count": 9,
     "metadata": {},
     "output_type": "execute_result"
    }
   ],
   "source": [
    "lista1"
   ]
  },
  {
   "cell_type": "code",
   "execution_count": 10,
   "id": "93fc5da5",
   "metadata": {},
   "outputs": [
    {
     "name": "stdout",
     "output_type": "stream",
     "text": [
      "['arroz, feijão, batata']\n"
     ]
    }
   ],
   "source": [
    "print(lista1)"
   ]
  },
  {
   "cell_type": "code",
   "execution_count": 11,
   "id": "44a1d7b9",
   "metadata": {},
   "outputs": [],
   "source": [
    "# Criando uma lista com vários elementos\n",
    "lista2 = [\"arroz\", \"feijão\", \"batata\"]"
   ]
  },
  {
   "cell_type": "code",
   "execution_count": 12,
   "id": "564f45d5",
   "metadata": {},
   "outputs": [
    {
     "data": {
      "text/plain": [
       "['arroz', 'feijão', 'batata']"
      ]
     },
     "execution_count": 12,
     "metadata": {},
     "output_type": "execute_result"
    }
   ],
   "source": [
    "lista2"
   ]
  },
  {
   "cell_type": "code",
   "execution_count": 13,
   "id": "46405da6",
   "metadata": {},
   "outputs": [
    {
     "data": {
      "text/plain": [
       "'batata'"
      ]
     },
     "execution_count": 13,
     "metadata": {},
     "output_type": "execute_result"
    }
   ],
   "source": [
    "lista2[2]"
   ]
  },
  {
   "cell_type": "code",
   "execution_count": 14,
   "id": "ea740c18",
   "metadata": {},
   "outputs": [
    {
     "name": "stdout",
     "output_type": "stream",
     "text": [
      "\n",
      "\n"
     ]
    }
   ],
   "source": [
    "print(\"\\n\")"
   ]
  },
  {
   "cell_type": "code",
   "execution_count": 15,
   "id": "4f3f4472",
   "metadata": {},
   "outputs": [],
   "source": [
    "# Criando uma lista com inteiros, floats e strings\n",
    "lista3 = [55, 1.63, \"Oriane Germano\"]"
   ]
  },
  {
   "cell_type": "code",
   "execution_count": 16,
   "id": "bc94aeac",
   "metadata": {},
   "outputs": [
    {
     "data": {
      "text/plain": [
       "[55, 1.63, 'Oriane Germano']"
      ]
     },
     "execution_count": 16,
     "metadata": {},
     "output_type": "execute_result"
    }
   ],
   "source": [
    "lista3"
   ]
  },
  {
   "cell_type": "code",
   "execution_count": 17,
   "id": "993d0124",
   "metadata": {},
   "outputs": [
    {
     "name": "stdout",
     "output_type": "stream",
     "text": [
      "Nome: Oriane Germano\n",
      "Peso: 55\n",
      "Altura: 1.63\n"
     ]
    }
   ],
   "source": [
    "print(\"Nome: \" + lista3[2] + \"\\nPeso: \" + str(lista3[0]) + \"\\nAltura: \" + str(lista3[1]))"
   ]
  },
  {
   "cell_type": "code",
   "execution_count": 18,
   "id": "66703b9e",
   "metadata": {},
   "outputs": [],
   "source": [
    "# Alterando um item da lista\n",
    "lista3[2] = \"Natália Ramos\""
   ]
  },
  {
   "cell_type": "code",
   "execution_count": 19,
   "id": "99a61e7a",
   "metadata": {},
   "outputs": [
    {
     "data": {
      "text/plain": [
       "[55, 1.63, 'Natália Ramos']"
      ]
     },
     "execution_count": 19,
     "metadata": {},
     "output_type": "execute_result"
    }
   ],
   "source": [
    "lista3"
   ]
  },
  {
   "cell_type": "code",
   "execution_count": 20,
   "id": "dc1aeb8c",
   "metadata": {},
   "outputs": [],
   "source": [
    "# Acrescentando um item na lista\n",
    "lista3.append(\"15/10/1980\")"
   ]
  },
  {
   "cell_type": "code",
   "execution_count": 21,
   "id": "d07563b4",
   "metadata": {},
   "outputs": [
    {
     "data": {
      "text/plain": [
       "[55, 1.63, 'Natália Ramos', '15/10/1980']"
      ]
     },
     "execution_count": 21,
     "metadata": {},
     "output_type": "execute_result"
    }
   ],
   "source": [
    "lista3"
   ]
  },
  {
   "cell_type": "code",
   "execution_count": 22,
   "id": "9577422f",
   "metadata": {},
   "outputs": [
    {
     "name": "stdout",
     "output_type": "stream",
     "text": [
      "Nome: Natália Ramos\n",
      "Data de Nascimento: 15/10/1980\n",
      "Peso: 55\n",
      "Altura: 1.63\n"
     ]
    }
   ],
   "source": [
    "print(\"Nome: \" + lista3[2] + \"\\nData de Nascimento: \" + lista3[3] + \"\\nPeso: \" + str(lista3[0]) + \"\\nAltura: \" + str(lista3[1]))"
   ]
  },
  {
   "cell_type": "code",
   "execution_count": 23,
   "id": "6b828af2",
   "metadata": {},
   "outputs": [],
   "source": [
    "lista3.append(880)"
   ]
  },
  {
   "cell_type": "code",
   "execution_count": 24,
   "id": "6a69e225",
   "metadata": {},
   "outputs": [
    {
     "data": {
      "text/plain": [
       "[55, 1.63, 'Natália Ramos', '15/10/1980', 880]"
      ]
     },
     "execution_count": 24,
     "metadata": {},
     "output_type": "execute_result"
    }
   ],
   "source": [
    "lista3"
   ]
  },
  {
   "cell_type": "code",
   "execution_count": 25,
   "id": "a6f22e73",
   "metadata": {},
   "outputs": [],
   "source": [
    "del lista3[4]"
   ]
  },
  {
   "cell_type": "code",
   "execution_count": 26,
   "id": "211525bf",
   "metadata": {},
   "outputs": [
    {
     "data": {
      "text/plain": [
       "[55, 1.63, 'Natália Ramos', '15/10/1980']"
      ]
     },
     "execution_count": 26,
     "metadata": {},
     "output_type": "execute_result"
    }
   ],
   "source": [
    "lista3"
   ]
  },
  {
   "cell_type": "code",
   "execution_count": 27,
   "id": "f60b2ec4",
   "metadata": {},
   "outputs": [
    {
     "name": "stdout",
     "output_type": "stream",
     "text": [
      "\n",
      "\n"
     ]
    }
   ],
   "source": [
    "print(\"\\n\")"
   ]
  },
  {
   "cell_type": "markdown",
   "id": "4158218d",
   "metadata": {},
   "source": [
    "### Listas aninhadas (Lista de listas)"
   ]
  },
  {
   "cell_type": "code",
   "execution_count": 28,
   "id": "d58a4604",
   "metadata": {},
   "outputs": [],
   "source": [
    "# Criando uma lista de listas\n",
    "listas1 = [[1,2,3], [4.5,5.8,6.0], [\"tomate\", \"cebola\"]]"
   ]
  },
  {
   "cell_type": "code",
   "execution_count": 29,
   "id": "9c2b4e95",
   "metadata": {},
   "outputs": [
    {
     "data": {
      "text/plain": [
       "[[1, 2, 3], [4.5, 5.8, 6.0], ['tomate', 'cebola']]"
      ]
     },
     "execution_count": 29,
     "metadata": {},
     "output_type": "execute_result"
    }
   ],
   "source": [
    "listas1"
   ]
  },
  {
   "cell_type": "code",
   "execution_count": 30,
   "id": "67bb3cb0",
   "metadata": {},
   "outputs": [
    {
     "data": {
      "text/plain": [
       "6.0"
      ]
     },
     "execution_count": 30,
     "metadata": {},
     "output_type": "execute_result"
    }
   ],
   "source": [
    "listas1[1][2]"
   ]
  },
  {
   "cell_type": "code",
   "execution_count": 31,
   "id": "a41abc5b",
   "metadata": {},
   "outputs": [
    {
     "data": {
      "text/plain": [
       "'tomate'"
      ]
     },
     "execution_count": 31,
     "metadata": {},
     "output_type": "execute_result"
    }
   ],
   "source": [
    "listas1[2][0]"
   ]
  },
  {
   "cell_type": "code",
   "execution_count": 32,
   "id": "f51be319",
   "metadata": {},
   "outputs": [
    {
     "data": {
      "text/plain": [
       "[4.5, 5.8, 6.0]"
      ]
     },
     "execution_count": 32,
     "metadata": {},
     "output_type": "execute_result"
    }
   ],
   "source": [
    "listas1[1]"
   ]
  },
  {
   "cell_type": "code",
   "execution_count": 33,
   "id": "95d242e5",
   "metadata": {},
   "outputs": [],
   "source": [
    "listas1[2].append(\"couve\")"
   ]
  },
  {
   "cell_type": "code",
   "execution_count": 34,
   "id": "72757ef4",
   "metadata": {},
   "outputs": [
    {
     "data": {
      "text/plain": [
       "[[1, 2, 3], [4.5, 5.8, 6.0], ['tomate', 'cebola', 'couve']]"
      ]
     },
     "execution_count": 34,
     "metadata": {},
     "output_type": "execute_result"
    }
   ],
   "source": [
    "listas1"
   ]
  },
  {
   "cell_type": "code",
   "execution_count": 35,
   "id": "36cf2e1c",
   "metadata": {},
   "outputs": [],
   "source": [
    "del listas1[2][2]"
   ]
  },
  {
   "cell_type": "code",
   "execution_count": 36,
   "id": "68e15964",
   "metadata": {},
   "outputs": [
    {
     "data": {
      "text/plain": [
       "[[1, 2, 3], [4.5, 5.8, 6.0], ['tomate', 'cebola']]"
      ]
     },
     "execution_count": 36,
     "metadata": {},
     "output_type": "execute_result"
    }
   ],
   "source": [
    "listas1"
   ]
  },
  {
   "cell_type": "code",
   "execution_count": 37,
   "id": "1bbb597f",
   "metadata": {},
   "outputs": [
    {
     "name": "stdout",
     "output_type": "stream",
     "text": [
      "\n",
      "\n"
     ]
    }
   ],
   "source": [
    "print(\"\\n\")"
   ]
  },
  {
   "cell_type": "markdown",
   "id": "f052c05d",
   "metadata": {},
   "source": [
    "### Concatenando listas"
   ]
  },
  {
   "cell_type": "code",
   "execution_count": 38,
   "id": "0e4d4403",
   "metadata": {},
   "outputs": [],
   "source": [
    "listas_s1 = [30,31,32]"
   ]
  },
  {
   "cell_type": "code",
   "execution_count": 39,
   "id": "762057dc",
   "metadata": {},
   "outputs": [
    {
     "data": {
      "text/plain": [
       "[30, 31, 32]"
      ]
     },
     "execution_count": 39,
     "metadata": {},
     "output_type": "execute_result"
    }
   ],
   "source": [
    "listas_s1"
   ]
  },
  {
   "cell_type": "code",
   "execution_count": 40,
   "id": "94883c3e",
   "metadata": {},
   "outputs": [],
   "source": [
    "listas_s2 = [40,41,42]"
   ]
  },
  {
   "cell_type": "code",
   "execution_count": 41,
   "id": "dd4ca928",
   "metadata": {},
   "outputs": [
    {
     "data": {
      "text/plain": [
       "[40, 41, 42]"
      ]
     },
     "execution_count": 41,
     "metadata": {},
     "output_type": "execute_result"
    }
   ],
   "source": [
    "listas_s2"
   ]
  },
  {
   "cell_type": "code",
   "execution_count": 42,
   "id": "59498acb",
   "metadata": {},
   "outputs": [],
   "source": [
    "listas_total = listas_s1 + listas_s2"
   ]
  },
  {
   "cell_type": "code",
   "execution_count": 43,
   "id": "70fdeac6",
   "metadata": {},
   "outputs": [
    {
     "data": {
      "text/plain": [
       "[30, 31, 32, 40, 41, 42]"
      ]
     },
     "execution_count": 43,
     "metadata": {},
     "output_type": "execute_result"
    }
   ],
   "source": [
    "listas_total"
   ]
  },
  {
   "cell_type": "code",
   "execution_count": 44,
   "id": "cd5344d7",
   "metadata": {},
   "outputs": [
    {
     "name": "stdout",
     "output_type": "stream",
     "text": [
      "\n",
      "\n"
     ]
    }
   ],
   "source": [
    "print(\"\\n\")"
   ]
  },
  {
   "cell_type": "markdown",
   "id": "eb606ea6",
   "metadata": {},
   "source": [
    "### Operador In"
   ]
  },
  {
   "cell_type": "code",
   "execution_count": 45,
   "id": "ebe7731a",
   "metadata": {},
   "outputs": [],
   "source": [
    "# Criando uma lista\n",
    "lista_teste_op = [100, 2, -5, 3.4]"
   ]
  },
  {
   "cell_type": "code",
   "execution_count": 46,
   "id": "baa0369e",
   "metadata": {},
   "outputs": [
    {
     "name": "stdout",
     "output_type": "stream",
     "text": [
      "False\n"
     ]
    }
   ],
   "source": [
    "# Verificar se o valor 10 pertence a lista\n",
    "print(10 in lista_teste_op)"
   ]
  },
  {
   "cell_type": "code",
   "execution_count": 47,
   "id": "2496da70",
   "metadata": {},
   "outputs": [
    {
     "name": "stdout",
     "output_type": "stream",
     "text": [
      "True\n"
     ]
    }
   ],
   "source": [
    "# Verificar se o valor 10 pertence a lista\n",
    "print(100 in lista_teste_op)"
   ]
  },
  {
   "cell_type": "code",
   "execution_count": 48,
   "id": "8f8bd11e",
   "metadata": {},
   "outputs": [
    {
     "data": {
      "text/plain": [
       "1"
      ]
     },
     "execution_count": 48,
     "metadata": {},
     "output_type": "execute_result"
    }
   ],
   "source": [
    "lista_teste_op.count(2)"
   ]
  },
  {
   "cell_type": "code",
   "execution_count": 49,
   "id": "34d6fb7b",
   "metadata": {},
   "outputs": [
    {
     "name": "stdout",
     "output_type": "stream",
     "text": [
      "\n",
      "\n"
     ]
    }
   ],
   "source": [
    "print(\"\\n\")"
   ]
  },
  {
   "cell_type": "markdown",
   "id": "65da31b0",
   "metadata": {},
   "source": [
    "### Funções Built-in"
   ]
  },
  {
   "cell_type": "code",
   "execution_count": 50,
   "id": "4e65dad2",
   "metadata": {},
   "outputs": [],
   "source": [
    "# Criando uma lista\n",
    "lista_numeros = [10, 20, 50, 3.4]"
   ]
  },
  {
   "cell_type": "code",
   "execution_count": 51,
   "id": "2cea42ec",
   "metadata": {},
   "outputs": [
    {
     "data": {
      "text/plain": [
       "[10, 20, 50, 3.4]"
      ]
     },
     "execution_count": 51,
     "metadata": {},
     "output_type": "execute_result"
    }
   ],
   "source": [
    "lista_numeros"
   ]
  },
  {
   "cell_type": "code",
   "execution_count": 52,
   "id": "80ea8b20",
   "metadata": {},
   "outputs": [
    {
     "data": {
      "text/plain": [
       "4"
      ]
     },
     "execution_count": 52,
     "metadata": {},
     "output_type": "execute_result"
    }
   ],
   "source": [
    "# retorna o comprimento da lista\n",
    "len(lista_numeros)"
   ]
  },
  {
   "cell_type": "code",
   "execution_count": 53,
   "id": "1ba71e4a",
   "metadata": {},
   "outputs": [
    {
     "data": {
      "text/plain": [
       "50"
      ]
     },
     "execution_count": 53,
     "metadata": {},
     "output_type": "execute_result"
    }
   ],
   "source": [
    "max(lista_numeros)"
   ]
  },
  {
   "cell_type": "code",
   "execution_count": 54,
   "id": "7f2c52c8",
   "metadata": {},
   "outputs": [
    {
     "data": {
      "text/plain": [
       "3.4"
      ]
     },
     "execution_count": 54,
     "metadata": {},
     "output_type": "execute_result"
    }
   ],
   "source": [
    "min(lista_numeros)"
   ]
  },
  {
   "cell_type": "code",
   "execution_count": 55,
   "id": "f87b7f02",
   "metadata": {},
   "outputs": [],
   "source": [
    "lista_numeros.sort()"
   ]
  },
  {
   "cell_type": "code",
   "execution_count": 56,
   "id": "7777bce9",
   "metadata": {},
   "outputs": [
    {
     "data": {
      "text/plain": [
       "[3.4, 10, 20, 50]"
      ]
     },
     "execution_count": 56,
     "metadata": {},
     "output_type": "execute_result"
    }
   ],
   "source": [
    "lista_numeros"
   ]
  },
  {
   "cell_type": "code",
   "execution_count": 57,
   "id": "e150e4f5",
   "metadata": {},
   "outputs": [],
   "source": [
    "lista_numeros.reverse()"
   ]
  },
  {
   "cell_type": "code",
   "execution_count": 58,
   "id": "7c8d8835",
   "metadata": {},
   "outputs": [
    {
     "data": {
      "text/plain": [
       "[50, 20, 10, 3.4]"
      ]
     },
     "execution_count": 58,
     "metadata": {},
     "output_type": "execute_result"
    }
   ],
   "source": [
    "lista_numeros"
   ]
  },
  {
   "cell_type": "code",
   "execution_count": 59,
   "id": "c8a9eef0",
   "metadata": {},
   "outputs": [],
   "source": [
    "lista_numeros.append(-5)"
   ]
  },
  {
   "cell_type": "code",
   "execution_count": 60,
   "id": "3f591032",
   "metadata": {},
   "outputs": [
    {
     "data": {
      "text/plain": [
       "[50, 20, 10, 3.4, -5]"
      ]
     },
     "execution_count": 60,
     "metadata": {},
     "output_type": "execute_result"
    }
   ],
   "source": [
    "lista_numeros"
   ]
  },
  {
   "cell_type": "code",
   "execution_count": 61,
   "id": "f03d86a9",
   "metadata": {},
   "outputs": [],
   "source": [
    "lista_numeros.insert(3, 83)"
   ]
  },
  {
   "cell_type": "code",
   "execution_count": 62,
   "id": "c87e36dc",
   "metadata": {},
   "outputs": [
    {
     "data": {
      "text/plain": [
       "[50, 20, 10, 83, 3.4, -5]"
      ]
     },
     "execution_count": 62,
     "metadata": {},
     "output_type": "execute_result"
    }
   ],
   "source": [
    "lista_numeros"
   ]
  },
  {
   "cell_type": "code",
   "execution_count": 63,
   "id": "b2f87afa",
   "metadata": {},
   "outputs": [],
   "source": [
    "lista_numeros.remove(20)"
   ]
  },
  {
   "cell_type": "code",
   "execution_count": 64,
   "id": "9a8bc679",
   "metadata": {},
   "outputs": [
    {
     "data": {
      "text/plain": [
       "[50, 10, 83, 3.4, -5]"
      ]
     },
     "execution_count": 64,
     "metadata": {},
     "output_type": "execute_result"
    }
   ],
   "source": [
    "lista_numeros"
   ]
  },
  {
   "cell_type": "code",
   "execution_count": 65,
   "id": "74a252a9",
   "metadata": {},
   "outputs": [
    {
     "data": {
      "text/plain": [
       "4"
      ]
     },
     "execution_count": 65,
     "metadata": {},
     "output_type": "execute_result"
    }
   ],
   "source": [
    "lista_numeros.index(-5)"
   ]
  },
  {
   "cell_type": "code",
   "execution_count": 66,
   "id": "1ae408de",
   "metadata": {},
   "outputs": [
    {
     "data": {
      "text/plain": [
       "[50, 10, 83, 3.4, -5]"
      ]
     },
     "execution_count": 66,
     "metadata": {},
     "output_type": "execute_result"
    }
   ],
   "source": [
    "lista_numeros"
   ]
  },
  {
   "cell_type": "code",
   "execution_count": 67,
   "id": "ac9013f6",
   "metadata": {},
   "outputs": [
    {
     "data": {
      "text/plain": [
       "[50, 10, 83, 3.4, -5]"
      ]
     },
     "execution_count": 67,
     "metadata": {},
     "output_type": "execute_result"
    }
   ],
   "source": [
    "# Copia items de uma lista para outra\n",
    "new_list = []\n",
    "\n",
    "for i in lista_numeros:\n",
    "    new_list.append(i)\n",
    "\n",
    "new_list"
   ]
  },
  {
   "cell_type": "code",
   "execution_count": 68,
   "id": "48c04188",
   "metadata": {},
   "outputs": [],
   "source": [
    "# Adiciona a lista mais do que um argumento\n",
    "lista_numeros.extend([35,69,27])"
   ]
  },
  {
   "cell_type": "code",
   "execution_count": 69,
   "id": "17b8f70f",
   "metadata": {},
   "outputs": [
    {
     "data": {
      "text/plain": [
       "[50, 10, 83, 3.4, -5, 35, 69, 27]"
      ]
     },
     "execution_count": 69,
     "metadata": {},
     "output_type": "execute_result"
    }
   ],
   "source": [
    "lista_numeros"
   ]
  },
  {
   "cell_type": "code",
   "execution_count": 70,
   "id": "14856364",
   "metadata": {},
   "outputs": [],
   "source": [
    "# Append adiciona apenas um argumento\n",
    "lista_numeros.append([35,69,27])"
   ]
  },
  {
   "cell_type": "code",
   "execution_count": 71,
   "id": "4ef8afc7",
   "metadata": {},
   "outputs": [
    {
     "data": {
      "text/plain": [
       "[50, 10, 83, 3.4, -5, 35, 69, 27, [35, 69, 27]]"
      ]
     },
     "execution_count": 71,
     "metadata": {},
     "output_type": "execute_result"
    }
   ],
   "source": [
    "lista_numeros"
   ]
  },
  {
   "cell_type": "code",
   "execution_count": null,
   "id": "a45f1141",
   "metadata": {},
   "outputs": [],
   "source": []
  },
  {
   "cell_type": "code",
   "execution_count": null,
   "id": "d64e07bb-bd1c-4da7-a8b3-ccc978b83e37",
   "metadata": {},
   "outputs": [],
   "source": []
  }
 ],
 "metadata": {
  "kernelspec": {
   "display_name": "Python 3 (ipykernel)",
   "language": "python",
   "name": "python3"
  },
  "language_info": {
   "codemirror_mode": {
    "name": "ipython",
    "version": 3
   },
   "file_extension": ".py",
   "mimetype": "text/x-python",
   "name": "python",
   "nbconvert_exporter": "python",
   "pygments_lexer": "ipython3",
   "version": "3.11.6"
  }
 },
 "nbformat": 4,
 "nbformat_minor": 5
}
