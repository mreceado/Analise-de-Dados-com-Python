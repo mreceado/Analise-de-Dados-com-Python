{
 "cells": [
  {
   "cell_type": "markdown",
   "id": "11990261",
   "metadata": {},
   "source": [
    "### Pratica"
   ]
  },
  {
   "cell_type": "code",
   "execution_count": 3,
   "id": "42dd3ea3",
   "metadata": {},
   "outputs": [
    {
     "name": "stdout",
     "output_type": "stream",
     "text": [
      "Números pares: [2, 4, 6, 8, 10, 12, 14, 16, 18, 20, 22, 24, 26, 28, 30]\n",
      "Soma dos números pares: 240\n"
     ]
    }
   ],
   "source": [
    "# Gere código Python que crie uma lista com os números entre 1 e 30 e então imprima os números a soma total dos números pares,\n",
    "# usando list comprehension\n",
    "\n",
    "numeros = list(range(1, 31))\n",
    "pares = [numero for numero in numeros if numero % 2 == 0]\n",
    "print(\"Números pares:\", pares)\n",
    "print(\"Soma dos números pares:\", sum(pares))\n"
   ]
  },
  {
   "cell_type": "markdown",
   "id": "cf2a7fa9",
   "metadata": {},
   "source": [
    "### Condicionais com Placeholders"
   ]
  },
  {
   "cell_type": "code",
   "execution_count": 5,
   "id": "46f7a070",
   "metadata": {},
   "outputs": [
    {
     "name": "stdin",
     "output_type": "stream",
     "text": [
      "Insira o nome da disciplina:  Matematica\n",
      "Insira a nota:  20\n"
     ]
    },
    {
     "name": "stdout",
     "output_type": "stream",
     "text": [
      "Aprovado com Sucesso em Matematica com 20 Valores.\n"
     ]
    }
   ],
   "source": [
    "disciplina = input('Insira o nome da disciplina: ')\n",
    "nota = int(input('Insira a nota: '))\n",
    "\n",
    "if disciplina == 'Matematica' and nota >= 18:\n",
    "    print('Aprovado com Sucesso em %s com %r Valores.' %(disciplina, nota))\n",
    "else:\n",
    "    print('Disciplina ou Nota Inválida!')"
   ]
  },
  {
   "cell_type": "code",
   "execution_count": 6,
   "id": "8f3d2d14",
   "metadata": {},
   "outputs": [
    {
     "name": "stdout",
     "output_type": "stream",
     "text": [
      "[0, 2, 4, 6, 8, 10, 12, 14, 16, 18, 20]\n",
      "110\n"
     ]
    }
   ],
   "source": [
    "lista = [num for num in range(0,21,2)]\n",
    "\n",
    "print(lista)\n",
    "print(sum(lista))"
   ]
  },
  {
   "cell_type": "code",
   "execution_count": 7,
   "id": "ca7b7f4e",
   "metadata": {},
   "outputs": [
    {
     "name": "stdout",
     "output_type": "stream",
     "text": [
      "[0, 2, 4, 6, 8, 10, 12, 14, 16, 18, 20]\n"
     ]
    }
   ],
   "source": [
    "lista2 = [num for num in range(0,21) if num % 2 == 0]\n",
    "\n",
    "print(lista2)"
   ]
  },
  {
   "cell_type": "code",
   "execution_count": 8,
   "id": "52a9fc97",
   "metadata": {},
   "outputs": [
    {
     "name": "stdout",
     "output_type": "stream",
     "text": [
      "1\n",
      "2\n",
      "3\n",
      "----------\n",
      "2\n",
      "4\n",
      "6\n",
      "----------\n",
      "3\n",
      "6\n",
      "9\n",
      "----------\n",
      "4\n",
      "8\n",
      "12\n",
      "----------\n",
      "5\n",
      "10\n",
      "15\n",
      "----------\n"
     ]
    }
   ],
   "source": [
    "lista3 = [1,2,3,4,5]\n",
    "lista4 = [1,2,3]\n",
    "\n",
    "# Loop externo\n",
    "for i in lista3:\n",
    "    # Loop interno\n",
    "    for j in lista4:\n",
    "        resultado = i * j\n",
    "        print(resultado)\n",
    "    print(\"----------\")"
   ]
  },
  {
   "cell_type": "code",
   "execution_count": 9,
   "id": "7f1f18c3",
   "metadata": {},
   "outputs": [
    {
     "name": "stdout",
     "output_type": "stream",
     "text": [
      "O número 390 aparece nas duas listas\n"
     ]
    }
   ],
   "source": [
    "# O número 390 aparece nas duas listas?\n",
    "lista1 = [100,160,240,390,476]\n",
    "lista2 = [390,258,487,276,182]\n",
    "\n",
    "for i in lista1:\n",
    "    if i == 390:\n",
    "        for j in lista2:\n",
    "            if j == 390:\n",
    "                print(\"O número 390 aparece nas duas listas\")"
   ]
  },
  {
   "cell_type": "code",
   "execution_count": 10,
   "id": "33372268",
   "metadata": {},
   "outputs": [
    {
     "name": "stdout",
     "output_type": "stream",
     "text": [
      "O maior número é o 215\n",
      "Iterações em i: 3\n",
      "Iterações em j: 9\n"
     ]
    }
   ],
   "source": [
    "# Loop em lista de listas (matrizes) para encontrar o maior número\n",
    "matriz = [[42, 23, 34], [100, 215, 114], [10.1, 98.7, 12.3]]\n",
    "maior = 0\n",
    "contaI = 0\n",
    "contaJ = 0\n",
    "\n",
    "for i in matriz:\n",
    "    contaI += 1\n",
    "    for j in i:\n",
    "        contaJ += 1\n",
    "        if j > maior:\n",
    "            maior = j\n",
    "            \n",
    "print(\"O maior número é o %s\" %(maior))\n",
    "print(\"Iterações em i: %s\" %(contaI))\n",
    "print(\"Iterações em j: %s\" %(contaJ))"
   ]
  },
  {
   "cell_type": "code",
   "execution_count": 11,
   "id": "0106edb0",
   "metadata": {},
   "outputs": [
    {
     "name": "stdout",
     "output_type": "stream",
     "text": [
      "[2, 3, 5]\n"
     ]
    }
   ],
   "source": [
    "# Encontrando números primos entre 2 e 5 usando loop for e while\n",
    "\n",
    "listaPrimos = []\n",
    "\n",
    "for i in range(2,6): \n",
    "    \n",
    "    j = 2 # Como todos os números são divisíveis por 1 então começamos as \n",
    "          # divisões por 2\n",
    "    \n",
    "    valor = 0\n",
    "    while j < i: # dividimos o número actual por todos os números inferiores a \n",
    "                 # ele mesmo, com excepçáo do número 1\n",
    "        \n",
    "        if i%j == 0: # caso o resto de alguma divisão seja igual a zero\n",
    "            valor = 1 # Então o número não é primo\n",
    "            break     # quebramos o ciclo while e passamos para o número da\n",
    "                      # próxima iteração do ciclo For\n",
    "        else:\n",
    "            j += 1   # caso o número não seja primo, então incrementamos o\n",
    "                     # divisor\n",
    "            \n",
    "    if valor == 0:\n",
    "        listaPrimos.append(i)\n",
    "        \n",
    "print(listaPrimos)\n",
    "      \n"
   ]
  },
  {
   "cell_type": "code",
   "execution_count": null,
   "id": "e812ee94",
   "metadata": {},
   "outputs": [],
   "source": []
  },
  {
   "cell_type": "markdown",
   "id": "da761b66",
   "metadata": {},
   "source": [
    "### Funções"
   ]
  },
  {
   "cell_type": "code",
   "execution_count": 12,
   "id": "a3925bc8",
   "metadata": {},
   "outputs": [],
   "source": [
    "# definindo uma função\n",
    "def primeiraFunc(nome):\n",
    "    #nome = 'Bob'\n",
    "    print('Hello world %s' %(nome))"
   ]
  },
  {
   "cell_type": "code",
   "execution_count": 13,
   "id": "98b267db",
   "metadata": {},
   "outputs": [
    {
     "name": "stdout",
     "output_type": "stream",
     "text": [
      "Hello world Maria\n"
     ]
    }
   ],
   "source": [
    "primeiraFunc(\"Maria\")"
   ]
  },
  {
   "cell_type": "code",
   "execution_count": 14,
   "id": "2d17f524",
   "metadata": {},
   "outputs": [],
   "source": [
    "def somaNum(num1, num2):\n",
    "    print(\"A soma entre %s e %r é igual a %s \" %(num1, num2, num1+num2))"
   ]
  },
  {
   "cell_type": "code",
   "execution_count": 15,
   "id": "250eba7d",
   "metadata": {},
   "outputs": [
    {
     "name": "stdout",
     "output_type": "stream",
     "text": [
      "A soma entre 100 e 81 é igual a 181 \n"
     ]
    }
   ],
   "source": [
    "somaNum(100, 81)"
   ]
  },
  {
   "cell_type": "code",
   "execution_count": 16,
   "id": "6a472566",
   "metadata": {},
   "outputs": [],
   "source": [
    "# Função para imprimir números\n",
    "def imprimeNum():\n",
    "    for i in range(1,30,3):\n",
    "        print(i)"
   ]
  },
  {
   "cell_type": "code",
   "execution_count": 17,
   "id": "e4ce9a23",
   "metadata": {},
   "outputs": [
    {
     "name": "stdout",
     "output_type": "stream",
     "text": [
      "1\n",
      "4\n",
      "7\n",
      "10\n",
      "13\n",
      "16\n",
      "19\n",
      "22\n",
      "25\n",
      "28\n"
     ]
    }
   ],
   "source": [
    "imprimeNum()"
   ]
  },
  {
   "cell_type": "code",
   "execution_count": 18,
   "id": "434d47c9",
   "metadata": {},
   "outputs": [],
   "source": [
    "def textoInf(txt):\n",
    "    print(txt.lower())"
   ]
  },
  {
   "cell_type": "code",
   "execution_count": 19,
   "id": "735ebff8",
   "metadata": {},
   "outputs": [
    {
     "name": "stdout",
     "output_type": "stream",
     "text": [
      "mariquinha\n"
     ]
    }
   ],
   "source": [
    "textoInf(\"MaRiquInHa\")"
   ]
  },
  {
   "cell_type": "code",
   "execution_count": 20,
   "id": "8bbc9cde",
   "metadata": {},
   "outputs": [],
   "source": [
    "def textoSup(txt):\n",
    "    print(txt.upper())    "
   ]
  },
  {
   "cell_type": "code",
   "execution_count": 21,
   "id": "5c53a1f4",
   "metadata": {},
   "outputs": [
    {
     "name": "stdout",
     "output_type": "stream",
     "text": [
      "MARIQUINHA\n"
     ]
    }
   ],
   "source": [
    "textoSup(\"MaRiquInHa\")"
   ]
  },
  {
   "cell_type": "code",
   "execution_count": 22,
   "id": "7c6c81d7",
   "metadata": {},
   "outputs": [],
   "source": [
    "# Split dos dados, separa os dados em função dos espaços\n",
    "def separaDados(texto):\n",
    "    print(texto.split())"
   ]
  },
  {
   "cell_type": "code",
   "execution_count": 23,
   "id": "a5c1cae1",
   "metadata": {},
   "outputs": [
    {
     "name": "stdout",
     "output_type": "stream",
     "text": [
      "['Função', 'útil', 'para', 'separar', 'grandes', 'volumes!!!']\n"
     ]
    }
   ],
   "source": [
    "frase = \"Função útil para separar grandes volumes!!!\"\n",
    "separaDados(frase)"
   ]
  },
  {
   "cell_type": "markdown",
   "id": "3677d1d3",
   "metadata": {},
   "source": [
    "### Lambda"
   ]
  },
  {
   "cell_type": "code",
   "execution_count": 24,
   "id": "f9866423",
   "metadata": {},
   "outputs": [],
   "source": [
    "# Definindo uma função - 1 linha de código\n",
    "def potencia(num): return num ** 2"
   ]
  },
  {
   "cell_type": "code",
   "execution_count": 25,
   "id": "cf56ec71",
   "metadata": {},
   "outputs": [
    {
     "data": {
      "text/plain": [
       "9"
      ]
     },
     "execution_count": 25,
     "metadata": {},
     "output_type": "execute_result"
    }
   ],
   "source": [
    "potencia(3)"
   ]
  },
  {
   "cell_type": "code",
   "execution_count": 26,
   "id": "66956eb8",
   "metadata": {},
   "outputs": [],
   "source": [
    "# Definindo uma expressão lambda (função anônima)\n",
    "potencia = lambda num: num ** 2"
   ]
  },
  {
   "cell_type": "code",
   "execution_count": 27,
   "id": "652e5693",
   "metadata": {},
   "outputs": [
    {
     "data": {
      "text/plain": [
       "9"
      ]
     },
     "execution_count": 27,
     "metadata": {},
     "output_type": "execute_result"
    }
   ],
   "source": [
    "potencia(3)"
   ]
  },
  {
   "cell_type": "code",
   "execution_count": 28,
   "id": "b1599686",
   "metadata": {},
   "outputs": [],
   "source": [
    "# Lembre: operadores de comparação retornam boolean: true or false\n",
    "par = lambda x: x%2==0"
   ]
  },
  {
   "cell_type": "code",
   "execution_count": 29,
   "id": "2a34d61a",
   "metadata": {},
   "outputs": [
    {
     "data": {
      "text/plain": [
       "False"
      ]
     },
     "execution_count": 29,
     "metadata": {},
     "output_type": "execute_result"
    }
   ],
   "source": [
    "par(49)"
   ]
  },
  {
   "cell_type": "code",
   "execution_count": 30,
   "id": "3f2b87a0",
   "metadata": {},
   "outputs": [
    {
     "data": {
      "text/plain": [
       "True"
      ]
     },
     "execution_count": 30,
     "metadata": {},
     "output_type": "execute_result"
    }
   ],
   "source": [
    "par(50)"
   ]
  },
  {
   "cell_type": "code",
   "execution_count": null,
   "id": "dda5f19b",
   "metadata": {},
   "outputs": [],
   "source": []
  },
  {
   "cell_type": "code",
   "execution_count": null,
   "id": "d86b9bbe-d148-490b-a2c3-7acafd6e4957",
   "metadata": {},
   "outputs": [],
   "source": []
  }
 ],
 "metadata": {
  "kernelspec": {
   "display_name": "Python 3 (ipykernel)",
   "language": "python",
   "name": "python3"
  },
  "language_info": {
   "codemirror_mode": {
    "name": "ipython",
    "version": 3
   },
   "file_extension": ".py",
   "mimetype": "text/x-python",
   "name": "python",
   "nbconvert_exporter": "python",
   "pygments_lexer": "ipython3",
   "version": "3.11.6"
  }
 },
 "nbformat": 4,
 "nbformat_minor": 5
}
