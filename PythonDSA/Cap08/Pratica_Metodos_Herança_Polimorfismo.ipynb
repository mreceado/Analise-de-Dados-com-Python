{
 "cells": [
  {
   "cell_type": "markdown",
   "id": "1864245a",
   "metadata": {},
   "source": [
    "### Trabalhando com Métodos de Classes em Python\n",
    "\n",
    "Em Python, os métodos de classes são funções definidas dentro de uma classe, que realizam operações específicas em objetos criados a partir dessa classe. Os métodos de classes são usados para implementar o comportamento dos objetos que pertencem a essa classe.\n",
    "\n",
    "Assim como as funções em Python, os métodos de classes podem receber argumentos e retornar valores. No entanto, diferentemente das funções normais, os métodos de classes sempre incluem o parâmetro self como o primeiro argumento, que é usado para se referir ao objeto atual da classe.\n",
    "\n",
    "O método init é um método especial que é chamado quando um objeto é criado a partir da classe. Este método é usado para inicializar os atributos do objeto. Outros métodos podem ser definidos para executar tarefas específicas em um objeto, como calcular valores, realizar operações de entrada e saída, ou alterar o estado do objeto."
   ]
  },
  {
   "cell_type": "code",
   "execution_count": 1,
   "id": "361f46eb",
   "metadata": {},
   "outputs": [],
   "source": [
    "# Criando uma classe chamada circulo\n",
    "class Circulo:\n",
    "    \n",
    "    # O valor de pi é constante\n",
    "    pi = 3.14\n",
    "    \n",
    "    # Quando um objecto desta classe for criado, este método será executado e o valor default do raio será 5.\n",
    "    def __init__(self, raio = 5):\n",
    "        self.raio = raio\n",
    "        \n",
    "    # Esse método calcula a área\n",
    "    def area(self):\n",
    "        return (self.raio * self.raio) * Circulo.pi\n",
    "    \n",
    "    # Método para gerar um novo raio\n",
    "    def setRaio(self, novo_raio):\n",
    "        self.raio = novo_raio\n",
    "        \n",
    "    # Método para retornar o raio do circulo\n",
    "    def getRaio(self):\n",
    "        return self.raio\n",
    "    "
   ]
  },
  {
   "cell_type": "code",
   "execution_count": 2,
   "id": "4be4f7fd",
   "metadata": {},
   "outputs": [],
   "source": [
    "# Criando o objecto circ, uma instância da classe Circulo\n",
    "circ = Circulo()"
   ]
  },
  {
   "cell_type": "code",
   "execution_count": 3,
   "id": "27deea7a",
   "metadata": {},
   "outputs": [
    {
     "data": {
      "text/plain": [
       "5"
      ]
     },
     "execution_count": 3,
     "metadata": {},
     "output_type": "execute_result"
    }
   ],
   "source": [
    "# Executando um método da classe Circulo\n",
    "circ.getRaio()"
   ]
  },
  {
   "cell_type": "code",
   "execution_count": 4,
   "id": "40498bef",
   "metadata": {},
   "outputs": [],
   "source": [
    "# Criando outro objeto chamado circ1. Uma instância da classe Circulo()\n",
    "# Agora sobrescrevendo o valor do atributo\n",
    "circ1 = Circulo(7)"
   ]
  },
  {
   "cell_type": "code",
   "execution_count": 5,
   "id": "c7ecb002",
   "metadata": {},
   "outputs": [
    {
     "data": {
      "text/plain": [
       "7"
      ]
     },
     "execution_count": 5,
     "metadata": {},
     "output_type": "execute_result"
    }
   ],
   "source": [
    "circ1.getRaio()"
   ]
  },
  {
   "cell_type": "code",
   "execution_count": 6,
   "id": "420d5746",
   "metadata": {},
   "outputs": [
    {
     "data": {
      "text/plain": [
       "5"
      ]
     },
     "execution_count": 6,
     "metadata": {},
     "output_type": "execute_result"
    }
   ],
   "source": [
    "circ.getRaio()"
   ]
  },
  {
   "cell_type": "code",
   "execution_count": 7,
   "id": "54813dc1",
   "metadata": {},
   "outputs": [
    {
     "name": "stdout",
     "output_type": "stream",
     "text": [
      "O raio é: 5\n"
     ]
    }
   ],
   "source": [
    "# Imprimindo o raio\n",
    "print(\"O raio é:\", circ.getRaio())"
   ]
  },
  {
   "cell_type": "code",
   "execution_count": 8,
   "id": "03610f8d",
   "metadata": {},
   "outputs": [
    {
     "name": "stdout",
     "output_type": "stream",
     "text": [
      "A área é: 78.5\n"
     ]
    }
   ],
   "source": [
    "# Imprimindo a área\n",
    "print(\"A área é:\", circ.area())"
   ]
  },
  {
   "cell_type": "code",
   "execution_count": 9,
   "id": "aecebb7f",
   "metadata": {},
   "outputs": [],
   "source": [
    "# Gerando um novo valor para o raio\n",
    "circ.setRaio(10)"
   ]
  },
  {
   "cell_type": "code",
   "execution_count": 10,
   "id": "fed17eec",
   "metadata": {},
   "outputs": [
    {
     "data": {
      "text/plain": [
       "10"
      ]
     },
     "execution_count": 10,
     "metadata": {},
     "output_type": "execute_result"
    }
   ],
   "source": [
    "circ.getRaio()"
   ]
  },
  {
   "cell_type": "code",
   "execution_count": 11,
   "id": "c27354bb",
   "metadata": {},
   "outputs": [
    {
     "name": "stdout",
     "output_type": "stream",
     "text": [
      "A área é: 314.0\n"
     ]
    }
   ],
   "source": [
    "# Imprimindo a nova área\n",
    "print(\"A área é:\", circ.area())"
   ]
  },
  {
   "cell_type": "markdown",
   "id": "b1946f63",
   "metadata": {},
   "source": [
    "### Trabalhando com Herança de Classes em Python\n",
    "\n",
    "\n",
    "Em Programação Orientada a Objetos (POO), a herança é um conceito que permite criar novas classes a partir de outras classes existentes, aproveitando os atributos e métodos da classe original e adicionando novos atributos e métodos específicos. \n",
    "\n",
    "A classe original é chamada de classe mãe ou superclasse e a nova classe criada é chamada de classe filha ou subclasse.\n",
    "\n",
    "A herança é uma técnica importante em POO porque permite reutilizar o código de maneira eficiente. Em vez de criar uma nova classe do zero, a subclasse pode herdar todos os atributos e métodos da superclasse e adicionar apenas o que é necessário. Dessa forma, a subclasse pode se concentrar em fornecer funcionalidades adicionais sem precisar se preocupar com as características básicas da classe.\n",
    "\n",
    "Na herança, uma subclasse pode herdar os atributos e métodos da superclasse e substituí-los ou estendê-los conforme necessário. Por exemplo, uma subclasse pode ter um método com o mesmo nome de um método da superclasse, mas com um comportamento diferente. "
   ]
  },
  {
   "cell_type": "code",
   "execution_count": 12,
   "id": "8fdf0dae",
   "metadata": {},
   "outputs": [],
   "source": [
    "# Criando a classe animal\n",
    "class Animal():\n",
    "    \n",
    "    def __init__(self):\n",
    "        print(\"Animal criado!\")\n",
    "        \n",
    "    def imprimir(self):\n",
    "        print(\"Este é um animal\")\n",
    "        \n",
    "    def comer(self):\n",
    "        print(\"Hora de comer\")\n",
    "        \n",
    "    def emitir_som(self):\n",
    "        pass"
   ]
  },
  {
   "cell_type": "code",
   "execution_count": 13,
   "id": "e6ec4ffc",
   "metadata": {},
   "outputs": [],
   "source": [
    "# Criando a classe cachorro - Sub-classe\n",
    "class Cachorro(Animal):\n",
    "    \n",
    "    def __init__(self):\n",
    "        Animal.__init__(self)\n",
    "        print(\"Objecto cachorro criado.\")\n",
    "        \n",
    "    def emitir_som(self):\n",
    "        print(\"Au au!\")\n",
    "        "
   ]
  },
  {
   "cell_type": "code",
   "execution_count": 14,
   "id": "885648cb",
   "metadata": {},
   "outputs": [],
   "source": [
    "# Criando a classe gato - Sub-classe\n",
    "class Gato(Animal):\n",
    "    \n",
    "    def __init__(self):\n",
    "        Animal.__init__(self)\n",
    "        print(\"Objecto Gato criado.\")\n",
    "        \n",
    "    def emitir_som(self):\n",
    "        print(\"Miau!\")"
   ]
  },
  {
   "cell_type": "code",
   "execution_count": 15,
   "id": "6d6ccda6",
   "metadata": {},
   "outputs": [
    {
     "name": "stdout",
     "output_type": "stream",
     "text": [
      "Animal criado!\n",
      "Objecto cachorro criado.\n"
     ]
    }
   ],
   "source": [
    "# Criando um objecto (Instanciando a classe)\n",
    "rex = Cachorro()"
   ]
  },
  {
   "cell_type": "code",
   "execution_count": 16,
   "id": "94a4d250",
   "metadata": {},
   "outputs": [
    {
     "name": "stdout",
     "output_type": "stream",
     "text": [
      "Au au!\n"
     ]
    }
   ],
   "source": [
    "rex.emitir_som()"
   ]
  },
  {
   "cell_type": "code",
   "execution_count": 17,
   "id": "93c9e411",
   "metadata": {},
   "outputs": [
    {
     "name": "stdout",
     "output_type": "stream",
     "text": [
      "Animal criado!\n",
      "Objecto Gato criado.\n"
     ]
    }
   ],
   "source": [
    "zeze = Gato()"
   ]
  },
  {
   "cell_type": "code",
   "execution_count": 18,
   "id": "1c1250d8",
   "metadata": {},
   "outputs": [
    {
     "name": "stdout",
     "output_type": "stream",
     "text": [
      "Miau!\n"
     ]
    }
   ],
   "source": [
    "zeze.emitir_som()"
   ]
  },
  {
   "cell_type": "code",
   "execution_count": 19,
   "id": "cd43f74f",
   "metadata": {},
   "outputs": [
    {
     "name": "stdout",
     "output_type": "stream",
     "text": [
      "Este é um animal\n"
     ]
    }
   ],
   "source": [
    "rex.imprimir()"
   ]
  },
  {
   "cell_type": "code",
   "execution_count": 20,
   "id": "e9deb76e",
   "metadata": {},
   "outputs": [
    {
     "name": "stdout",
     "output_type": "stream",
     "text": [
      "Hora de comer\n"
     ]
    }
   ],
   "source": [
    "rex.comer()"
   ]
  },
  {
   "cell_type": "code",
   "execution_count": 21,
   "id": "499cc443",
   "metadata": {},
   "outputs": [
    {
     "name": "stdout",
     "output_type": "stream",
     "text": [
      "Este é um animal\n"
     ]
    }
   ],
   "source": [
    "zeze.imprimir()"
   ]
  },
  {
   "cell_type": "code",
   "execution_count": 22,
   "id": "54f32b92",
   "metadata": {},
   "outputs": [
    {
     "name": "stdout",
     "output_type": "stream",
     "text": [
      "Hora de comer\n"
     ]
    }
   ],
   "source": [
    "zeze.comer()"
   ]
  },
  {
   "cell_type": "markdown",
   "id": "66269f77",
   "metadata": {},
   "source": [
    "### Trabalhando com Polimorfismo de Classes em Python\n",
    "\n",
    "Polimorfismo é um dos conceitos fundamentais da Programação Orientada a Objetos (POO). O polimorfismo permite que objetos de diferentes classes possam ser tratados de forma uniforme. Isso significa que um objeto pode ser tratado como se fosse um objeto de uma superclasse, mesmo que ele seja de uma subclasse.\n",
    "\n",
    "Mais especificamente, o polimorfismo se refere à habilidade de um objeto responder de diferentes formas a uma mesma mensagem. Isso é possível porque as subclasses podem implementar métodos com o mesmo nome que os métodos da superclasse, mas com comportamentos diferentes.\n",
    "\n",
    "Com o Polimorfismo, os mesmos atributos e métodos podem ser utilizados em objetos distintos, porém, com implementações lógicas diferentes."
   ]
  },
  {
   "cell_type": "code",
   "execution_count": 23,
   "id": "51ecd62e",
   "metadata": {},
   "outputs": [],
   "source": [
    "# Superclasse\n",
    "class Veiculo:\n",
    "    \n",
    "    def __init__(self, marca, modelo):\n",
    "        self.marca = marca\n",
    "        self.modelo = modelo\n",
    "        \n",
    "    def acelerar(self):\n",
    "        pass\n",
    "    \n",
    "    def frear(self):\n",
    "        pass"
   ]
  },
  {
   "cell_type": "code",
   "execution_count": 24,
   "id": "74b4bdef",
   "metadata": {},
   "outputs": [],
   "source": [
    "# Subclasse\n",
    "class Carro(Veiculo):\n",
    "    \n",
    "    def acelerar(self):\n",
    "        print(\"O carro está a acelerar!\")\n",
    "        \n",
    "    def frear(self):\n",
    "        print(\"O carro está a frear!\")"
   ]
  },
  {
   "cell_type": "code",
   "execution_count": 25,
   "id": "93b15bdd",
   "metadata": {},
   "outputs": [],
   "source": [
    "class Moto(Veiculo):\n",
    "    \n",
    "    def acelerar(self):\n",
    "        print(\"A moto está a acelerar!\")\n",
    "        \n",
    "    def frear(self):\n",
    "        print(\"A moto está a frear!\")"
   ]
  },
  {
   "cell_type": "code",
   "execution_count": 26,
   "id": "9da9746b",
   "metadata": {},
   "outputs": [],
   "source": [
    "# Subclasse\n",
    "class Aviao(Veiculo):\n",
    "    \n",
    "    def acelerar(self):\n",
    "        print(\"O avião está a acelerar!\")\n",
    "        \n",
    "    def frear(self):\n",
    "        print(\"O avião está a frear!\")\n",
    "        \n",
    "    def decolar(self):\n",
    "        print(\"O avião está a decolar!\")"
   ]
  },
  {
   "cell_type": "code",
   "execution_count": 27,
   "id": "20c66bb7",
   "metadata": {},
   "outputs": [],
   "source": [
    "lista_veiculos = [Carro(\"Porche\", \"911 Turbo\"), Moto(\"Honda\", \"CB 1000R Black Edition\"), Aviao(\"Boeing\", \"757\")]"
   ]
  },
  {
   "cell_type": "code",
   "execution_count": 32,
   "id": "cca28918",
   "metadata": {},
   "outputs": [
    {
     "data": {
      "text/plain": [
       "list"
      ]
     },
     "execution_count": 32,
     "metadata": {},
     "output_type": "execute_result"
    }
   ],
   "source": [
    "type(lista_veiculos)"
   ]
  },
  {
   "cell_type": "code",
   "execution_count": 33,
   "id": "1875aa88",
   "metadata": {},
   "outputs": [
    {
     "name": "stdout",
     "output_type": "stream",
     "text": [
      "O carro está a acelerar!\n",
      "O carro está a frear!\n",
      "-------\n",
      "A moto está a acelerar!\n",
      "A moto está a frear!\n",
      "-------\n",
      "O avião está a acelerar!\n",
      "O avião está a frear!\n",
      "O avião está a decolar!\n",
      "-------\n"
     ]
    }
   ],
   "source": [
    "# Loop\n",
    "for item in lista_veiculos:\n",
    "    \n",
    "    item.acelerar()\n",
    "    \n",
    "    item.frear()\n",
    "    \n",
    "    if isinstance(item, Aviao):\n",
    "        item.decolar()\n",
    "    \n",
    "    print(\"-------\")"
   ]
  },
  {
   "cell_type": "code",
   "execution_count": 48,
   "id": "3e2270fa",
   "metadata": {},
   "outputs": [
    {
     "name": "stdout",
     "output_type": "stream",
     "text": [
      "<__main__.Carro object at 0x000001F795914AF0>\n",
      "Porche\n",
      "911 Turbo\n"
     ]
    }
   ],
   "source": [
    "print(lista_veiculos[0])\n",
    "print(lista_veiculos[0].marca)\n",
    "print(lista_veiculos[0].modelo)"
   ]
  },
  {
   "cell_type": "code",
   "execution_count": 49,
   "id": "0e9a3c40",
   "metadata": {},
   "outputs": [
    {
     "name": "stdout",
     "output_type": "stream",
     "text": [
      "<__main__.Moto object at 0x000001F7959149D0>\n",
      "Honda\n",
      "CB 1000R Black Edition\n"
     ]
    }
   ],
   "source": [
    "print(lista_veiculos[1])\n",
    "print(lista_veiculos[1].marca)\n",
    "print(lista_veiculos[1].modelo)"
   ]
  },
  {
   "cell_type": "code",
   "execution_count": 52,
   "id": "eb508559",
   "metadata": {},
   "outputs": [
    {
     "name": "stdout",
     "output_type": "stream",
     "text": [
      "<__main__.Aviao object at 0x000001F7959141F0>\n",
      "Boeing\n",
      "757\n"
     ]
    }
   ],
   "source": [
    "print(lista_veiculos[2])\n",
    "print(lista_veiculos[2].marca)\n",
    "print(lista_veiculos[2].modelo)"
   ]
  },
  {
   "cell_type": "code",
   "execution_count": null,
   "id": "013c7a54",
   "metadata": {},
   "outputs": [],
   "source": []
  },
  {
   "cell_type": "code",
   "execution_count": null,
   "id": "b3f94a9d",
   "metadata": {},
   "outputs": [],
   "source": []
  }
 ],
 "metadata": {
  "kernelspec": {
   "display_name": "Python 3 (ipykernel)",
   "language": "python",
   "name": "python3"
  },
  "language_info": {
   "codemirror_mode": {
    "name": "ipython",
    "version": 3
   },
   "file_extension": ".py",
   "mimetype": "text/x-python",
   "name": "python",
   "nbconvert_exporter": "python",
   "pygments_lexer": "ipython3",
   "version": "3.11.6"
  }
 },
 "nbformat": 4,
 "nbformat_minor": 5
}
