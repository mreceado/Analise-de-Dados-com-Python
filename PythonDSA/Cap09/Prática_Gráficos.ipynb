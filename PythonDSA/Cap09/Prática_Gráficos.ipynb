{
 "cells": [
  {
   "cell_type": "markdown",
   "id": "e4d8d027",
   "metadata": {},
   "source": [
    "### Prática Função loadtxt()\n",
    "\n",
    "A função numpy.loadtxt() carrega dados de um ficheiro de texto e fornece uma abordagem rápida para ficheiros de texto simples."
   ]
  },
  {
   "cell_type": "code",
   "execution_count": 1,
   "id": "2d3d3f3b",
   "metadata": {},
   "outputs": [],
   "source": [
    "import numpy as np\n",
    "from io import StringIO"
   ]
  },
  {
   "cell_type": "code",
   "execution_count": 2,
   "id": "1349ba13",
   "metadata": {},
   "outputs": [],
   "source": [
    "f = StringIO(\"3 6 8 \\n12 9 1 \\n2 3 4\")"
   ]
  },
  {
   "cell_type": "code",
   "execution_count": 3,
   "id": "0adc7552",
   "metadata": {},
   "outputs": [],
   "source": [
    "a = np.loadtxt(f)"
   ]
  },
  {
   "cell_type": "code",
   "execution_count": 4,
   "id": "e85c13d7",
   "metadata": {},
   "outputs": [
    {
     "name": "stdout",
     "output_type": "stream",
     "text": [
      "[[ 3.  6.  8.]\n",
      " [12.  9.  1.]\n",
      " [ 2.  3.  4.]]\n"
     ]
    }
   ],
   "source": [
    "# A função loadtxt por defeito apresenta o conteudo como sendo float \n",
    "print(a)"
   ]
  },
  {
   "cell_type": "code",
   "execution_count": 5,
   "id": "5fcefdec",
   "metadata": {},
   "outputs": [],
   "source": [
    "# Converte float para inteiros\n",
    "b = np.array(a, dtype = \"int64\")"
   ]
  },
  {
   "cell_type": "code",
   "execution_count": 6,
   "id": "ca419c1f",
   "metadata": {},
   "outputs": [
    {
     "name": "stdout",
     "output_type": "stream",
     "text": [
      "[[ 3  6  8]\n",
      " [12  9  1]\n",
      " [ 2  3  4]]\n"
     ]
    }
   ],
   "source": [
    "print(b)"
   ]
  },
  {
   "cell_type": "code",
   "execution_count": 7,
   "id": "438846e4",
   "metadata": {},
   "outputs": [],
   "source": [
    "#g = [[\"Fruta, Laranja\", \"Legume, Tomate\"], [\"Hortaliça, Batata\", \"Verdura, Couve\"]]\n",
    "g = [[1, 2], [3, 4]]"
   ]
  },
  {
   "cell_type": "code",
   "execution_count": 8,
   "id": "9df8fd8c",
   "metadata": {},
   "outputs": [
    {
     "name": "stdout",
     "output_type": "stream",
     "text": [
      "[[1, 2], [3, 4]]\n"
     ]
    }
   ],
   "source": [
    "print(g)"
   ]
  },
  {
   "cell_type": "code",
   "execution_count": 9,
   "id": "1a1cb963",
   "metadata": {},
   "outputs": [],
   "source": [
    "j = np.matrix(g) "
   ]
  },
  {
   "cell_type": "code",
   "execution_count": 10,
   "id": "c514ceb7",
   "metadata": {},
   "outputs": [
    {
     "name": "stdout",
     "output_type": "stream",
     "text": [
      "[[1 2]\n",
      " [3 4]]\n"
     ]
    }
   ],
   "source": [
    "print(j)"
   ]
  },
  {
   "cell_type": "code",
   "execution_count": 11,
   "id": "5d666ac3",
   "metadata": {},
   "outputs": [
    {
     "name": "stdout",
     "output_type": "stream",
     "text": [
      "[[ 3  6  8]\n",
      " [12  9  1]\n",
      " [ 2  3  4]]\n"
     ]
    }
   ],
   "source": [
    "f = StringIO(\"3, 6, 8 \\n12, 9, 1 \\n 2, 3, 4\")\n",
    "a = np.loadtxt(f,dtype=\"int\", delimiter = \",\")\n",
    "\n",
    "print(a)"
   ]
  },
  {
   "cell_type": "code",
   "execution_count": 12,
   "id": "8ddd1dea",
   "metadata": {},
   "outputs": [],
   "source": [
    "f = StringIO(\"3 6 8 \\n7 9 1 \\n2 3 4\")\n",
    "(x,y,z) = np.loadtxt(f, dtype = \"int\", unpack = True)"
   ]
  },
  {
   "cell_type": "code",
   "execution_count": 13,
   "id": "6b58a082",
   "metadata": {},
   "outputs": [
    {
     "name": "stdout",
     "output_type": "stream",
     "text": [
      "[3 7 2]\n",
      "[6 9 3]\n",
      "[8 1 4]\n"
     ]
    }
   ],
   "source": [
    "print(x)\n",
    "print(y)\n",
    "print(z)\n"
   ]
  },
  {
   "cell_type": "code",
   "execution_count": 14,
   "id": "2c423d8a",
   "metadata": {},
   "outputs": [
    {
     "name": "stdout",
     "output_type": "stream",
     "text": [
      "[[ 3  6]\n",
      " [12  9]\n",
      " [ 2  3]]\n"
     ]
    }
   ],
   "source": [
    "# Imprimir a coluna 0 e 1 com o uso do delimiter\n",
    "f = StringIO(\"3, 6, 8 \\n12, 9, 1 \\n 2, 3, 4\")\n",
    "a = np.loadtxt(f,dtype=\"int\", usecols = (0,1), delimiter = \",\")\n",
    "\n",
    "print(a)"
   ]
  },
  {
   "cell_type": "code",
   "execution_count": 15,
   "id": "1ad5d847",
   "metadata": {},
   "outputs": [
    {
     "name": "stdout",
     "output_type": "stream",
     "text": [
      "[[ 3  6  8]\n",
      " [12  9  1]\n",
      " [ 2  3  4]]\n"
     ]
    }
   ],
   "source": [
    "\n",
    "f = StringIO(\"3 6 8 \\n12 9 1 \\n 2 3 4\")\n",
    "a = np.loadtxt(f,dtype=\"int\", skiprows = 0)\n",
    "\n",
    "print(a)"
   ]
  },
  {
   "cell_type": "code",
   "execution_count": 16,
   "id": "1fa7226e",
   "metadata": {},
   "outputs": [
    {
     "name": "stdout",
     "output_type": "stream",
     "text": [
      "[[9 1]\n",
      " [3 4]]\n"
     ]
    }
   ],
   "source": [
    "f = StringIO(\"3 6 8 \\n12 9 1 \\n 2 3 4\")\n",
    "b = np.loadtxt(f, dtype = \"int\", usecols = (1,2), skiprows = 1)\n",
    "\n",
    "print(b)"
   ]
  },
  {
   "cell_type": "code",
   "execution_count": 20,
   "id": "16bf88b6",
   "metadata": {},
   "outputs": [
    {
     "name": "stdout",
     "output_type": "stream",
     "text": [
      "[2 3 4]\n"
     ]
    }
   ],
   "source": [
    "f = StringIO(\"3 6 8 \\n12 9 1 \\n 2 3 4\")\n",
    "c = np.loadtxt(f, dtype = \"int\", skiprows = 2)\n",
    "\n",
    "print(c)"
   ]
  },
  {
   "cell_type": "markdown",
   "id": "154d20de",
   "metadata": {},
   "source": [
    "### Matplotlib 2D"
   ]
  },
  {
   "cell_type": "markdown",
   "id": "a0e7f5b9",
   "metadata": {},
   "source": [
    "#### Visualização de dados com PyPlot\n",
    "\n",
    "O PyPlot é um módulo do matplotlib para criação de gráficos. Para utilizá-lo é necessário fazer a importação:"
   ]
  },
  {
   "cell_type": "code",
   "execution_count": 21,
   "id": "cd6c6156",
   "metadata": {},
   "outputs": [
    {
     "ename": "ModuleNotFoundError",
     "evalue": "No module named 'matplotlib'",
     "output_type": "error",
     "traceback": [
      "\u001b[1;31m---------------------------------------------------------------------------\u001b[0m",
      "\u001b[1;31mModuleNotFoundError\u001b[0m                       Traceback (most recent call last)",
      "Cell \u001b[1;32mIn[21], line 1\u001b[0m\n\u001b[1;32m----> 1\u001b[0m \u001b[38;5;28;01mimport\u001b[39;00m \u001b[38;5;21;01mmatplotlib\u001b[39;00m\u001b[38;5;21;01m.\u001b[39;00m\u001b[38;5;21;01mpyplot\u001b[39;00m \u001b[38;5;28;01mas\u001b[39;00m \u001b[38;5;21;01mplt\u001b[39;00m\n",
      "\u001b[1;31mModuleNotFoundError\u001b[0m: No module named 'matplotlib'"
     ]
    }
   ],
   "source": [
    "import matplotlib.pyplot as plt"
   ]
  },
  {
   "cell_type": "code",
   "execution_count": 22,
   "id": "fb542c7e",
   "metadata": {},
   "outputs": [
    {
     "ename": "NameError",
     "evalue": "name 'plt' is not defined",
     "output_type": "error",
     "traceback": [
      "\u001b[1;31m---------------------------------------------------------------------------\u001b[0m",
      "\u001b[1;31mNameError\u001b[0m                                 Traceback (most recent call last)",
      "Cell \u001b[1;32mIn[22], line 2\u001b[0m\n\u001b[0;32m      1\u001b[0m \u001b[38;5;66;03m# Criando um gráfico\u001b[39;00m\n\u001b[1;32m----> 2\u001b[0m \u001b[43mplt\u001b[49m\u001b[38;5;241m.\u001b[39mplot([\u001b[38;5;241m1\u001b[39m,\u001b[38;5;241m3\u001b[39m,\u001b[38;5;241m5\u001b[39m], [\u001b[38;5;241m2\u001b[39m,\u001b[38;5;241m5\u001b[39m,\u001b[38;5;241m7\u001b[39m])\n\u001b[0;32m      3\u001b[0m plt\u001b[38;5;241m.\u001b[39mshow()\n",
      "\u001b[1;31mNameError\u001b[0m: name 'plt' is not defined"
     ]
    }
   ],
   "source": [
    "# Criando um gráfico\n",
    "plt.plot([1,3,5], [2,5,7])\n",
    "plt.show()"
   ]
  },
  {
   "cell_type": "code",
   "execution_count": null,
   "id": "a1b28d9c",
   "metadata": {},
   "outputs": [],
   "source": [
    "# Definindo variáveis\n",
    "x = [1,3,5]\n",
    "y = [1,2,5]\n",
    "\n",
    "# Criando um gráfico\n",
    "plt.plot(x,y)\n",
    "\n",
    "# Atribuindo um título ao gráfico\n",
    "plt.title('Exemplo utilizando Plot')\n",
    "plt.xlabel('Variável 1')\n",
    "plt.ylabel('Variável 2')\n",
    "\n",
    "# Atribuindo uma legenda\n",
    "plt.plot(x, y, label = 'Uma legenda')\n",
    "plt.legend()\n",
    "\n",
    "# Exibindo o gráfico gerado\n",
    "plt.show()"
   ]
  },
  {
   "cell_type": "markdown",
   "id": "51859b04",
   "metadata": {},
   "source": [
    "#### Gráfico de Barras"
   ]
  },
  {
   "cell_type": "code",
   "execution_count": null,
   "id": "3e39525f",
   "metadata": {},
   "outputs": [],
   "source": [
    "# Definindo as variáveis\n",
    "x = [2, 4, 6, 8, 10]\n",
    "y = [6, 7, 8, 2, 4]\n",
    "\n",
    "x2 = [1, 3, 5, 7, 9]\n",
    "y2 = [7, 8, 2, 4, 2]\n",
    "\n",
    "plt.bar(x, y, label = 'Barrar1', color = 'r')\n",
    "plt.bar(x2, y2, label = 'Barrar2', color = 'y')\n",
    "\n",
    "plt.legend()\n",
    "\n",
    "plt.show()"
   ]
  },
  {
   "cell_type": "markdown",
   "id": "044cd4ae",
   "metadata": {},
   "source": [
    "#### Pie Chart"
   ]
  },
  {
   "cell_type": "code",
   "execution_count": null,
   "id": "e12c5917",
   "metadata": {},
   "outputs": [],
   "source": [
    "# Definindo as variáveis\n",
    "fatias = [6, 4, 8]\n",
    "actividades = ['X', 'Y', 'Z']\n",
    "colunas = ['r', 'm', 'y']\n",
    "\n",
    "# Criando um gráfico\n",
    "plt.pie(fatias, labels = actividades, colors = colunas, startangle=90, shadow = True, explode = (0.1, 0, 0))\n",
    "plt.show()"
   ]
  },
  {
   "cell_type": "markdown",
   "id": "824373ad",
   "metadata": {},
   "source": [
    "#### Scatterplot"
   ]
  },
  {
   "cell_type": "code",
   "execution_count": null,
   "id": "c78e271e",
   "metadata": {},
   "outputs": [],
   "source": [
    "# Definindo variáveis \n",
    "x = [1, 2, 3, 4, 5, 6, 7, 8]\n",
    "y = [5, 2, 4, 5, 6, 8, 4, 8]\n",
    "\n",
    "# Criando um gráfico\n",
    "plt.scatter(x, y, label = 'Pontos', color = 'c', marker = '*', s = 100)\n",
    "plt.legend()\n",
    "plt.show()"
   ]
  },
  {
   "cell_type": "markdown",
   "id": "39a5d85a",
   "metadata": {},
   "source": [
    "### Como criar gráficos 3D em Python?"
   ]
  },
  {
   "cell_type": "markdown",
   "id": "ef100f29",
   "metadata": {},
   "source": [
    "#### 1. Exemplo Básico Gráfico 3D Wireframe Plot"
   ]
  },
  {
   "cell_type": "code",
   "execution_count": null,
   "id": "966c77ce",
   "metadata": {},
   "outputs": [],
   "source": [
    "from mpl_toolkits import mplot3d\n",
    "import matplotlib.pyplot as plt\n",
    "plt.style.use('seaborn-poster')"
   ]
  },
  {
   "cell_type": "code",
   "execution_count": null,
   "id": "75cdde4b",
   "metadata": {},
   "outputs": [],
   "source": [
    "fig = plt.figure(figsize = (10, 10))\n",
    "ax = plt.axes(projection = '3d')\n",
    "plt.show()"
   ]
  },
  {
   "cell_type": "code",
   "execution_count": null,
   "id": "21077643",
   "metadata": {},
   "outputs": [],
   "source": [
    "%matplotlib notebook"
   ]
  },
  {
   "cell_type": "code",
   "execution_count": null,
   "id": "228069ec",
   "metadata": {},
   "outputs": [],
   "source": [
    "fig = plt.figure(figsize = (8,8))\n",
    "ax = plt.axes(projection = '3d')\n",
    "ax.grid()\n",
    "t = np.arange(0, 10*np.pi, np.pi/50)\n",
    "x = np.sin(t)\n",
    "y = np.cos(t)\n",
    "\n",
    "ax.plot3D(x, y, t)\n",
    "ax.set_title('3D Parametric Plot')\n",
    "\n",
    "# Set axes label\n",
    "ax.set_xlabel('X', labelpad=20)\n",
    "ax.set_ylabel('Y', labelpad=20)\n",
    "ax.set_zlabel('Z', labelpad=20)\n",
    "\n",
    "plt.show()\n"
   ]
  },
  {
   "cell_type": "code",
   "execution_count": null,
   "id": "db552369",
   "metadata": {},
   "outputs": [],
   "source": [
    "print(\"\\n\")"
   ]
  },
  {
   "cell_type": "code",
   "execution_count": null,
   "id": "8d5936ab",
   "metadata": {},
   "outputs": [],
   "source": [
    "# We can turn off the interactive plot using %matplotlib inline\n",
    "%matplotlib inline"
   ]
  },
  {
   "cell_type": "code",
   "execution_count": null,
   "id": "aa2d6666",
   "metadata": {},
   "outputs": [],
   "source": [
    "x = np.random.random(50)\n",
    "y = np.random.random(50)\n",
    "z = np.random.random(50)\n",
    "\n",
    "fig = plt.figure(figsize = (7, 7)) # Definir o tamanho da figura\n",
    "ax = plt.axes(projection='3d') # Definir o tipo de ptojecção\n",
    "ax.grid() \n",
    "\n",
    "ax.scatter(x, y, z, c = 'r', s = 50)\n",
    "ax.set_title('3D Scatter Plot')\n",
    "\n",
    "# Set axes label\n",
    "ax.set_xlabel('X', labelpad=20)\n",
    "ax.set_ylabel('Y', labelpad=20)\n",
    "ax.set_zlabel('Z', labelpad=20)\n",
    "\n",
    "plt.show()"
   ]
  },
  {
   "cell_type": "code",
   "execution_count": null,
   "id": "2a82b02d",
   "metadata": {},
   "outputs": [],
   "source": [
    "x = [1, 2, 3, 4]\n",
    "y = [3, 4, 5]\n",
    "\n",
    "X, Y = np.meshgrid(x,y)"
   ]
  },
  {
   "cell_type": "code",
   "execution_count": null,
   "id": "a7643702",
   "metadata": {},
   "outputs": [],
   "source": [
    "print(X)"
   ]
  },
  {
   "cell_type": "code",
   "execution_count": null,
   "id": "3c43773a",
   "metadata": {},
   "outputs": [],
   "source": [
    "print(Y)"
   ]
  },
  {
   "cell_type": "code",
   "execution_count": null,
   "id": "f4f21aeb",
   "metadata": {},
   "outputs": [],
   "source": [
    "fig = plt.figure(figsize = (12, 10))\n",
    "ax = plt.axes(projection = '3d')\n",
    "\n",
    "x = np.arange(-5, 5.1, 0.2)\n",
    "y = np.arange(-5, 5.1, 0.2)\n",
    "\n",
    "X,Y = np.meshgrid(x,y)\n",
    "Z = np.sin(X)*np.cos(Y)\n",
    "\n",
    "surf = ax.plot_surface(X, Y, Z, cmap = plt.cm.cividis)\n",
    "\n",
    "# Set axes label\n",
    "ax.set_xlabel('x', labelpad=20)\n",
    "ax.set_ylabel('y', labelpad=20)\n",
    "ax.set_zlabel('z', labelpad=20)\n",
    "\n",
    "fig.colorbar(surf, shrink=0.5, aspect=8)\n",
    "\n",
    "plt.show()"
   ]
  },
  {
   "cell_type": "code",
   "execution_count": null,
   "id": "dee5dd1b",
   "metadata": {},
   "outputs": [],
   "source": [
    "fig = plt.figure(figsize = (12,6))\n",
    "\n",
    "ax = fig.add_subplot(1, 2, 1, projection = '3d')\n",
    "ax.plot_wireframe(X,Y,Z)\n",
    "ax.set_title('Wireframe Plot')\n",
    "\n",
    "ax = fig.add_subplot(1, 2, 2, projection = '3d')\n",
    "ax.plot_surface(X,Y,Z)\n",
    "ax.set_title('Surface Plot')\n",
    "\n",
    "plt.tight_layout()\n",
    "\n",
    "plt.show()"
   ]
  },
  {
   "cell_type": "code",
   "execution_count": null,
   "id": "3ed9e0ea",
   "metadata": {},
   "outputs": [],
   "source": []
  }
 ],
 "metadata": {
  "kernelspec": {
   "display_name": "Python 3 (ipykernel)",
   "language": "python",
   "name": "python3"
  },
  "language_info": {
   "codemirror_mode": {
    "name": "ipython",
    "version": 3
   },
   "file_extension": ".py",
   "mimetype": "text/x-python",
   "name": "python",
   "nbconvert_exporter": "python",
   "pygments_lexer": "ipython3",
   "version": "3.11.6"
  }
 },
 "nbformat": 4,
 "nbformat_minor": 5
}
