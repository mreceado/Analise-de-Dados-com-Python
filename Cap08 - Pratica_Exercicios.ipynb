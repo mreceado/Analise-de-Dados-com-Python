{
 "cells": [
  {
   "cell_type": "markdown",
   "id": "21db4789-c616-4518-8d06-00d12603e3d1",
   "metadata": {},
   "source": [
    "## <font color='blue'>Fundamentos de Linguagem Python Para Análise de Dados e Data Science</font>"
   ]
  },
  {
   "cell_type": "markdown",
   "id": "09ab3e1e",
   "metadata": {},
   "source": [
    "### Exercícios"
   ]
  },
  {
   "cell_type": "code",
   "execution_count": 1,
   "id": "a8290c95",
   "metadata": {},
   "outputs": [],
   "source": [
    "# Exercício 1 - Crie um objeto a partir da classe abaixo, chamado roc1, \n",
    "# passando 2 parâmetros e depois faça uma chamada aos atributos e métodos\n",
    "from math import sqrt\n",
    "\n",
    "class Rocket():\n",
    "     \n",
    "    def __init__(self, x=0, y=0):\n",
    "        self.x = x\n",
    "        self.y = y\n",
    "        \n",
    "    def move_rocket(self, x_increment=0, y_increment=1):\n",
    "        self.x += x_increment\n",
    "        self.y += y_increment\n",
    "        \n",
    "    def print_rocket(self):\n",
    "        print(self.x, self.y)"
   ]
  },
  {
   "cell_type": "code",
   "execution_count": 2,
   "id": "3ec95411",
   "metadata": {},
   "outputs": [],
   "source": [
    "roc1 = Rocket(4,6)"
   ]
  },
  {
   "cell_type": "code",
   "execution_count": 3,
   "id": "e9035f5a",
   "metadata": {},
   "outputs": [
    {
     "name": "stdout",
     "output_type": "stream",
     "text": [
      "4 6\n"
     ]
    }
   ],
   "source": [
    "roc1.print_rocket()"
   ]
  },
  {
   "cell_type": "code",
   "execution_count": 4,
   "id": "6fa67e9a",
   "metadata": {},
   "outputs": [],
   "source": [
    "roc1.move_rocket()"
   ]
  },
  {
   "cell_type": "code",
   "execution_count": 5,
   "id": "8e1b88d7",
   "metadata": {},
   "outputs": [
    {
     "name": "stdout",
     "output_type": "stream",
     "text": [
      "4 7\n"
     ]
    }
   ],
   "source": [
    "roc1.print_rocket()"
   ]
  },
  {
   "cell_type": "code",
   "execution_count": 6,
   "id": "c5d17e5f",
   "metadata": {},
   "outputs": [
    {
     "data": {
      "text/plain": [
       "4"
      ]
     },
     "execution_count": 6,
     "metadata": {},
     "output_type": "execute_result"
    }
   ],
   "source": [
    "roc1.x"
   ]
  },
  {
   "cell_type": "code",
   "execution_count": 7,
   "id": "fd60cc21",
   "metadata": {},
   "outputs": [
    {
     "data": {
      "text/plain": [
       "7"
      ]
     },
     "execution_count": 7,
     "metadata": {},
     "output_type": "execute_result"
    }
   ],
   "source": [
    "roc1.y"
   ]
  },
  {
   "cell_type": "code",
   "execution_count": 8,
   "id": "e23e2d8a",
   "metadata": {},
   "outputs": [],
   "source": [
    "# Exercício 2 - Crie uma classe chamada Pessoa() com os atributos: nome, cidade, telefone e e-mail. Use pelo menos 2\n",
    "# métodos especiais na sua classe. Crie um objeto da sua classe e faça uma chamada a pelo menos um dos seus métodos\n",
    "# especiais.\n",
    "\n",
    "# Os dois métodos especiais são: __init__ e __str__\n",
    "\n",
    "class Pessoa():\n",
    "    \n",
    "    # __init__ , o que facilita a instanciação de objetos\n",
    "    def __init__(self, nome, cidade, telefone, email):\n",
    "        self.nome = nome\n",
    "        self.cidade = cidade\n",
    "        self.telefone = telefone\n",
    "        self.email = email\n",
    "        \n",
    "    # __str__ é um método especial, como __init__, usado para retornar uma representação de string de um objeto.\n",
    "    def __str__(self):\n",
    "        return \"A Senhora \" + self.nome + \" vive em \" + self.cidade + \", cujos contactos são: telefone- \" + str(self.telefone) + \" e e-mail- \" + self.email + \".\"\n",
    "\n",
    "    \n",
    "    def imprimir(self):\n",
    "        print(\"Os dados são: \\nNome: %s \\nCidade: %s \\nTelefone: %d \\nEmail: %s.\" % (self.nome, self.cidade, self.telefone, self.email))\n",
    "    "
   ]
  },
  {
   "cell_type": "code",
   "execution_count": 9,
   "id": "27c31595",
   "metadata": {},
   "outputs": [],
   "source": [
    "pessoa1 = Pessoa(\"Maria João\", \"Luanda\", 934565432, \"majo@gmail.com\")"
   ]
  },
  {
   "cell_type": "code",
   "execution_count": 10,
   "id": "efb867f1",
   "metadata": {},
   "outputs": [
    {
     "data": {
      "text/plain": [
       "'A Senhora Maria João vive em Luanda, cujos contactos são: telefone- 934565432 e e-mail- majo@gmail.com.'"
      ]
     },
     "execution_count": 10,
     "metadata": {},
     "output_type": "execute_result"
    }
   ],
   "source": [
    "str(pessoa1)"
   ]
  },
  {
   "cell_type": "code",
   "execution_count": 11,
   "id": "3ef28407",
   "metadata": {},
   "outputs": [
    {
     "name": "stdout",
     "output_type": "stream",
     "text": [
      "Os dados são: \n",
      "Nome: Maria João \n",
      "Cidade: Luanda \n",
      "Telefone: 934565432 \n",
      "Email: majo@gmail.com.\n"
     ]
    }
   ],
   "source": [
    "pessoa1.imprimir()"
   ]
  },
  {
   "cell_type": "code",
   "execution_count": 12,
   "id": "71d51cfe",
   "metadata": {},
   "outputs": [],
   "source": [
    "setattr(pessoa1, \"nome\", \"Roquivalda António\")"
   ]
  },
  {
   "cell_type": "code",
   "execution_count": 13,
   "id": "9e90160a",
   "metadata": {},
   "outputs": [
    {
     "data": {
      "text/plain": [
       "'Roquivalda António'"
      ]
     },
     "execution_count": 13,
     "metadata": {},
     "output_type": "execute_result"
    }
   ],
   "source": [
    "getattr(pessoa1, \"nome\")"
   ]
  },
  {
   "cell_type": "code",
   "execution_count": 14,
   "id": "56a28572",
   "metadata": {},
   "outputs": [
    {
     "data": {
      "text/plain": [
       "'A Senhora Roquivalda António vive em Luanda, cujos contactos são: telefone- 934565432 e e-mail- majo@gmail.com.'"
      ]
     },
     "execution_count": 14,
     "metadata": {},
     "output_type": "execute_result"
    }
   ],
   "source": [
    "str(pessoa1)"
   ]
  },
  {
   "cell_type": "code",
   "execution_count": 15,
   "id": "1c8509f7",
   "metadata": {},
   "outputs": [],
   "source": [
    "setattr(pessoa1, \"cidade\", \"Rio de Janeiro\")"
   ]
  },
  {
   "cell_type": "code",
   "execution_count": 16,
   "id": "27301534",
   "metadata": {},
   "outputs": [
    {
     "data": {
      "text/plain": [
       "'Rio de Janeiro'"
      ]
     },
     "execution_count": 16,
     "metadata": {},
     "output_type": "execute_result"
    }
   ],
   "source": [
    "getattr(pessoa1, \"cidade\")"
   ]
  },
  {
   "cell_type": "code",
   "execution_count": 17,
   "id": "f294de34",
   "metadata": {},
   "outputs": [
    {
     "data": {
      "text/plain": [
       "'A Senhora Roquivalda António vive em Rio de Janeiro, cujos contactos são: telefone- 934565432 e e-mail- majo@gmail.com.'"
      ]
     },
     "execution_count": 17,
     "metadata": {},
     "output_type": "execute_result"
    }
   ],
   "source": [
    "str(pessoa1)"
   ]
  },
  {
   "cell_type": "code",
   "execution_count": 18,
   "id": "965064b0",
   "metadata": {},
   "outputs": [
    {
     "name": "stdout",
     "output_type": "stream",
     "text": [
      "Os dados são: \n",
      "Nome: Roquivalda António \n",
      "Cidade: Rio de Janeiro \n",
      "Telefone: 934565432 \n",
      "Email: majo@gmail.com.\n"
     ]
    }
   ],
   "source": [
    "pessoa1.imprimir()"
   ]
  },
  {
   "cell_type": "code",
   "execution_count": 19,
   "id": "ecc38de9",
   "metadata": {},
   "outputs": [],
   "source": [
    "# Exercício 3 - Crie a classe Smartphone com 2 atributos, tamanho e interface e crie a classe MP3Player com os \n",
    "# atributos capacidade. A classe MP3player deve herdar os atributos da classe Smartphone."
   ]
  },
  {
   "cell_type": "code",
   "execution_count": 20,
   "id": "afa79626",
   "metadata": {},
   "outputs": [],
   "source": [
    "class Smartphone():\n",
    "    \n",
    "    def __init__(self, tamanho, interface):\n",
    "        self.tamanho = tamanho\n",
    "        self.interface = interface\n",
    "        \n",
    "    def setTamanho(self, tamanho):\n",
    "        self.tamanho = tamanho\n",
    "            \n",
    "    def getTamanho(self):\n",
    "        return self.tamanho\n",
    "        \n",
    "    def setInterface(self, interface):\n",
    "        self.interface = interface\n",
    "            \n",
    "    def getInterface(self):\n",
    "        return self.interface"
   ]
  },
  {
   "cell_type": "code",
   "execution_count": 21,
   "id": "7c66cece",
   "metadata": {},
   "outputs": [],
   "source": [
    "class MP3Player(Smartphone):\n",
    "    \n",
    "    def __init__(self, capacidade):\n",
    "        self.capacidade = capacidade\n",
    "                          \n",
    "    def setCapacidade(self, capacidade):\n",
    "        self.capacidade = capacidade\n",
    "        \n",
    "    def getCapacidade(self):\n",
    "        return self.capacidade\n",
    "            \n",
    "    def imprimeDados(self):\n",
    "        print(\"Os Dados do Smartphone são: \")\n",
    "        print(\"\\n-------------\\n\")\n",
    "        print(\"Tamnaho: %s \\nInterface: %s \\nCapacidade: %d GB\" % (self.tamanho, self.interface, self.capacidade))\n",
    "        "
   ]
  },
  {
   "cell_type": "code",
   "execution_count": 22,
   "id": "bf38b7ff",
   "metadata": {},
   "outputs": [],
   "source": [
    "sm = Smartphone(\"4x4\", \"32x32\")"
   ]
  },
  {
   "cell_type": "code",
   "execution_count": 23,
   "id": "fa141b27",
   "metadata": {},
   "outputs": [],
   "source": [
    "mpp = MP3Player(1000)"
   ]
  },
  {
   "cell_type": "code",
   "execution_count": 24,
   "id": "b682e17b",
   "metadata": {},
   "outputs": [
    {
     "name": "stdout",
     "output_type": "stream",
     "text": [
      "32x32 4x4 1000\n"
     ]
    }
   ],
   "source": [
    "print(sm.getInterface(), sm.getTamanho(), mpp.getCapacidade())"
   ]
  },
  {
   "cell_type": "code",
   "execution_count": 25,
   "id": "5a888b79",
   "metadata": {},
   "outputs": [],
   "source": [
    "mpp.setInterface(\"EEE\")"
   ]
  },
  {
   "cell_type": "code",
   "execution_count": 26,
   "id": "d12b5fcc",
   "metadata": {},
   "outputs": [
    {
     "data": {
      "text/plain": [
       "'EEE'"
      ]
     },
     "execution_count": 26,
     "metadata": {},
     "output_type": "execute_result"
    }
   ],
   "source": [
    "mpp.getInterface()"
   ]
  },
  {
   "cell_type": "code",
   "execution_count": 27,
   "id": "cb7ead77",
   "metadata": {},
   "outputs": [
    {
     "data": {
      "text/plain": [
       "'32x32'"
      ]
     },
     "execution_count": 27,
     "metadata": {},
     "output_type": "execute_result"
    }
   ],
   "source": [
    "sm.getInterface()"
   ]
  },
  {
   "cell_type": "code",
   "execution_count": 28,
   "id": "842fd843",
   "metadata": {},
   "outputs": [],
   "source": [
    "mpp.setTamanho(\"100x150\")"
   ]
  },
  {
   "cell_type": "code",
   "execution_count": 29,
   "id": "531f47ea",
   "metadata": {},
   "outputs": [
    {
     "data": {
      "text/plain": [
       "'100x150'"
      ]
     },
     "execution_count": 29,
     "metadata": {},
     "output_type": "execute_result"
    }
   ],
   "source": [
    "mpp.getTamanho()"
   ]
  },
  {
   "cell_type": "code",
   "execution_count": 30,
   "id": "455f7ed4",
   "metadata": {},
   "outputs": [
    {
     "name": "stdout",
     "output_type": "stream",
     "text": [
      "Os Dados do Smartphone são: \n",
      "\n",
      "-------------\n",
      "\n",
      "Tamnaho: 100x150 \n",
      "Interface: EEE \n",
      "Capacidade: 1000 GB\n"
     ]
    }
   ],
   "source": [
    "mpp.imprimeDados()"
   ]
  },
  {
   "cell_type": "markdown",
   "id": "4d7037bd",
   "metadata": {},
   "source": [
    "### Exercício2"
   ]
  },
  {
   "cell_type": "code",
   "execution_count": 31,
   "id": "c6a96e65",
   "metadata": {},
   "outputs": [
    {
     "name": "stdout",
     "output_type": "stream",
     "text": [
      "***** Dados do Telefone *****\n",
      "\n"
     ]
    },
    {
     "name": "stdin",
     "output_type": "stream",
     "text": [
      "Insira o novo tamanho:  100x200\n",
      "Insira a nova interface:  SSS\n",
      "Insira a nova capacidade:  5000\n"
     ]
    }
   ],
   "source": [
    "print(\"***** Dados do Telefone *****\\n\")\n",
    "mpp.setTamanho(input(\"Insira o novo tamanho: \"))\n",
    "mpp.setInterface(input(\"Insira a nova interface: \"))\n",
    "mpp.setCapacidade(int(input(\"Insira a nova capacidade: \")))"
   ]
  },
  {
   "cell_type": "code",
   "execution_count": 32,
   "id": "ca5caabf",
   "metadata": {},
   "outputs": [
    {
     "name": "stdout",
     "output_type": "stream",
     "text": [
      "**** Novos Dados ****\n",
      "\n",
      "Novo Tamanho:  100x200\n",
      "Nova Interface:  SSS\n",
      "Nova Capacidade:  5000\n"
     ]
    }
   ],
   "source": [
    "print(\"**** Novos Dados ****\\n\")\n",
    "print(\"Novo Tamanho: \", mpp.getTamanho() + \"\\nNova Interface: \", mpp.getInterface() + \"\\nNova Capacidade: \", mpp.getCapacidade())"
   ]
  },
  {
   "cell_type": "code",
   "execution_count": 33,
   "id": "1af9626b",
   "metadata": {},
   "outputs": [
    {
     "name": "stdout",
     "output_type": "stream",
     "text": [
      "Os Dados do Smartphone são: \n",
      "\n",
      "-------------\n",
      "\n",
      "Tamnaho: 100x200 \n",
      "Interface: SSS \n",
      "Capacidade: 5000 GB\n"
     ]
    }
   ],
   "source": [
    "mpp.imprimeDados()"
   ]
  },
  {
   "cell_type": "code",
   "execution_count": null,
   "id": "5f5c6a93",
   "metadata": {},
   "outputs": [],
   "source": []
  }
 ],
 "metadata": {
  "kernelspec": {
   "display_name": "Python 3 (ipykernel)",
   "language": "python",
   "name": "python3"
  },
  "language_info": {
   "codemirror_mode": {
    "name": "ipython",
    "version": 3
   },
   "file_extension": ".py",
   "mimetype": "text/x-python",
   "name": "python",
   "nbconvert_exporter": "python",
   "pygments_lexer": "ipython3",
   "version": "3.11.6"
  }
 },
 "nbformat": 4,
 "nbformat_minor": 5
}
