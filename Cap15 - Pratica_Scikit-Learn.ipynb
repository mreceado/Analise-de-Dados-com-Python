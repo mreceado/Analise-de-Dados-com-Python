{
 "cells": [
  {
   "cell_type": "markdown",
   "id": "b0848c54-226e-4bd1-98b1-ed6402055fb8",
   "metadata": {},
   "source": [
    "## <font color='blue'>Fundamentos de Linguagem Python Para Análise de Dados e Data Science</font>"
   ]
  },
  {
   "cell_type": "markdown",
   "id": "48c7642f",
   "metadata": {},
   "source": [
    "### Machine Learning com Scikit-Learn\n",
    "\n",
    "Problema de Negócio:\n",
    "\n",
    "Usando dados históricos é possível prever o salário de alguém com base no tempo dedicado aos estudos em horas por mês?"
   ]
  },
  {
   "cell_type": "code",
   "execution_count": 1,
   "id": "2de131bb",
   "metadata": {},
   "outputs": [],
   "source": [
    "import numpy as np\n",
    "import pandas as pd\n",
    "import matplotlib.pyplot as plt\n",
    "import seaborn as sns\n",
    "from sklearn.linear_model import LinearRegression\n",
    "from sklearn.model_selection import train_test_split  # para testar o modelo antes de fazer o deploy"
   ]
  },
  {
   "cell_type": "markdown",
   "id": "623ae942",
   "metadata": {},
   "source": [
    "### Carregando os Dados"
   ]
  },
  {
   "cell_type": "code",
   "execution_count": 2,
   "id": "dee61671",
   "metadata": {},
   "outputs": [],
   "source": [
    "# Carrega o dataset\n",
    "df_dsa = pd.read_csv('dataset.csv')"
   ]
  },
  {
   "cell_type": "code",
   "execution_count": 3,
   "id": "c44fc642",
   "metadata": {},
   "outputs": [
    {
     "data": {
      "text/plain": [
       "(500, 2)"
      ]
     },
     "execution_count": 3,
     "metadata": {},
     "output_type": "execute_result"
    }
   ],
   "source": [
    "df_dsa.shape"
   ]
  },
  {
   "cell_type": "code",
   "execution_count": 4,
   "id": "bea72574",
   "metadata": {},
   "outputs": [
    {
     "data": {
      "text/plain": [
       "Index(['horas_estudo_mes', 'salario'], dtype='object')"
      ]
     },
     "execution_count": 4,
     "metadata": {},
     "output_type": "execute_result"
    }
   ],
   "source": [
    "df_dsa.columns"
   ]
  },
  {
   "cell_type": "code",
   "execution_count": 5,
   "id": "660e4db0",
   "metadata": {},
   "outputs": [
    {
     "data": {
      "text/html": [
       "<div>\n",
       "<style scoped>\n",
       "    .dataframe tbody tr th:only-of-type {\n",
       "        vertical-align: middle;\n",
       "    }\n",
       "\n",
       "    .dataframe tbody tr th {\n",
       "        vertical-align: top;\n",
       "    }\n",
       "\n",
       "    .dataframe thead th {\n",
       "        text-align: right;\n",
       "    }\n",
       "</style>\n",
       "<table border=\"1\" class=\"dataframe\">\n",
       "  <thead>\n",
       "    <tr style=\"text-align: right;\">\n",
       "      <th></th>\n",
       "      <th>horas_estudo_mes</th>\n",
       "      <th>salario</th>\n",
       "    </tr>\n",
       "  </thead>\n",
       "  <tbody>\n",
       "    <tr>\n",
       "      <th>0</th>\n",
       "      <td>57.0</td>\n",
       "      <td>6813.0</td>\n",
       "    </tr>\n",
       "    <tr>\n",
       "      <th>1</th>\n",
       "      <td>48.0</td>\n",
       "      <td>6855.0</td>\n",
       "    </tr>\n",
       "    <tr>\n",
       "      <th>2</th>\n",
       "      <td>60.0</td>\n",
       "      <td>5801.0</td>\n",
       "    </tr>\n",
       "    <tr>\n",
       "      <th>3</th>\n",
       "      <td>73.0</td>\n",
       "      <td>7431.0</td>\n",
       "    </tr>\n",
       "    <tr>\n",
       "      <th>4</th>\n",
       "      <td>46.0</td>\n",
       "      <td>5475.0</td>\n",
       "    </tr>\n",
       "  </tbody>\n",
       "</table>\n",
       "</div>"
      ],
      "text/plain": [
       "   horas_estudo_mes  salario\n",
       "0              57.0   6813.0\n",
       "1              48.0   6855.0\n",
       "2              60.0   5801.0\n",
       "3              73.0   7431.0\n",
       "4              46.0   5475.0"
      ]
     },
     "execution_count": 5,
     "metadata": {},
     "output_type": "execute_result"
    }
   ],
   "source": [
    "df_dsa.head()"
   ]
  },
  {
   "cell_type": "code",
   "execution_count": 6,
   "id": "9716a73b",
   "metadata": {},
   "outputs": [
    {
     "name": "stdout",
     "output_type": "stream",
     "text": [
      "<class 'pandas.core.frame.DataFrame'>\n",
      "RangeIndex: 500 entries, 0 to 499\n",
      "Data columns (total 2 columns):\n",
      " #   Column            Non-Null Count  Dtype  \n",
      "---  ------            --------------  -----  \n",
      " 0   horas_estudo_mes  500 non-null    float64\n",
      " 1   salario           500 non-null    float64\n",
      "dtypes: float64(2)\n",
      "memory usage: 7.9 KB\n"
     ]
    }
   ],
   "source": [
    "df_dsa.info()"
   ]
  },
  {
   "cell_type": "code",
   "execution_count": 7,
   "id": "7ef6d9db",
   "metadata": {},
   "outputs": [
    {
     "data": {
      "text/plain": [
       "horas_estudo_mes    0\n",
       "salario             0\n",
       "dtype: int64"
      ]
     },
     "execution_count": 7,
     "metadata": {},
     "output_type": "execute_result"
    }
   ],
   "source": [
    "# Análise Exploratória\n",
    "# 1. Verifica se há valores ausentes\n",
    "df_dsa.isnull().sum()"
   ]
  },
  {
   "cell_type": "code",
   "execution_count": 8,
   "id": "d0df5f9b",
   "metadata": {},
   "outputs": [
    {
     "data": {
      "text/html": [
       "<div>\n",
       "<style scoped>\n",
       "    .dataframe tbody tr th:only-of-type {\n",
       "        vertical-align: middle;\n",
       "    }\n",
       "\n",
       "    .dataframe tbody tr th {\n",
       "        vertical-align: top;\n",
       "    }\n",
       "\n",
       "    .dataframe thead th {\n",
       "        text-align: right;\n",
       "    }\n",
       "</style>\n",
       "<table border=\"1\" class=\"dataframe\">\n",
       "  <thead>\n",
       "    <tr style=\"text-align: right;\">\n",
       "      <th></th>\n",
       "      <th>horas_estudo_mes</th>\n",
       "      <th>salario</th>\n",
       "    </tr>\n",
       "  </thead>\n",
       "  <tbody>\n",
       "    <tr>\n",
       "      <th>horas_estudo_mes</th>\n",
       "      <td>1.000000</td>\n",
       "      <td>0.818576</td>\n",
       "    </tr>\n",
       "    <tr>\n",
       "      <th>salario</th>\n",
       "      <td>0.818576</td>\n",
       "      <td>1.000000</td>\n",
       "    </tr>\n",
       "  </tbody>\n",
       "</table>\n",
       "</div>"
      ],
      "text/plain": [
       "                  horas_estudo_mes   salario\n",
       "horas_estudo_mes          1.000000  0.818576\n",
       "salario                   0.818576  1.000000"
      ]
     },
     "execution_count": 8,
     "metadata": {},
     "output_type": "execute_result"
    }
   ],
   "source": [
    "# 2. Verifica a correlação entre as variáveis\n",
    "df_dsa.corr()"
   ]
  },
  {
   "cell_type": "code",
   "execution_count": 9,
   "id": "a18e0354",
   "metadata": {},
   "outputs": [
    {
     "data": {
      "text/html": [
       "<div>\n",
       "<style scoped>\n",
       "    .dataframe tbody tr th:only-of-type {\n",
       "        vertical-align: middle;\n",
       "    }\n",
       "\n",
       "    .dataframe tbody tr th {\n",
       "        vertical-align: top;\n",
       "    }\n",
       "\n",
       "    .dataframe thead th {\n",
       "        text-align: right;\n",
       "    }\n",
       "</style>\n",
       "<table border=\"1\" class=\"dataframe\">\n",
       "  <thead>\n",
       "    <tr style=\"text-align: right;\">\n",
       "      <th></th>\n",
       "      <th>horas_estudo_mes</th>\n",
       "      <th>salario</th>\n",
       "    </tr>\n",
       "  </thead>\n",
       "  <tbody>\n",
       "    <tr>\n",
       "      <th>count</th>\n",
       "      <td>500.000000</td>\n",
       "      <td>500.000000</td>\n",
       "    </tr>\n",
       "    <tr>\n",
       "      <th>mean</th>\n",
       "      <td>50.060000</td>\n",
       "      <td>6018.930000</td>\n",
       "    </tr>\n",
       "    <tr>\n",
       "      <th>std</th>\n",
       "      <td>14.659406</td>\n",
       "      <td>848.697853</td>\n",
       "    </tr>\n",
       "    <tr>\n",
       "      <th>min</th>\n",
       "      <td>1.000000</td>\n",
       "      <td>3664.000000</td>\n",
       "    </tr>\n",
       "    <tr>\n",
       "      <th>25%</th>\n",
       "      <td>39.750000</td>\n",
       "      <td>5473.000000</td>\n",
       "    </tr>\n",
       "    <tr>\n",
       "      <th>50%</th>\n",
       "      <td>50.000000</td>\n",
       "      <td>6013.500000</td>\n",
       "    </tr>\n",
       "    <tr>\n",
       "      <th>75%</th>\n",
       "      <td>60.000000</td>\n",
       "      <td>6542.000000</td>\n",
       "    </tr>\n",
       "    <tr>\n",
       "      <th>max</th>\n",
       "      <td>100.000000</td>\n",
       "      <td>9348.000000</td>\n",
       "    </tr>\n",
       "  </tbody>\n",
       "</table>\n",
       "</div>"
      ],
      "text/plain": [
       "       horas_estudo_mes      salario\n",
       "count        500.000000   500.000000\n",
       "mean          50.060000  6018.930000\n",
       "std           14.659406   848.697853\n",
       "min            1.000000  3664.000000\n",
       "25%           39.750000  5473.000000\n",
       "50%           50.000000  6013.500000\n",
       "75%           60.000000  6542.000000\n",
       "max          100.000000  9348.000000"
      ]
     },
     "execution_count": 9,
     "metadata": {},
     "output_type": "execute_result"
    }
   ],
   "source": [
    "# 3. Verifica o describe das colunas numéricas\n",
    "df_dsa.describe()"
   ]
  },
  {
   "cell_type": "code",
   "execution_count": 11,
   "id": "da83ecdc",
   "metadata": {},
   "outputs": [
    {
     "data": {
      "text/plain": [
       "count     500.000000\n",
       "mean     6018.930000\n",
       "std       848.697853\n",
       "min      3664.000000\n",
       "25%      5473.000000\n",
       "50%      6013.500000\n",
       "75%      6542.000000\n",
       "max      9348.000000\n",
       "Name: salario, dtype: float64"
      ]
     },
     "execution_count": 11,
     "metadata": {},
     "output_type": "execute_result"
    }
   ],
   "source": [
    "# 4. Verifica o describe da variável preditora\n",
    "df_dsa['salario'].describe()"
   ]
  },
  {
   "cell_type": "code",
   "execution_count": 13,
   "id": "25895ac3",
   "metadata": {},
   "outputs": [
    {
     "data": {
      "text/plain": [
       "<Axes: xlabel='horas_estudo_mes', ylabel='Count'>"
      ]
     },
     "execution_count": 13,
     "metadata": {},
     "output_type": "execute_result"
    },
    {
     "data": {
      "image/png": "[encoded data removed]",
      "text/plain": [
       "<Figure size 640x480 with 1 Axes>"
      ]
     },
     "metadata": {},
     "output_type": "display_data"
    }
   ],
   "source": [
    "# histograma da variável preditora (independente)\n",
    "sns.histplot(data = df_dsa, x = 'horas_estudo_mes', kde = True)"
   ]
  },
  {
   "cell_type": "markdown",
   "id": "4f100596",
   "metadata": {},
   "source": [
    "### Preparação dos Dados"
   ]
  },
  {
   "cell_type": "code",
   "execution_count": 18,
   "id": "02820295",
   "metadata": {},
   "outputs": [],
   "source": [
    "# Prepara a variável de entrada X\n",
    "# Convertemos os dados de entrada em um array e gravamos em X, porque o algorítmo de regressão linear do sklearn espera receber \n",
    "# os dados de entrada no formato de matriz, ou seja, array numpy. \n",
    "\n",
    "X = np.array(df_dsa['horas_estudo_mes'])"
   ]
  },
  {
   "cell_type": "code",
   "execution_count": 19,
   "id": "a1e18b09",
   "metadata": {},
   "outputs": [
    {
     "data": {
      "text/plain": [
       "numpy.ndarray"
      ]
     },
     "execution_count": 19,
     "metadata": {},
     "output_type": "execute_result"
    }
   ],
   "source": [
    "type(X)"
   ]
  },
  {
   "cell_type": "code",
   "execution_count": 20,
   "id": "0d669bdb",
   "metadata": {},
   "outputs": [
    {
     "data": {
      "text/plain": [
       "(500,)"
      ]
     },
     "execution_count": 20,
     "metadata": {},
     "output_type": "execute_result"
    }
   ],
   "source": [
    "X.shape"
   ]
  },
  {
   "cell_type": "code",
   "execution_count": 33,
   "id": "5841264c",
   "metadata": {},
   "outputs": [
    {
     "name": "stdout",
     "output_type": "stream",
     "text": [
      "[ 57.  48.  60.  73.  46.  46.  74.  62.  43.  58.  43.  43.  54.  21.\n",
      "  24.  42.  35.  55.  36.  29.  72.  47.  51.  29.  42.  52.  33.  56.\n",
      "  41.  46.  41.  78.  50.  34.  62.  32.  53.  21.  30.  53.  61.  53.\n",
      "  48.  45.  28.  39.  43.  66.  55.  24.  55.  44.  40.  59.  65.  64.\n",
      "  37.  45.  55.  65.  43.  47.  33.  32.  62.  70.  49.  65.  55.  40.\n",
      "  55.  73.  49.  73.  11.  62.  51.  46.  51.  20.  47.  55.  72.  42.\n",
      "  38.  42.  64.  55.  42.  58.  51.  65.  39.  45.  44.  28.  54.  54.\n",
      "  50.  46.  29.  44.  45.  38.  48.  56.  78.  53.  54.  49.  21.  50.\n",
      "  51.  87.  47.  55.  49.  32.  67.  61.  62.  36.  71.  29.  59.  83.\n",
      "  35.  42.  51.  42.  27.  51.  34.  57.  36.  73.  38.  45.  62.  32.\n",
      "  53.  70.  26.  53.  54.  62.  31.  30.  58.  54.  54.  55.  40.  53.\n",
      "  54.  39.  78.  57.  32.  60.  35.  62.  67.  38.  64.  56.  62.  78.\n",
      "  46.  39.  37.  38.  49.  55.  54.  62.  50.  72.  46.  91.  59.  37.\n",
      "  34.  57.  47.  61.  57.  49.  37.  27.  43.  63.  53.  31.  53.  56.\n",
      "  37.  52.  51.  33.  55.  58.  66.  66.  29.  36.  58.  58.  58. 100.\n",
      "  59.  67.  64.  60.  45.  61.  38.  46.  43.  51.  85.  22.  60.  26.\n",
      "  43.  66.  51.  34.  39.  60.  39.  53.  51.  40.  82.  60.  20.  53.\n",
      "  40.  63.  38.  48.  58.  63.  32.  45.  43.  40.  76.  56.  31.  64.\n",
      "  82.  65.  27.  43.  69.  39.  57.  62.  36.  49.   1.  35.  46.  31.\n",
      "  74.  29.  43.  52.  72.  28.  67.  50.  35.  57.  53.  41.  51.  44.\n",
      "  52.  60.  74.  31.  82.  21.  48.  59.  54.  41.  47.  43.  41.  63.\n",
      "  55.  40.  63.  55.  62.  59.  38.  42.  61.  59.  50.  52.  69.  41.\n",
      "  58.  47.  47.  66.  62.  62.  70.  50.  60.  45.  55.  48.  51.  59.\n",
      "  38.  81.  35.  32.  67.  62.  59.  59.  50.  37.  51.  40.  65.  48.\n",
      "  38.  45.  56.  42.  38.  54.  54.  42.  43.  53.  28.  29.  39.  47.\n",
      "  55.  72.  63.  48.  50.  35.  50.  46.  55.  38.  58.  73.  48.  56.\n",
      "  60.  44.  53.  50.  51.  38.  50.  57.  72.  64.  82.  38.  63.  53.\n",
      "  83.  38.  37.  41.  18.  42.  39.  52.  55.  78.  64.  41.  37.  57.\n",
      "  30.  77.  68.  43.  24.  70.  48.  69.  26.  41.  50.  51.  43.  59.\n",
      "  34.  48.  52.  58.  61.  33.  27.  69.  55.  39.  73.  52.  68.  51.\n",
      "  81.  76.  46.  65.  60.  71.  36.  60.  66.  24.  32.  19.  46.  61.\n",
      "  73.  51.  74.  29.  24.  49.  56.  50.  19.  49.  30.  60.  55.  36.\n",
      "  42.  34.  49.  64.  35.  58.  42.  38.  48.  34.  42.  32.  79.  51.\n",
      "  40.  53.  48.  47.  59.  61.  42.  41.  46.  15.  27.  71.  75.  46.\n",
      "  59.  55.  96.  67.  48.  36.  26.  53.  39.  29.  40.  34.  75.  63.\n",
      "  50.  72.  51.  37.  73.  58.  34.  47.  37.  29.]\n"
     ]
    }
   ],
   "source": [
    "print(X)"
   ]
  },
  {
   "cell_type": "code",
   "execution_count": 34,
   "id": "e9383379",
   "metadata": {},
   "outputs": [],
   "source": [
    "# Ajusta o shape de X\n",
    "X = X.reshape(-1, 1)"
   ]
  },
  {
   "cell_type": "code",
   "execution_count": 35,
   "id": "0410ab04",
   "metadata": {},
   "outputs": [
    {
     "name": "stdout",
     "output_type": "stream",
     "text": [
      "[[ 57.]\n",
      " [ 48.]\n",
      " [ 60.]\n",
      " [ 73.]\n",
      " [ 46.]\n",
      " [ 46.]\n",
      " [ 74.]\n",
      " [ 62.]\n",
      " [ 43.]\n",
      " [ 58.]\n",
      " [ 43.]\n",
      " [ 43.]\n",
      " [ 54.]\n",
      " [ 21.]\n",
      " [ 24.]\n",
      " [ 42.]\n",
      " [ 35.]\n",
      " [ 55.]\n",
      " [ 36.]\n",
      " [ 29.]\n",
      " [ 72.]\n",
      " [ 47.]\n",
      " [ 51.]\n",
      " [ 29.]\n",
      " [ 42.]\n",
      " [ 52.]\n",
      " [ 33.]\n",
      " [ 56.]\n",
      " [ 41.]\n",
      " [ 46.]\n",
      " [ 41.]\n",
      " [ 78.]\n",
      " [ 50.]\n",
      " [ 34.]\n",
      " [ 62.]\n",
      " [ 32.]\n",
      " [ 53.]\n",
      " [ 21.]\n",
      " [ 30.]\n",
      " [ 53.]\n",
      " [ 61.]\n",
      " [ 53.]\n",
      " [ 48.]\n",
      " [ 45.]\n",
      " [ 28.]\n",
      " [ 39.]\n",
      " [ 43.]\n",
      " [ 66.]\n",
      " [ 55.]\n",
      " [ 24.]\n",
      " [ 55.]\n",
      " [ 44.]\n",
      " [ 40.]\n",
      " [ 59.]\n",
      " [ 65.]\n",
      " [ 64.]\n",
      " [ 37.]\n",
      " [ 45.]\n",
      " [ 55.]\n",
      " [ 65.]\n",
      " [ 43.]\n",
      " [ 47.]\n",
      " [ 33.]\n",
      " [ 32.]\n",
      " [ 62.]\n",
      " [ 70.]\n",
      " [ 49.]\n",
      " [ 65.]\n",
      " [ 55.]\n",
      " [ 40.]\n",
      " [ 55.]\n",
      " [ 73.]\n",
      " [ 49.]\n",
      " [ 73.]\n",
      " [ 11.]\n",
      " [ 62.]\n",
      " [ 51.]\n",
      " [ 46.]\n",
      " [ 51.]\n",
      " [ 20.]\n",
      " [ 47.]\n",
      " [ 55.]\n",
      " [ 72.]\n",
      " [ 42.]\n",
      " [ 38.]\n",
      " [ 42.]\n",
      " [ 64.]\n",
      " [ 55.]\n",
      " [ 42.]\n",
      " [ 58.]\n",
      " [ 51.]\n",
      " [ 65.]\n",
      " [ 39.]\n",
      " [ 45.]\n",
      " [ 44.]\n",
      " [ 28.]\n",
      " [ 54.]\n",
      " [ 54.]\n",
      " [ 50.]\n",
      " [ 46.]\n",
      " [ 29.]\n",
      " [ 44.]\n",
      " [ 45.]\n",
      " [ 38.]\n",
      " [ 48.]\n",
      " [ 56.]\n",
      " [ 78.]\n",
      " [ 53.]\n",
      " [ 54.]\n",
      " [ 49.]\n",
      " [ 21.]\n",
      " [ 50.]\n",
      " [ 51.]\n",
      " [ 87.]\n",
      " [ 47.]\n",
      " [ 55.]\n",
      " [ 49.]\n",
      " [ 32.]\n",
      " [ 67.]\n",
      " [ 61.]\n",
      " [ 62.]\n",
      " [ 36.]\n",
      " [ 71.]\n",
      " [ 29.]\n",
      " [ 59.]\n",
      " [ 83.]\n",
      " [ 35.]\n",
      " [ 42.]\n",
      " [ 51.]\n",
      " [ 42.]\n",
      " [ 27.]\n",
      " [ 51.]\n",
      " [ 34.]\n",
      " [ 57.]\n",
      " [ 36.]\n",
      " [ 73.]\n",
      " [ 38.]\n",
      " [ 45.]\n",
      " [ 62.]\n",
      " [ 32.]\n",
      " [ 53.]\n",
      " [ 70.]\n",
      " [ 26.]\n",
      " [ 53.]\n",
      " [ 54.]\n",
      " [ 62.]\n",
      " [ 31.]\n",
      " [ 30.]\n",
      " [ 58.]\n",
      " [ 54.]\n",
      " [ 54.]\n",
      " [ 55.]\n",
      " [ 40.]\n",
      " [ 53.]\n",
      " [ 54.]\n",
      " [ 39.]\n",
      " [ 78.]\n",
      " [ 57.]\n",
      " [ 32.]\n",
      " [ 60.]\n",
      " [ 35.]\n",
      " [ 62.]\n",
      " [ 67.]\n",
      " [ 38.]\n",
      " [ 64.]\n",
      " [ 56.]\n",
      " [ 62.]\n",
      " [ 78.]\n",
      " [ 46.]\n",
      " [ 39.]\n",
      " [ 37.]\n",
      " [ 38.]\n",
      " [ 49.]\n",
      " [ 55.]\n",
      " [ 54.]\n",
      " [ 62.]\n",
      " [ 50.]\n",
      " [ 72.]\n",
      " [ 46.]\n",
      " [ 91.]\n",
      " [ 59.]\n",
      " [ 37.]\n",
      " [ 34.]\n",
      " [ 57.]\n",
      " [ 47.]\n",
      " [ 61.]\n",
      " [ 57.]\n",
      " [ 49.]\n",
      " [ 37.]\n",
      " [ 27.]\n",
      " [ 43.]\n",
      " [ 63.]\n",
      " [ 53.]\n",
      " [ 31.]\n",
      " [ 53.]\n",
      " [ 56.]\n",
      " [ 37.]\n",
      " [ 52.]\n",
      " [ 51.]\n",
      " [ 33.]\n",
      " [ 55.]\n",
      " [ 58.]\n",
      " [ 66.]\n",
      " [ 66.]\n",
      " [ 29.]\n",
      " [ 36.]\n",
      " [ 58.]\n",
      " [ 58.]\n",
      " [ 58.]\n",
      " [100.]\n",
      " [ 59.]\n",
      " [ 67.]\n",
      " [ 64.]\n",
      " [ 60.]\n",
      " [ 45.]\n",
      " [ 61.]\n",
      " [ 38.]\n",
      " [ 46.]\n",
      " [ 43.]\n",
      " [ 51.]\n",
      " [ 85.]\n",
      " [ 22.]\n",
      " [ 60.]\n",
      " [ 26.]\n",
      " [ 43.]\n",
      " [ 66.]\n",
      " [ 51.]\n",
      " [ 34.]\n",
      " [ 39.]\n",
      " [ 60.]\n",
      " [ 39.]\n",
      " [ 53.]\n",
      " [ 51.]\n",
      " [ 40.]\n",
      " [ 82.]\n",
      " [ 60.]\n",
      " [ 20.]\n",
      " [ 53.]\n",
      " [ 40.]\n",
      " [ 63.]\n",
      " [ 38.]\n",
      " [ 48.]\n",
      " [ 58.]\n",
      " [ 63.]\n",
      " [ 32.]\n",
      " [ 45.]\n",
      " [ 43.]\n",
      " [ 40.]\n",
      " [ 76.]\n",
      " [ 56.]\n",
      " [ 31.]\n",
      " [ 64.]\n",
      " [ 82.]\n",
      " [ 65.]\n",
      " [ 27.]\n",
      " [ 43.]\n",
      " [ 69.]\n",
      " [ 39.]\n",
      " [ 57.]\n",
      " [ 62.]\n",
      " [ 36.]\n",
      " [ 49.]\n",
      " [  1.]\n",
      " [ 35.]\n",
      " [ 46.]\n",
      " [ 31.]\n",
      " [ 74.]\n",
      " [ 29.]\n",
      " [ 43.]\n",
      " [ 52.]\n",
      " [ 72.]\n",
      " [ 28.]\n",
      " [ 67.]\n",
      " [ 50.]\n",
      " [ 35.]\n",
      " [ 57.]\n",
      " [ 53.]\n",
      " [ 41.]\n",
      " [ 51.]\n",
      " [ 44.]\n",
      " [ 52.]\n",
      " [ 60.]\n",
      " [ 74.]\n",
      " [ 31.]\n",
      " [ 82.]\n",
      " [ 21.]\n",
      " [ 48.]\n",
      " [ 59.]\n",
      " [ 54.]\n",
      " [ 41.]\n",
      " [ 47.]\n",
      " [ 43.]\n",
      " [ 41.]\n",
      " [ 63.]\n",
      " [ 55.]\n",
      " [ 40.]\n",
      " [ 63.]\n",
      " [ 55.]\n",
      " [ 62.]\n",
      " [ 59.]\n",
      " [ 38.]\n",
      " [ 42.]\n",
      " [ 61.]\n",
      " [ 59.]\n",
      " [ 50.]\n",
      " [ 52.]\n",
      " [ 69.]\n",
      " [ 41.]\n",
      " [ 58.]\n",
      " [ 47.]\n",
      " [ 47.]\n",
      " [ 66.]\n",
      " [ 62.]\n",
      " [ 62.]\n",
      " [ 70.]\n",
      " [ 50.]\n",
      " [ 60.]\n",
      " [ 45.]\n",
      " [ 55.]\n",
      " [ 48.]\n",
      " [ 51.]\n",
      " [ 59.]\n",
      " [ 38.]\n",
      " [ 81.]\n",
      " [ 35.]\n",
      " [ 32.]\n",
      " [ 67.]\n",
      " [ 62.]\n",
      " [ 59.]\n",
      " [ 59.]\n",
      " [ 50.]\n",
      " [ 37.]\n",
      " [ 51.]\n",
      " [ 40.]\n",
      " [ 65.]\n",
      " [ 48.]\n",
      " [ 38.]\n",
      " [ 45.]\n",
      " [ 56.]\n",
      " [ 42.]\n",
      " [ 38.]\n",
      " [ 54.]\n",
      " [ 54.]\n",
      " [ 42.]\n",
      " [ 43.]\n",
      " [ 53.]\n",
      " [ 28.]\n",
      " [ 29.]\n",
      " [ 39.]\n",
      " [ 47.]\n",
      " [ 55.]\n",
      " [ 72.]\n",
      " [ 63.]\n",
      " [ 48.]\n",
      " [ 50.]\n",
      " [ 35.]\n",
      " [ 50.]\n",
      " [ 46.]\n",
      " [ 55.]\n",
      " [ 38.]\n",
      " [ 58.]\n",
      " [ 73.]\n",
      " [ 48.]\n",
      " [ 56.]\n",
      " [ 60.]\n",
      " [ 44.]\n",
      " [ 53.]\n",
      " [ 50.]\n",
      " [ 51.]\n",
      " [ 38.]\n",
      " [ 50.]\n",
      " [ 57.]\n",
      " [ 72.]\n",
      " [ 64.]\n",
      " [ 82.]\n",
      " [ 38.]\n",
      " [ 63.]\n",
      " [ 53.]\n",
      " [ 83.]\n",
      " [ 38.]\n",
      " [ 37.]\n",
      " [ 41.]\n",
      " [ 18.]\n",
      " [ 42.]\n",
      " [ 39.]\n",
      " [ 52.]\n",
      " [ 55.]\n",
      " [ 78.]\n",
      " [ 64.]\n",
      " [ 41.]\n",
      " [ 37.]\n",
      " [ 57.]\n",
      " [ 30.]\n",
      " [ 77.]\n",
      " [ 68.]\n",
      " [ 43.]\n",
      " [ 24.]\n",
      " [ 70.]\n",
      " [ 48.]\n",
      " [ 69.]\n",
      " [ 26.]\n",
      " [ 41.]\n",
      " [ 50.]\n",
      " [ 51.]\n",
      " [ 43.]\n",
      " [ 59.]\n",
      " [ 34.]\n",
      " [ 48.]\n",
      " [ 52.]\n",
      " [ 58.]\n",
      " [ 61.]\n",
      " [ 33.]\n",
      " [ 27.]\n",
      " [ 69.]\n",
      " [ 55.]\n",
      " [ 39.]\n",
      " [ 73.]\n",
      " [ 52.]\n",
      " [ 68.]\n",
      " [ 51.]\n",
      " [ 81.]\n",
      " [ 76.]\n",
      " [ 46.]\n",
      " [ 65.]\n",
      " [ 60.]\n",
      " [ 71.]\n",
      " [ 36.]\n",
      " [ 60.]\n",
      " [ 66.]\n",
      " [ 24.]\n",
      " [ 32.]\n",
      " [ 19.]\n",
      " [ 46.]\n",
      " [ 61.]\n",
      " [ 73.]\n",
      " [ 51.]\n",
      " [ 74.]\n",
      " [ 29.]\n",
      " [ 24.]\n",
      " [ 49.]\n",
      " [ 56.]\n",
      " [ 50.]\n",
      " [ 19.]\n",
      " [ 49.]\n",
      " [ 30.]\n",
      " [ 60.]\n",
      " [ 55.]\n",
      " [ 36.]\n",
      " [ 42.]\n",
      " [ 34.]\n",
      " [ 49.]\n",
      " [ 64.]\n",
      " [ 35.]\n",
      " [ 58.]\n",
      " [ 42.]\n",
      " [ 38.]\n",
      " [ 48.]\n",
      " [ 34.]\n",
      " [ 42.]\n",
      " [ 32.]\n",
      " [ 79.]\n",
      " [ 51.]\n",
      " [ 40.]\n",
      " [ 53.]\n",
      " [ 48.]\n",
      " [ 47.]\n",
      " [ 59.]\n",
      " [ 61.]\n",
      " [ 42.]\n",
      " [ 41.]\n",
      " [ 46.]\n",
      " [ 15.]\n",
      " [ 27.]\n",
      " [ 71.]\n",
      " [ 75.]\n",
      " [ 46.]\n",
      " [ 59.]\n",
      " [ 55.]\n",
      " [ 96.]\n",
      " [ 67.]\n",
      " [ 48.]\n",
      " [ 36.]\n",
      " [ 26.]\n",
      " [ 53.]\n",
      " [ 39.]\n",
      " [ 29.]\n",
      " [ 40.]\n",
      " [ 34.]\n",
      " [ 75.]\n",
      " [ 63.]\n",
      " [ 50.]\n",
      " [ 72.]\n",
      " [ 51.]\n",
      " [ 37.]\n",
      " [ 73.]\n",
      " [ 58.]\n",
      " [ 34.]\n",
      " [ 47.]\n",
      " [ 37.]\n",
      " [ 29.]]\n"
     ]
    }
   ],
   "source": [
    "print(X)"
   ]
  },
  {
   "cell_type": "code",
   "execution_count": 36,
   "id": "1412486c",
   "metadata": {},
   "outputs": [
    {
     "data": {
      "text/plain": [
       "(500, 1)"
      ]
     },
     "execution_count": 36,
     "metadata": {},
     "output_type": "execute_result"
    }
   ],
   "source": [
    "X.shape"
   ]
  },
  {
   "cell_type": "code",
   "execution_count": 37,
   "id": "6e37b2fb",
   "metadata": {},
   "outputs": [],
   "source": [
    "# Prepara a variável alvo\n",
    "y = df_dsa['salario']"
   ]
  },
  {
   "cell_type": "code",
   "execution_count": 38,
   "id": "288d31b7",
   "metadata": {},
   "outputs": [
    {
     "name": "stdout",
     "output_type": "stream",
     "text": [
      "0      6813.0\n",
      "1      6855.0\n",
      "2      5801.0\n",
      "3      7431.0\n",
      "4      5475.0\n",
      "        ...  \n",
      "495    6259.0\n",
      "496    6099.0\n",
      "497    6170.0\n",
      "498    5064.0\n",
      "499    5236.0\n",
      "Name: salario, Length: 500, dtype: float64\n"
     ]
    }
   ],
   "source": [
    "print(y)"
   ]
  },
  {
   "cell_type": "code",
   "execution_count": 39,
   "id": "5f64ddaa",
   "metadata": {},
   "outputs": [
    {
     "data": {
      "image/png": "[encoded data removed]",
      "text/plain": [
       "<Figure size 640x480 with 1 Axes>"
      ]
     },
     "metadata": {},
     "output_type": "display_data"
    }
   ],
   "source": [
    "# Gráfico de dispersão entre X e Y\n",
    "plt.scatter(X, y, color = 'blue', label = 'Dados Reais Históricos')\n",
    "plt.xlabel('Horas de Estudo')\n",
    "plt.ylabel('Salário')\n",
    "plt.legend()\n",
    "plt.show()"
   ]
  },
  {
   "cell_type": "markdown",
   "id": "c3aaf4a3",
   "metadata": {},
   "source": [
    "O Gráfico demonstra que a correlação que entre as horas de estudo e o salário é uma correlação positiva, isto é, a medida\n",
    "que aumentam o número de horas, aumenta também o salário a receber."
   ]
  },
  {
   "cell_type": "code",
   "execution_count": 40,
   "id": "725f54c6",
   "metadata": {},
   "outputs": [],
   "source": [
    "# Dividir dados em treinamento e teste\n",
    "# o train_test_split faz uma separação aleatória dos dados, isto quer dizer que sempre que executarmos o jupyter notebook, \n",
    "# teremos dados diferentes para as variáveis de treino e teste\n",
    "# dos dados, vamos separar de forma aleatória 20% (test_size = 0.2) para o teste e consequentemente o restante 80% irá para a \n",
    "# amostra de treino\n",
    "X_treino, X_teste, y_treino, y_teste = train_test_split(X, y, test_size = 0.2, random_state = 42)"
   ]
  },
  {
   "cell_type": "code",
   "execution_count": 41,
   "id": "ae85849f",
   "metadata": {},
   "outputs": [
    {
     "data": {
      "text/plain": [
       "(400, 1)"
      ]
     },
     "execution_count": 41,
     "metadata": {},
     "output_type": "execute_result"
    }
   ],
   "source": [
    "X_treino.shape"
   ]
  },
  {
   "cell_type": "code",
   "execution_count": 42,
   "id": "23558bfd",
   "metadata": {},
   "outputs": [
    {
     "data": {
      "text/plain": [
       "(100, 1)"
      ]
     },
     "execution_count": 42,
     "metadata": {},
     "output_type": "execute_result"
    }
   ],
   "source": [
    "X_teste.shape"
   ]
  },
  {
   "cell_type": "code",
   "execution_count": 43,
   "id": "6031c155",
   "metadata": {},
   "outputs": [
    {
     "data": {
      "text/plain": [
       "(400,)"
      ]
     },
     "execution_count": 43,
     "metadata": {},
     "output_type": "execute_result"
    }
   ],
   "source": [
    "y_treino.shape"
   ]
  },
  {
   "cell_type": "code",
   "execution_count": 44,
   "id": "2a767e67",
   "metadata": {},
   "outputs": [
    {
     "data": {
      "text/plain": [
       "(100,)"
      ]
     },
     "execution_count": 44,
     "metadata": {},
     "output_type": "execute_result"
    }
   ],
   "source": [
    "y_teste.shape"
   ]
  },
  {
   "cell_type": "markdown",
   "id": "b0293501",
   "metadata": {},
   "source": [
    "### Modelagem Preditiva (Machine Learning)\n",
    "\n",
    "https://scikit-learn.org/stable/modules/generated/sklearn.linear_model.LinearRegression.html"
   ]
  },
  {
   "cell_type": "code",
   "execution_count": 46,
   "id": "8c3fec19",
   "metadata": {},
   "outputs": [],
   "source": [
    "# Cria o modelo de regressão linear simples\n",
    "modelo = LinearRegression()"
   ]
  },
  {
   "cell_type": "code",
   "execution_count": 48,
   "id": "090ae5d4",
   "metadata": {},
   "outputs": [
    {
     "data": {
      "text/html": [
       "<style>#sk-container-id-2 {color: black;background-color: white;}#sk-container-id-2 pre{padding: 0;}#sk-container-id-2 div.sk-toggleable {background-color: white;}#sk-container-id-2 label.sk-toggleable__label {cursor: pointer;display: block;width: 100%;margin-bottom: 0;padding: 0.3em;box-sizing: border-box;text-align: center;}#sk-container-id-2 label.sk-toggleable__label-arrow:before {content: \"▸\";float: left;margin-right: 0.25em;color: #696969;}#sk-container-id-2 label.sk-toggleable__label-arrow:hover:before {color: black;}#sk-container-id-2 div.sk-estimator:hover label.sk-toggleable__label-arrow:before {color: black;}#sk-container-id-2 div.sk-toggleable__content {max-height: 0;max-width: 0;overflow: hidden;text-align: left;background-color: #f0f8ff;}#sk-container-id-2 div.sk-toggleable__content pre {margin: 0.2em;color: black;border-radius: 0.25em;background-color: #f0f8ff;}#sk-container-id-2 input.sk-toggleable__control:checked~div.sk-toggleable__content {max-height: 200px;max-width: 100%;overflow: auto;}#sk-container-id-2 input.sk-toggleable__control:checked~label.sk-toggleable__label-arrow:before {content: \"▾\";}#sk-container-id-2 div.sk-estimator input.sk-toggleable__control:checked~label.sk-toggleable__label {background-color: #d4ebff;}#sk-container-id-2 div.sk-label input.sk-toggleable__control:checked~label.sk-toggleable__label {background-color: #d4ebff;}#sk-container-id-2 input.sk-hidden--visually {border: 0;clip: rect(1px 1px 1px 1px);clip: rect(1px, 1px, 1px, 1px);height: 1px;margin: -1px;overflow: hidden;padding: 0;position: absolute;width: 1px;}#sk-container-id-2 div.sk-estimator {font-family: monospace;background-color: #f0f8ff;border: 1px dotted black;border-radius: 0.25em;box-sizing: border-box;margin-bottom: 0.5em;}#sk-container-id-2 div.sk-estimator:hover {background-color: #d4ebff;}#sk-container-id-2 div.sk-parallel-item::after {content: \"\";width: 100%;border-bottom: 1px solid gray;flex-grow: 1;}#sk-container-id-2 div.sk-label:hover label.sk-toggleable__label {background-color: #d4ebff;}#sk-container-id-2 div.sk-serial::before {content: \"\";position: absolute;border-left: 1px solid gray;box-sizing: border-box;top: 0;bottom: 0;left: 50%;z-index: 0;}#sk-container-id-2 div.sk-serial {display: flex;flex-direction: column;align-items: center;background-color: white;padding-right: 0.2em;padding-left: 0.2em;position: relative;}#sk-container-id-2 div.sk-item {position: relative;z-index: 1;}#sk-container-id-2 div.sk-parallel {display: flex;align-items: stretch;justify-content: center;background-color: white;position: relative;}#sk-container-id-2 div.sk-item::before, #sk-container-id-2 div.sk-parallel-item::before {content: \"\";position: absolute;border-left: 1px solid gray;box-sizing: border-box;top: 0;bottom: 0;left: 50%;z-index: -1;}#sk-container-id-2 div.sk-parallel-item {display: flex;flex-direction: column;z-index: 1;position: relative;background-color: white;}#sk-container-id-2 div.sk-parallel-item:first-child::after {align-self: flex-end;width: 50%;}#sk-container-id-2 div.sk-parallel-item:last-child::after {align-self: flex-start;width: 50%;}#sk-container-id-2 div.sk-parallel-item:only-child::after {width: 0;}#sk-container-id-2 div.sk-dashed-wrapped {border: 1px dashed gray;margin: 0 0.4em 0.5em 0.4em;box-sizing: border-box;padding-bottom: 0.4em;background-color: white;}#sk-container-id-2 div.sk-label label {font-family: monospace;font-weight: bold;display: inline-block;line-height: 1.2em;}#sk-container-id-2 div.sk-label-container {text-align: center;}#sk-container-id-2 div.sk-container {/* jupyter's `normalize.less` sets `[hidden] { display: none; }` but bootstrap.min.css set `[hidden] { display: none !important; }` so we also need the `!important` here to be able to override the default hidden behavior on the sphinx rendered scikit-learn.org. See: https://github.com/scikit-learn/scikit-learn/issues/21755 */display: inline-block !important;position: relative;}#sk-container-id-2 div.sk-text-repr-fallback {display: none;}</style><div id=\"sk-container-id-2\" class=\"sk-top-container\"><div class=\"sk-text-repr-fallback\"><pre>LinearRegression()</pre><b>In a Jupyter environment, please rerun this cell to show the HTML representation or trust the notebook. <br />On GitHub, the HTML representation is unable to render, please try loading this page with nbviewer.org.</b></div><div class=\"sk-container\" hidden><div class=\"sk-item\"><div class=\"sk-estimator sk-toggleable\"><input class=\"sk-toggleable__control sk-hidden--visually\" id=\"sk-estimator-id-2\" type=\"checkbox\" checked><label for=\"sk-estimator-id-2\" class=\"sk-toggleable__label sk-toggleable__label-arrow\">LinearRegression</label><div class=\"sk-toggleable__content\"><pre>LinearRegression()</pre></div></div></div></div></div>"
      ],
      "text/plain": [
       "LinearRegression()"
      ]
     },
     "execution_count": 48,
     "metadata": {},
     "output_type": "execute_result"
    }
   ],
   "source": [
    "# Treina o modelo\n",
    "modelo.fit(X_treino, y_treino)"
   ]
  },
  {
   "cell_type": "markdown",
   "id": "ef65f493",
   "metadata": {},
   "source": [
    "LinearRegression()\n",
    "In a Jupyter environment, please rerun this cell to show the HTML representation or trust the notebook.\n",
    "On GitHub, the HTML representation is unable to render, please try loading this page with nbviewer.org."
   ]
  },
  {
   "cell_type": "code",
   "execution_count": 49,
   "id": "81dd54b9",
   "metadata": {},
   "outputs": [
    {
     "data": {
      "image/png": "[encoded data removed]",
      "text/plain": [
       "<Figure size 640x480 with 1 Axes>"
      ]
     },
     "metadata": {},
     "output_type": "display_data"
    }
   ],
   "source": [
    "# Visualiza a recta de regressão linear (previsões) e os dados reais usados no treinamento\n",
    "# modelo.predict(X) - previsões de y\n",
    "# Ao criar o modelo, nós estamos buscando uma fórmula matemática (aproximação alvo) que explica a relação entre X e Y \n",
    "# o modelo não será 100% preciso, todo o modelo tem uma taxa de erros que é totalmente aceitável. se a taxa de erro é muito \n",
    "# alta, então é nosso trabalho reduzir a taxa de erro mudando algoritmo, mudando estratégia de pré-processamento, mudando até \n",
    "# chegarmos a uma taxa de erros tolerável e aceitável, de acordo com o problema de negócio que temos em mãos. \n",
    "\n",
    "plt.scatter(X, y, color = 'blue', label = 'Dados Reais Históricos')\n",
    "plt.plot(X, modelo.predict(X), color = 'red', label = 'Recta de Regressão com as Previsões do Modelo')\n",
    "plt.xlabel('Horas de Estudo')\n",
    "plt.ylabel('Salário')\n",
    "plt.legend()\n",
    "plt.show()"
   ]
  },
  {
   "cell_type": "code",
   "execution_count": 50,
   "id": "8fa9fc68",
   "metadata": {},
   "outputs": [
    {
     "name": "stdout",
     "output_type": "stream",
     "text": [
      "Coeficiente R^2: 0.59\n"
     ]
    }
   ],
   "source": [
    "# Os valores abaixo são valores que o modelo aprendeu de acordo com os dados de teste fornecidos:\n",
    "# Coeficiente, modelo.intercept e modelo.coef\n",
    "# Avalia o modelo nos dados de teste\n",
    "score = modelo.score(X_teste, y_teste)\n",
    "print(f\"Coeficiente R^2: {score:.2f}\")"
   ]
  },
  {
   "cell_type": "code",
   "execution_count": 51,
   "id": "1630144a",
   "metadata": {},
   "outputs": [
    {
     "data": {
      "text/plain": [
       "3596.783724372753"
      ]
     },
     "execution_count": 51,
     "metadata": {},
     "output_type": "execute_result"
    }
   ],
   "source": [
    "# Intercepto - parâmetro w0\n",
    "modelo.intercept_"
   ]
  },
  {
   "cell_type": "code",
   "execution_count": 52,
   "id": "a914b28a",
   "metadata": {},
   "outputs": [
    {
     "data": {
      "text/plain": [
       "array([48.18185277])"
      ]
     },
     "execution_count": 52,
     "metadata": {},
     "output_type": "execute_result"
    }
   ],
   "source": [
    "# Slope - parâmetro w1\n",
    "modelo.coef_"
   ]
  },
  {
   "cell_type": "markdown",
   "id": "68f379c1",
   "metadata": {},
   "source": [
    "Algoritmo de Regressão Linear:\n",
    "\n",
    "![DSA](imagens/reglinear.png)"
   ]
  },
  {
   "cell_type": "markdown",
   "id": "e7ec2eb5",
   "metadata": {},
   "source": [
    "### Deploy do modelo: nada mais é do que fazer o uso do modelo, ou ainda entregar o modelo para uso.\n",
    "Usaremos o modelo para prever o salário com base nas horas de estudo."
   ]
  },
  {
   "cell_type": "code",
   "execution_count": 55,
   "id": "5435fa24",
   "metadata": {},
   "outputs": [],
   "source": [
    "# Define um novo valor para as horas de estudo\n",
    "horas_estudo_novo = np.array([[48]])"
   ]
  },
  {
   "cell_type": "code",
   "execution_count": 60,
   "id": "7b132a94",
   "metadata": {},
   "outputs": [
    {
     "name": "stdout",
     "output_type": "stream",
     "text": [
      "[[48]]\n"
     ]
    }
   ],
   "source": [
    "print(horas_estudo_novo)"
   ]
  },
  {
   "cell_type": "code",
   "execution_count": 61,
   "id": "13261f74",
   "metadata": {},
   "outputs": [
    {
     "data": {
      "text/plain": [
       "(1, 1)"
      ]
     },
     "execution_count": 61,
     "metadata": {},
     "output_type": "execute_result"
    }
   ],
   "source": [
    "horas_estudo_novo.shape"
   ]
  },
  {
   "cell_type": "code",
   "execution_count": 63,
   "id": "44d6097a",
   "metadata": {},
   "outputs": [
    {
     "name": "stdout",
     "output_type": "stream",
     "text": [
      "Se você estudar cerca de [[48]] horas por mês, seu salário poderá ser igual a [5909.5126574]\n"
     ]
    }
   ],
   "source": [
    "# Faz a previsão com o modelo de treinamento\n",
    "salario_previsto = modelo.predict(horas_estudo_novo)\n",
    "print(f\"Se você estudar cerca de\", horas_estudo_novo, \"horas por mês, seu salário poderá ser igual a\", salario_previsto)"
   ]
  },
  {
   "cell_type": "code",
   "execution_count": 64,
   "id": "bd1868df",
   "metadata": {},
   "outputs": [
    {
     "name": "stdout",
     "output_type": "stream",
     "text": [
      "[[5909.5126574]]\n"
     ]
    }
   ],
   "source": [
    "# Mesmo resultado anterior usando os parâmetros (coeficientes) aprendidos pelo modelo\n",
    "# y_novo = w0 + w1 * X\n",
    "salario = modelo.intercept_ + (modelo.coef_ * horas_estudo_novo)\n",
    "print(salario)"
   ]
  },
  {
   "cell_type": "code",
   "execution_count": 65,
   "id": "1ec00a60",
   "metadata": {},
   "outputs": [
    {
     "name": "stdout",
     "output_type": "stream",
     "text": [
      "Se você estudar cerca de [[65]] horas por mês, seu salário poderá ser igual a [6728.60415452]\n"
     ]
    }
   ],
   "source": [
    "# Define um novo valor para horas\n",
    "horas_estudo_novo_2 = np.array([[65]])\n",
    "\n",
    "# Faz a previsão do modelo criado\n",
    "salario_previsto_2 = modelo.predict(horas_estudo_novo_2)\n",
    "\n",
    "print(f\"Se você estudar cerca de\", horas_estudo_novo_2, \"horas por mês, seu salário poderá ser igual a\", salario_previsto_2)"
   ]
  },
  {
   "cell_type": "code",
   "execution_count": 66,
   "id": "3485ac5b",
   "metadata": {},
   "outputs": [
    {
     "name": "stdout",
     "output_type": "stream",
     "text": [
      "Se você estudar cerca de [[73]] horas por mês, seu salário poderá ser igual a [7114.05897669]\n"
     ]
    }
   ],
   "source": [
    "# Define um novo valor\n",
    "horas_estudo_novo_3 = np.array([[73]])\n",
    "\n",
    "# Faz a previsão com o modelo treinado\n",
    "salario_previsto_3 = modelo.predict(horas_estudo_novo_3)\n",
    "\n",
    "print(f\"Se você estudar cerca de\", horas_estudo_novo_3, \"horas por mês, seu salário poderá ser igual a\", salario_previsto_3)"
   ]
  },
  {
   "cell_type": "code",
   "execution_count": null,
   "id": "c33e2a94",
   "metadata": {},
   "outputs": [],
   "source": []
  }
 ],
 "metadata": {
  "kernelspec": {
   "display_name": "Python 3 (ipykernel)",
   "language": "python",
   "name": "python3"
  },
  "language_info": {
   "codemirror_mode": {
    "name": "ipython",
    "version": 3
   },
   "file_extension": ".py",
   "mimetype": "text/x-python",
   "name": "python",
   "nbconvert_exporter": "python",
   "pygments_lexer": "ipython3",
   "version": "3.11.6"
  }
 },
 "nbformat": 4,
 "nbformat_minor": 5
}
